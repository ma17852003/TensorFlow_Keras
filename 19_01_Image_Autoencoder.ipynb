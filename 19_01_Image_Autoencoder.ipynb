{
 "cells": [
  {
   "cell_type": "markdown",
   "metadata": {},
   "source": [
    "# Autoencoder 與去除雜訊"
   ]
  },
  {
   "cell_type": "code",
   "execution_count": 2,
   "metadata": {},
   "outputs": [],
   "source": [
    "import numpy as np\n",
    "import tensorflow as tf\n",
    "import tensorflow.keras as K\n",
    "import matplotlib.pyplot as plt\n",
    "from tensorflow.keras.layers import Dense, Conv2D, MaxPooling2D, UpSampling2D"
   ]
  },
  {
   "cell_type": "markdown",
   "metadata": {},
   "source": [
    "## 超參數設定"
   ]
  },
  {
   "cell_type": "code",
   "execution_count": 3,
   "metadata": {},
   "outputs": [],
   "source": [
    "np.random.seed(11)\n",
    "tf.random.set_seed(11)\n",
    "\n",
    "# 超參數設定\n",
    "batch_size = 128\n",
    "max_epochs = 50\n",
    "filters = [32,32,16]\n"
   ]
  },
  {
   "cell_type": "markdown",
   "metadata": {},
   "source": [
    "## 取得 MNIST 訓練資料"
   ]
  },
  {
   "cell_type": "code",
   "execution_count": 5,
   "metadata": {},
   "outputs": [],
   "source": [
    "# 只取 X ，不須 Y\n",
    "(x_train, _), (x_test, _) = K.datasets.mnist.load_data()\n",
    "\n",
    "# 常態化\n",
    "x_train = x_train / 255.\n",
    "x_test = x_test / 255.\n",
    "\n",
    "# 加一維：色彩\n",
    "x_train = np.reshape(x_train, (len(x_train),28, 28, 1))\n",
    "x_test = np.reshape(x_test, (len(x_test), 28, 28, 1))"
   ]
  },
  {
   "cell_type": "markdown",
   "metadata": {},
   "source": [
    "## 在既有圖片加雜訊"
   ]
  },
  {
   "cell_type": "code",
   "execution_count": 6,
   "metadata": {},
   "outputs": [],
   "source": [
    "# 在既有圖片加雜訊\n",
    "noise = 0.5\n",
    "# 隨機加雜訊\n",
    "x_train_noisy = x_train + noise * np.random.normal(loc=0.0, scale=1.0, size=x_train.shape)\n",
    "x_test_noisy = x_test + noise * np.random.normal(loc=0.0, scale=1.0, size=x_test.shape)\n",
    "\n",
    "# 加完裁切數值，不大於 1\n",
    "x_train_noisy = np.clip(x_train_noisy, 0, 1)\n",
    "x_test_noisy = np.clip(x_test_noisy, 0, 1)\n",
    "\n",
    "x_train_noisy = x_train_noisy.astype('float32')\n",
    "x_test_noisy = x_test_noisy.astype('float32')\n",
    "\n",
    "#print(x_test_noisy[1].dtype)"
   ]
  },
  {
   "cell_type": "markdown",
   "metadata": {},
   "source": [
    "## 建立編碼器(Encoder)、解碼器(Decoder) 模型"
   ]
  },
  {
   "cell_type": "code",
   "execution_count": 11,
   "metadata": {},
   "outputs": [],
   "source": [
    "# 編碼器(Encoder)\n",
    "class Encoder(K.layers.Layer):\n",
    "    def __init__(self, filters):\n",
    "        super(Encoder, self).__init__()\n",
    "        self.conv1 = Conv2D(filters=filters[0], kernel_size=3, strides=1, activation='relu', padding='same')\n",
    "        self.conv2 = Conv2D(filters=filters[1], kernel_size=3, strides=1, activation='relu', padding='same')\n",
    "        self.conv3 = Conv2D(filters=filters[2], kernel_size=3, strides=1, activation='relu', padding='same')\n",
    "        self.pool = MaxPooling2D((2, 2), padding='same')\n",
    "               \n",
    "    \n",
    "    def call(self, input_features):\n",
    "        x = self.conv1(input_features)\n",
    "        #print(\"Ex1\", x.shape)\n",
    "        x = self.pool(x)\n",
    "        #print(\"Ex2\", x.shape)\n",
    "        x = self.conv2(x)\n",
    "        x = self.pool(x)\n",
    "        x = self.conv3(x)\n",
    "        x = self.pool(x)\n",
    "        return x\n",
    "\n",
    "# 解碼器(Decoder)\n",
    "class Decoder(K.layers.Layer):\n",
    "    def __init__(self, filters):\n",
    "        super(Decoder, self).__init__()\n",
    "        self.conv1 = Conv2D(filters=filters[2], kernel_size=3, strides=1, activation='relu', padding='same')\n",
    "        self.conv2 = Conv2D(filters=filters[1], kernel_size=3, strides=1, activation='relu', padding='same')\n",
    "        self.conv3 = Conv2D(filters=filters[0], kernel_size=3, strides=1, activation='relu', padding='valid')\n",
    "        self.conv4 = Conv2D(1, 3, 1, activation='sigmoid', padding='same')\n",
    "        self.upsample = UpSampling2D((2, 2))\n",
    "  \n",
    "    def call(self, encoded):\n",
    "        x = self.conv1(encoded)\n",
    "        # 上採樣\n",
    "        x = self.upsample(x)\n",
    "\n",
    "        x = self.conv2(x)\n",
    "        x = self.upsample(x)\n",
    "        \n",
    "        x = self.conv3(x)\n",
    "        x = self.upsample(x)\n",
    "        \n",
    "        return self.conv4(x)"
   ]
  },
  {
   "cell_type": "markdown",
   "metadata": {},
   "source": [
    "## Autoencoder 結構，結合編碼器(Encoder)、解碼器(Decoder) 模型"
   ]
  },
  {
   "cell_type": "code",
   "execution_count": 12,
   "metadata": {},
   "outputs": [],
   "source": [
    "class Autoencoder(K.Model):\n",
    "    def __init__(self, filters):\n",
    "        super(Autoencoder, self).__init__()\n",
    "        self.loss = []\n",
    "        self.encoder = Encoder(filters)\n",
    "        self.decoder = Decoder(filters)\n",
    "\n",
    "    def call(self, input_features):\n",
    "        #print(input_features.shape)\n",
    "        encoded = self.encoder(input_features)\n",
    "        #print(encoded.shape)\n",
    "        reconstructed = self.decoder(encoded)\n",
    "        #print(reconstructed.shape)\n",
    "        return reconstructed"
   ]
  },
  {
   "cell_type": "markdown",
   "metadata": {},
   "source": [
    "## 訓練模型"
   ]
  },
  {
   "cell_type": "code",
   "execution_count": 13,
   "metadata": {
    "scrolled": true
   },
   "outputs": [
    {
     "name": "stdout",
     "output_type": "stream",
     "text": [
      "Epoch 1/50\n",
      "469/469 [==============================] - 7s 15ms/step - loss: 0.2046 - val_loss: 0.1498\n",
      "Epoch 2/50\n",
      "469/469 [==============================] - 6s 14ms/step - loss: 0.1412 - val_loss: 0.1319\n",
      "Epoch 3/50\n",
      "469/469 [==============================] - 6s 14ms/step - loss: 0.1289 - val_loss: 0.1237\n",
      "Epoch 4/50\n",
      "469/469 [==============================] - 6s 14ms/step - loss: 0.1223 - val_loss: 0.1190\n",
      "Epoch 5/50\n",
      "469/469 [==============================] - 6s 14ms/step - loss: 0.1179 - val_loss: 0.1152\n",
      "Epoch 6/50\n",
      "469/469 [==============================] - 6s 14ms/step - loss: 0.1150 - val_loss: 0.1129\n",
      "Epoch 7/50\n",
      "469/469 [==============================] - 6s 13ms/step - loss: 0.1126 - val_loss: 0.1109\n",
      "Epoch 8/50\n",
      "469/469 [==============================] - 6s 13ms/step - loss: 0.1109 - val_loss: 0.1093\n",
      "Epoch 9/50\n",
      "469/469 [==============================] - 6s 13ms/step - loss: 0.1094 - val_loss: 0.1081\n",
      "Epoch 10/50\n",
      "469/469 [==============================] - 6s 13ms/step - loss: 0.1082 - val_loss: 0.1073\n",
      "Epoch 11/50\n",
      "469/469 [==============================] - 6s 13ms/step - loss: 0.1072 - val_loss: 0.1062\n",
      "Epoch 12/50\n",
      "469/469 [==============================] - 6s 13ms/step - loss: 0.1064 - val_loss: 0.1058\n",
      "Epoch 13/50\n",
      "469/469 [==============================] - 6s 13ms/step - loss: 0.1056 - val_loss: 0.1049\n",
      "Epoch 14/50\n",
      "469/469 [==============================] - 6s 13ms/step - loss: 0.1051 - val_loss: 0.1039\n",
      "Epoch 15/50\n",
      "469/469 [==============================] - 6s 13ms/step - loss: 0.1045 - val_loss: 0.1037\n",
      "Epoch 16/50\n",
      "469/469 [==============================] - 6s 13ms/step - loss: 0.1040 - val_loss: 0.1034\n",
      "Epoch 17/50\n",
      "469/469 [==============================] - 6s 13ms/step - loss: 0.1035 - val_loss: 0.1032\n",
      "Epoch 18/50\n",
      "469/469 [==============================] - 6s 13ms/step - loss: 0.1031 - val_loss: 0.1023\n",
      "Epoch 19/50\n",
      "469/469 [==============================] - 6s 13ms/step - loss: 0.1028 - val_loss: 0.1018\n",
      "Epoch 20/50\n",
      "469/469 [==============================] - 6s 13ms/step - loss: 0.1024 - val_loss: 0.1020\n",
      "Epoch 21/50\n",
      "469/469 [==============================] - 6s 13ms/step - loss: 0.1022 - val_loss: 0.1015\n",
      "Epoch 22/50\n",
      "469/469 [==============================] - 6s 13ms/step - loss: 0.1020 - val_loss: 0.1017\n",
      "Epoch 23/50\n",
      "469/469 [==============================] - 6s 13ms/step - loss: 0.1017 - val_loss: 0.1013\n",
      "Epoch 24/50\n",
      "469/469 [==============================] - 6s 13ms/step - loss: 0.1015 - val_loss: 0.1010\n",
      "Epoch 25/50\n",
      "469/469 [==============================] - 6s 13ms/step - loss: 0.1013 - val_loss: 0.1012\n",
      "Epoch 26/50\n",
      "469/469 [==============================] - 6s 13ms/step - loss: 0.1011 - val_loss: 0.1012\n",
      "Epoch 27/50\n",
      "469/469 [==============================] - 6s 13ms/step - loss: 0.1008 - val_loss: 0.1003\n",
      "Epoch 28/50\n",
      "469/469 [==============================] - 6s 13ms/step - loss: 0.1007 - val_loss: 0.1003\n",
      "Epoch 29/50\n",
      "469/469 [==============================] - 6s 13ms/step - loss: 0.1006 - val_loss: 0.1002\n",
      "Epoch 30/50\n",
      "469/469 [==============================] - 6s 13ms/step - loss: 0.1003 - val_loss: 0.1000\n",
      "Epoch 31/50\n",
      "469/469 [==============================] - 6s 13ms/step - loss: 0.1003 - val_loss: 0.1009\n",
      "Epoch 32/50\n",
      "469/469 [==============================] - 6s 14ms/step - loss: 0.1002 - val_loss: 0.1012\n",
      "Epoch 33/50\n",
      "469/469 [==============================] - 7s 14ms/step - loss: 0.1000 - val_loss: 0.0996\n",
      "Epoch 34/50\n",
      "469/469 [==============================] - 6s 14ms/step - loss: 0.0998 - val_loss: 0.0998\n",
      "Epoch 35/50\n",
      "469/469 [==============================] - 6s 14ms/step - loss: 0.0999 - val_loss: 0.1002\n",
      "Epoch 36/50\n",
      "469/469 [==============================] - 6s 14ms/step - loss: 0.0997 - val_loss: 0.0995\n",
      "Epoch 37/50\n",
      "469/469 [==============================] - 6s 14ms/step - loss: 0.0995 - val_loss: 0.0991\n",
      "Epoch 38/50\n",
      "469/469 [==============================] - 6s 14ms/step - loss: 0.0995 - val_loss: 0.0993\n",
      "Epoch 39/50\n",
      "469/469 [==============================] - 6s 14ms/step - loss: 0.0994 - val_loss: 0.0990\n",
      "Epoch 40/50\n",
      "469/469 [==============================] - 6s 13ms/step - loss: 0.0994 - val_loss: 0.0991\n",
      "Epoch 41/50\n",
      "469/469 [==============================] - 6s 13ms/step - loss: 0.0993 - val_loss: 0.0986\n",
      "Epoch 42/50\n",
      "469/469 [==============================] - 6s 14ms/step - loss: 0.0991 - val_loss: 0.0991\n",
      "Epoch 43/50\n",
      "469/469 [==============================] - 6s 14ms/step - loss: 0.0991 - val_loss: 0.0986\n",
      "Epoch 44/50\n",
      "469/469 [==============================] - 6s 13ms/step - loss: 0.0990 - val_loss: 0.0985\n",
      "Epoch 45/50\n",
      "469/469 [==============================] - 6s 14ms/step - loss: 0.0989 - val_loss: 0.0987\n",
      "Epoch 46/50\n",
      "469/469 [==============================] - 6s 14ms/step - loss: 0.0989 - val_loss: 0.0986\n",
      "Epoch 47/50\n",
      "469/469 [==============================] - 6s 14ms/step - loss: 0.0989 - val_loss: 0.0985\n",
      "Epoch 48/50\n",
      "469/469 [==============================] - 6s 14ms/step - loss: 0.0987 - val_loss: 0.0983\n",
      "Epoch 49/50\n",
      "469/469 [==============================] - 7s 14ms/step - loss: 0.0987 - val_loss: 0.0989\n",
      "Epoch 50/50\n",
      "469/469 [==============================] - 6s 14ms/step - loss: 0.0986 - val_loss: 0.0990\n"
     ]
    }
   ],
   "source": [
    "model = Autoencoder(filters)\n",
    "\n",
    "model.compile(loss='binary_crossentropy', optimizer='adam')\n",
    "\n",
    "loss = model.fit(x_train_noisy,\n",
    "                x_train,\n",
    "                validation_data=(x_test_noisy, x_test),\n",
    "                epochs=max_epochs,\n",
    "                batch_size=batch_size)"
   ]
  },
  {
   "cell_type": "markdown",
   "metadata": {},
   "source": [
    "## 繪製損失函數"
   ]
  },
  {
   "cell_type": "code",
   "execution_count": 14,
   "metadata": {},
   "outputs": [
    {
     "data": {
      "image/png": "[encoded data removed]",
      "text/plain": [
       "<Figure size 432x288 with 1 Axes>"
      ]
     },
     "metadata": {
      "needs_background": "light"
     },
     "output_type": "display_data"
    }
   ],
   "source": [
    "# 繪製損失函數\n",
    "plt.plot(range(max_epochs), loss.history['loss'])\n",
    "plt.xlabel('Epochs')\n",
    "plt.ylabel('Loss')\n",
    "plt.show()"
   ]
  },
  {
   "cell_type": "markdown",
   "metadata": {},
   "source": [
    "## 比較加了雜訊的圖與訓練後的圖"
   ]
  },
  {
   "cell_type": "code",
   "execution_count": 15,
   "metadata": {
    "scrolled": true
   },
   "outputs": [
    {
     "data": {
      "image/png": "[encoded data removed]",
      "text/plain": [
       "<Figure size 1440x288 with 20 Axes>"
      ]
     },
     "metadata": {
      "needs_background": "light"
     },
     "output_type": "display_data"
    }
   ],
   "source": [
    "number = 10  # how many digits we will display\n",
    "plt.figure(figsize=(20, 4))\n",
    "for index in range(number):\n",
    "    # display original\n",
    "    ax = plt.subplot(2, number, index + 1)\n",
    "    plt.imshow(x_test_noisy[index].reshape(28, 28), cmap='gray')\n",
    "    ax.get_xaxis().set_visible(False)\n",
    "    ax.get_yaxis().set_visible(False)\n",
    "\n",
    "    # display reconstruction\n",
    "    ax = plt.subplot(2, number, index + 1 + number)\n",
    "    plt.imshow(tf.reshape(model(x_test_noisy)[index], (28, 28)), cmap='gray')\n",
    "    ax.get_xaxis().set_visible(False)\n",
    "    ax.get_yaxis().set_visible(False)\n",
    "plt.show()"
   ]
  },
  {
   "cell_type": "code",
   "execution_count": null,
   "metadata": {},
   "outputs": [],
   "source": []
  }
 ],
 "metadata": {
  "kernelspec": {
   "display_name": "Python 3",
   "language": "python",
   "name": "python3"
  },
  "language_info": {
   "codemirror_mode": {
    "name": "ipython",
    "version": 3
   },
   "file_extension": ".py",
   "mimetype": "text/x-python",
   "name": "python",
   "nbconvert_exporter": "python",
   "pygments_lexer": "ipython3",
   "version": "3.8.3"
  }
 },
 "nbformat": 4,
 "nbformat_minor": 2
}
