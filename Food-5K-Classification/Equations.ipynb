{
 "cells": [
  {
   "cell_type": "markdown",
   "metadata": {
    "colab_type": "text",
    "id": "5fSQtZvzahBK"
   },
   "source": [
    "## Equations\n",
    "\n",
    "\n",
    "---\n",
    "\n",
    "\n",
    "Comparison of Supervised Learning \n",
    "Image Classification Algorithms \n",
    "for Food and Non-Food Objects Detection\n",
    "\n",
    "By: Reza Yogaswara"
   ]
  },
  {
   "cell_type": "markdown",
   "metadata": {
    "colab_type": "text",
    "id": "1IuUzNX3Nt5G"
   },
   "source": [
    "$p = \\frac{1}{1 + e^{(-y)}}$\n"
   ]
  },
  {
   "cell_type": "markdown",
   "metadata": {
    "colab_type": "text",
    "id": "Nj0vsl6j4pc9"
   },
   "source": [
    "$p = \\frac{1}{1 + e^{(b_0 + b_1x)}}$"
   ]
  },
  {
   "cell_type": "markdown",
   "metadata": {
    "colab_type": "text",
    "id": "aEzdRq3YNt5J"
   },
   "source": [
    "$\\sum_{i=0}^n i^2 = \\frac{(n^2+n)(2n+1)}{6}$"
   ]
  },
  {
   "cell_type": "markdown",
   "metadata": {
    "colab_type": "text",
    "id": "nGYujXvpVANb"
   },
   "source": [
    "$\\frac {p}{1-p} = exp(b_0 + b_1x)$"
   ]
  },
  {
   "cell_type": "markdown",
   "metadata": {
    "colab_type": "text",
    "id": "hyqqkyZh2VZK"
   },
   "source": [
    "$p(y=1|x) = \\frac {e^{(b_0 + b_1x)}}{1 + e^{(b_0 + b_1x)}} = \\frac{1}{1 + e^{(-y)}}$"
   ]
  },
  {
   "cell_type": "markdown",
   "metadata": {
    "colab_type": "text",
    "id": "kSZtHB5a6waA"
   },
   "source": [
    "$p(y=1|x) = 1\\quad\\mathsf {if}\\quad b_1x \\ge 0$\n",
    "\n",
    "$p(y=1|x) = 0\\quad\\mathsf {if}\\quad b_1x < 0$\n",
    "\n"
   ]
  },
  {
   "cell_type": "markdown",
   "metadata": {
    "colab_type": "text",
    "id": "XLIE3Sxu82zC"
   },
   "source": [
    "$x =  Input$\n",
    "\n",
    "$b_0 = Bias $\n",
    "\n",
    "$b_1 = The \\ weight \\ vector$\n",
    "\n",
    "$y = The \\ prediction, \\ 1 \\ if \\ \"yes\" \\ and \\ 0 \\ if \\ \"no\"$"
   ]
  },
  {
   "cell_type": "markdown",
   "metadata": {
    "colab_type": "text",
    "id": "8joPYFZwYWab"
   },
   "source": [
    "$J = -\\frac{1}{m}\\sum_{i=1}^{m}y^{(i)}\\log(a^{(i)})+(1-y^{(i)})\\log(1-a^{(i)})$"
   ]
  },
  {
   "cell_type": "code",
   "execution_count": null,
   "metadata": {
    "colab": {
     "autoexec": {
      "startup": false,
      "wait_interval": 0
     }
    },
    "colab_type": "code",
    "id": "fxzpYx2KYXBj"
   },
   "outputs": [],
   "source": []
  },
  {
   "cell_type": "code",
   "execution_count": null,
   "metadata": {},
   "outputs": [],
   "source": []
  },
  {
   "cell_type": "code",
   "execution_count": null,
   "metadata": {},
   "outputs": [],
   "source": []
  },
  {
   "cell_type": "code",
   "execution_count": null,
   "metadata": {},
   "outputs": [],
   "source": []
  },
  {
   "cell_type": "code",
   "execution_count": null,
   "metadata": {},
   "outputs": [],
   "source": []
  }
 ],
 "metadata": {
  "colab": {
   "collapsed_sections": [],
   "default_view": {},
   "name": "Equations.ipynb",
   "provenance": [],
   "version": "0.3.2",
   "views": {}
  },
  "kernelspec": {
   "display_name": "Python 3",
   "language": "python",
   "name": "python3"
  },
  "language_info": {
   "codemirror_mode": {
    "name": "ipython",
    "version": 3
   },
   "file_extension": ".py",
   "mimetype": "text/x-python",
   "name": "python",
   "nbconvert_exporter": "python",
   "pygments_lexer": "ipython3",
   "version": "3.6.4"
  }
 },
 "nbformat": 4,
 "nbformat_minor": 1
}
