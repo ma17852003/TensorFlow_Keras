{
 "cells": [
  {
   "cell_type": "markdown",
   "metadata": {},
   "source": [
    "# 策略迭代(Policy Iteration)"
   ]
  },
  {
   "cell_type": "code",
   "execution_count": 4,
   "metadata": {},
   "outputs": [],
   "source": [
    "import numpy as np\n",
    "import pprint\n",
    "import sys\n",
    "from lib.envs.gridworld import GridworldEnv"
   ]
  },
  {
   "cell_type": "code",
   "execution_count": 5,
   "metadata": {},
   "outputs": [],
   "source": [
    "# 載入遊戲\n",
    "pp = pprint.PrettyPrinter(indent=2)\n",
    "env = GridworldEnv()"
   ]
  },
  {
   "cell_type": "code",
   "execution_count": 6,
   "metadata": {},
   "outputs": [],
   "source": [
    "# 策略評估函數\n",
    "def policy_eval(policy, env, discount_factor=1.0, theta=0.00001):\n",
    "    \"\"\"\n",
    "    policy: [S, A] shaped matrix representing the policy.\n",
    "    env.P：狀態轉移機率矩陣\n",
    "    env.P[s][a]：(prob, next_state, reward, done) 陣列\n",
    "    env.nS：狀態總數\n",
    "    env.nA：行動總數\n",
    "    theta: 狀態值函數變動 <= theta，即停止進行。\n",
    "    discount_factor: 獎勵折扣率(Gamma)\n",
    "    \n",
    "    傳回【狀態值函數】\n",
    "    \"\"\"\n",
    "    # 一開始【狀態值函數】均為 0\n",
    "    V = np.zeros(env.nS)\n",
    "    while True:\n",
    "        delta = 0\n",
    "        # For each state, perform a \"full backup\"\n",
    "        for s in range(env.nS):\n",
    "            v = 0\n",
    "            # 執行每一種可能的行動\n",
    "            for a, action_prob in enumerate(policy[s]):\n",
    "                # 行動可能到達的每一種狀態\n",
    "                for  prob, next_state, reward, done in env.P[s][a]:\n",
    "                    # 計算【狀態值函數】期望值，參考圖三. 狀態值函數公式\n",
    "                    v += action_prob * prob * (reward + discount_factor * V[next_state])\n",
    "            # 找出每一個位置的這一輪與上一輪狀態值函數差異最大者\n",
    "            delta = max(delta, np.abs(v - V[s]))\n",
    "            V[s] = v\n",
    "        # 最大差異 < 事先設定值 theta，則停止評估\n",
    "        if delta < theta:\n",
    "            break\n",
    "    return np.array(V)"
   ]
  },
  {
   "cell_type": "code",
   "execution_count": 7,
   "metadata": {},
   "outputs": [],
   "source": [
    "# 策略改善函數\n",
    "def policy_improvement(env, policy_eval_fn=policy_eval, discount_factor=1.0):\n",
    "    \"\"\"\n",
    "    policy_eval_fn: 策略評估函數。\n",
    "    discount_factor: 獎勵折扣率(Gamma)\n",
    "        \n",
    "    Returns:\n",
    "        傳回 (policy, V) 陣列. \n",
    "        - policy：是最佳策略, [S, A] 二為矩陣，含每個狀態/行動組合的機率分配.\n",
    "        - V：狀態值函數。\n",
    "        \n",
    "    \"\"\"\n",
    "\n",
    "    # 走下一步的處理，計算行動值函數\n",
    "    def one_step_lookahead(state, V):\n",
    "        \"\"\"\n",
    "        state: 狀態值\n",
    "        V: 狀態值函數\n",
    "        \n",
    "        傳回【行動值函數】\n",
    "        \"\"\"\n",
    "        A = np.zeros(env.nA)\n",
    "        # 圖四. 行動值函數公式\n",
    "        for a in range(env.nA):\n",
    "            for prob, next_state, reward, done in env.P[state][a]:\n",
    "                A[a] += prob * (reward + discount_factor * V[next_state])\n",
    "        return A\n",
    "    \n",
    "    # 隨機策略，每一個位置往上、下、左、右走的機率均為 0.25。\n",
    "    policy = np.ones([env.nS, env.nA]) / env.nA\n",
    "    \n",
    "    while True:\n",
    "        # 策略評估\n",
    "        V = policy_eval_fn(policy, env, discount_factor)\n",
    "        \n",
    "        # 策略是否趨於穩定的旗標\n",
    "        policy_stable = True\n",
    "        \n",
    "        # 每一個狀態均採貪婪戰術\n",
    "        for s in range(env.nS):\n",
    "            # 貪婪戰術\n",
    "            chosen_a = np.argmax(policy[s])\n",
    "            \n",
    "            # 走下一步的處理，計算行動值函數\n",
    "            action_values = one_step_lookahead(s, V)\n",
    "            # 找出最大行動值函數\n",
    "            best_a = np.argmax(action_values)\n",
    "            \n",
    "            # 貪婪戰術 不等於 最大行動值函數，繼續迭代\n",
    "            if chosen_a != best_a:\n",
    "                policy_stable = False\n",
    "            # 設定目前狀態下最佳的行動\n",
    "            policy[s] = np.eye(env.nA)[best_a]\n",
    "        \n",
    "        # 策略趨於穩定就結束訓練\n",
    "        if policy_stable:\n",
    "            return policy, V"
   ]
  },
  {
   "cell_type": "markdown",
   "metadata": {},
   "source": [
    "## 測試：顯示策略，即在每個狀態/行動組合的機率分配"
   ]
  },
  {
   "cell_type": "code",
   "execution_count": 8,
   "metadata": {},
   "outputs": [
    {
     "name": "stdout",
     "output_type": "stream",
     "text": [
      "Policy Probability Distribution:\n",
      "[[1. 0. 0. 0.]\n",
      " [0. 0. 0. 1.]\n",
      " [0. 0. 0. 1.]\n",
      " [0. 0. 1. 0.]\n",
      " [1. 0. 0. 0.]\n",
      " [1. 0. 0. 0.]\n",
      " [1. 0. 0. 0.]\n",
      " [0. 0. 1. 0.]\n",
      " [1. 0. 0. 0.]\n",
      " [1. 0. 0. 0.]\n",
      " [0. 1. 0. 0.]\n",
      " [0. 0. 1. 0.]\n",
      " [1. 0. 0. 0.]\n",
      " [0. 1. 0. 0.]\n",
      " [0. 1. 0. 0.]\n",
      " [1. 0. 0. 0.]]\n",
      "\n"
     ]
    }
   ],
   "source": [
    "policy, v = policy_improvement(env)\n",
    "print(\"Policy Probability Distribution:\")\n",
    "print(policy)\n",
    "print(\"\")"
   ]
  },
  {
   "cell_type": "markdown",
   "metadata": {},
   "source": [
    "## 顯示狀態值函數"
   ]
  },
  {
   "cell_type": "code",
   "execution_count": 9,
   "metadata": {
    "scrolled": true
   },
   "outputs": [
    {
     "name": "stdout",
     "output_type": "stream",
     "text": [
      "Reshaped Grid Policy (0=up, 1=right, 2=down, 3=left):\n",
      "[[0 3 3 2]\n",
      " [0 0 0 2]\n",
      " [0 0 1 2]\n",
      " [0 1 1 0]]\n",
      "\n",
      "Value Function:\n",
      "[ 0. -1. -2. -3. -1. -2. -3. -2. -2. -3. -2. -1. -3. -2. -1.  0.]\n",
      "\n",
      "Reshaped Grid Value Function:\n",
      "[[ 0. -1. -2. -3.]\n",
      " [-1. -2. -3. -2.]\n",
      " [-2. -3. -2. -1.]\n",
      " [-3. -2. -1.  0.]]\n",
      "\n"
     ]
    }
   ],
   "source": [
    "print(\"Reshaped Grid Policy (0=up, 1=right, 2=down, 3=left):\")\n",
    "print(np.reshape(np.argmax(policy, axis=1), env.shape))\n",
    "print(\"\")\n",
    "\n",
    "print(\"Value Function:\")\n",
    "print(v)\n",
    "print(\"\")\n",
    "\n",
    "print(\"Reshaped Grid Value Function:\")\n",
    "print(v.reshape(env.shape))\n",
    "print(\"\")"
   ]
  },
  {
   "cell_type": "markdown",
   "metadata": {},
   "source": [
    "## 顯示最後結果"
   ]
  },
  {
   "cell_type": "code",
   "execution_count": 10,
   "metadata": {},
   "outputs": [],
   "source": [
    "# Test the value function\n",
    "expected_v = np.array([ 0, -1, -2, -3, -1, -2, -3, -2, -2, -3, -2, -1, -3, -2, -1,  0])\n",
    "np.testing.assert_array_almost_equal(v, expected_v, decimal=2)"
   ]
  },
  {
   "cell_type": "code",
   "execution_count": null,
   "metadata": {},
   "outputs": [],
   "source": []
  }
 ],
 "metadata": {
  "kernelspec": {
   "display_name": "Python 3",
   "language": "python",
   "name": "python3"
  },
  "language_info": {
   "codemirror_mode": {
    "name": "ipython",
    "version": 3
   },
   "file_extension": ".py",
   "mimetype": "text/x-python",
   "name": "python",
   "nbconvert_exporter": "python",
   "pygments_lexer": "ipython3",
   "version": "3.8.3"
  }
 },
 "nbformat": 4,
 "nbformat_minor": 1
}
