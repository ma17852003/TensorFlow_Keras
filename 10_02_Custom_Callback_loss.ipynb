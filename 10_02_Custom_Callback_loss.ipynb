{
 "cells": [
  {
   "cell_type": "markdown",
   "metadata": {},
   "source": [
    "# 自訂(Custom) Callback"
   ]
  },
  {
   "cell_type": "code",
   "execution_count": 1,
   "metadata": {},
   "outputs": [],
   "source": [
    "import tensorflow as tf\n",
    "mnist = tf.keras.datasets.mnist\n",
    "\n",
    "\n",
    "# 匯入 MNIST 手寫阿拉伯數字 訓練資料\n",
    "(x_train, y_train),(x_test, y_test) = mnist.load_data()\n",
    "\n",
    "\n",
    "# 訓練/測試資料的 X/y 維度\n",
    "x_train.shape, y_train.shape,x_test.shape, y_test.shape\n",
    "\n",
    "# 特徵縮放，使用常態化(Normalization)，公式 = (x - min) / (max - min)\n",
    "# 顏色範圍：0~255，所以，公式簡化為 x / 255\n",
    "# 注意，顏色0為白色，與RGB顏色不同，(0,0,0) 為黑色。\n",
    "x_train_norm, x_test_norm = x_train / 255.0, x_test / 255.0"
   ]
  },
  {
   "cell_type": "code",
   "execution_count": 2,
   "metadata": {},
   "outputs": [],
   "source": [
    "# 建立模型\n",
    "model = tf.keras.models.Sequential([\n",
    "  tf.keras.layers.Flatten(input_shape=(28, 28)),\n",
    "  tf.keras.layers.Dense(128, activation='relu'),\n",
    "  tf.keras.layers.Dropout(0.2),\n",
    "  tf.keras.layers.Dense(10, activation='softmax')\n",
    "])\n"
   ]
  },
  {
   "cell_type": "code",
   "execution_count": 6,
   "metadata": {},
   "outputs": [],
   "source": [
    "# 設定優化器(optimizer)、損失函數(loss)、效能衡量指標(metrics)的類別\n",
    "model.compile(optimizer='adam',\n",
    "              loss='mean_squared_error',\n",
    "              metrics=['accuracy'])"
   ]
  },
  {
   "cell_type": "code",
   "execution_count": 7,
   "metadata": {},
   "outputs": [],
   "source": [
    "y_train_one_hot_encoding = tf.keras.utils.to_categorical(y_train)"
   ]
  },
  {
   "cell_type": "code",
   "execution_count": 4,
   "metadata": {},
   "outputs": [],
   "source": [
    "import pandas as pd\n",
    "\n",
    "df = pd.DataFrame(columns=['epoch', 'batch', 'metrics'])"
   ]
  },
  {
   "cell_type": "code",
   "execution_count": 5,
   "metadata": {},
   "outputs": [],
   "source": [
    "class CustomCallback_2(tf.keras.callbacks.Callback):\n",
    "    def __init__(self):\n",
    "        self.task_type=''\n",
    "        self.epoch=0\n",
    "        self.batch=0\n",
    "        self.df = pd.DataFrame(columns=['epoch', 'batch', 'metrics'])\n",
    "        \n",
    "    def on_train_begin(self, logs=None):\n",
    "        self.task_type='訓練'\n",
    "        print(\"訓練開始...\")\n",
    "\n",
    "    def on_train_end(self, logs=None):\n",
    "        print(self.df.shape)\n",
    "        global df\n",
    "        df = self.df\n",
    "        print(\"訓練結束.\")\n",
    "\n",
    "    def on_epoch_begin(self, epoch, logs=None):\n",
    "        self.epoch=epoch\n",
    "#         print(f\"{self.task_type}第 {epoch} 執行週期開始...\")\n",
    "\n",
    "#     def on_epoch_end(self, epoch, logs=None):\n",
    "#         print(f\"{self.task_type}第 {epoch} 執行週期結束.\")\n",
    "\n",
    "#     def on_test_begin(self, logs=None):\n",
    "#         self.task_type='測試'\n",
    "#         print(\"測試開始...\")\n",
    "\n",
    "#     def on_test_end(self, logs=None):\n",
    "#         print(\"測試結束.\")\n",
    "\n",
    "#     def on_predict_begin(self, logs=None):\n",
    "#         self.task_type='預測'\n",
    "#         print(\"預測開始...\")\n",
    "\n",
    "#     def on_predict_end(self, logs=None):\n",
    "#         print(\"預測結束.\")\n",
    "\n",
    "#     def on_train_batch_begin(self, batch, logs=None):\n",
    "#         print(f\"訓練 第 {self.epoch} 執行週期, 第 {batch} 批次開始...\")\n",
    "\n",
    "    def on_train_batch_end(self, batch, logs=None):\n",
    "        # 新增資料至 df2 DataFrame\n",
    "#         print(f\"訓練 第 {self.epoch} 執行週期, 第 {batch} 批次結束.\")\n",
    "#         df2 = pd.DataFrame([[self.epoch, self.batch, logs[\"loss\"]]], columns=['epoch', 'batch', 'weight'])\n",
    "#         df2 = pd.DataFrame([[self.epoch, self.batch, self.model.get_weights()]], columns=['epoch', 'batch', 'weight'])\n",
    "        df2 = pd.DataFrame([[self.epoch, batch, logs[\"loss\"]]], columns=['epoch', 'batch', 'metrics'])\n",
    "        self.df = self.df.append(df2, ignore_index=True)\n",
    "\n",
    "#     def on_test_batch_begin(self, batch, logs=None):\n",
    "#         print(f\"測試 第 {self.epoch} 執行週期, 第 {batch} 批次開始...\")\n",
    "\n",
    "#     def on_test_batch_end(self, batch, logs=None):\n",
    "#         print(f\"測試 第 {self.epoch} 執行週期, 第 {batch} 批次結束.\")\n",
    "\n",
    "#     def on_predict_batch_begin(self, batch, logs=None):\n",
    "#         print(f\"預測 第 {self.epoch} 執行週期, 第 {batch} 批次開始...\")\n",
    "\n",
    "#     def on_predict_batch_end(self, batch, logs=None):\n",
    "#         print(f\"預測 第 {self.epoch} 執行週期, 第 {batch} 批次結束.\")\n"
   ]
  },
  {
   "cell_type": "code",
   "execution_count": 8,
   "metadata": {
    "scrolled": true
   },
   "outputs": [
    {
     "name": "stdout",
     "output_type": "stream",
     "text": [
      "訓練開始...\n",
      "(2820, 3)\n",
      "訓練結束.\n"
     ]
    },
    {
     "data": {
      "text/plain": [
       "<tensorflow.python.keras.callbacks.History at 0x293bccdb208>"
      ]
     },
     "execution_count": 8,
     "metadata": {},
     "output_type": "execute_result"
    }
   ],
   "source": [
    "model.fit(x_train_norm, y_train_one_hot_encoding, epochs=15, batch_size=256, verbose=0, validation_split=0.2, callbacks=[CustomCallback_2()])"
   ]
  },
  {
   "cell_type": "code",
   "execution_count": 9,
   "metadata": {},
   "outputs": [],
   "source": [
    "df.to_excel('./custom_callback.xlsx')"
   ]
  },
  {
   "cell_type": "code",
   "execution_count": 10,
   "metadata": {
    "scrolled": true
   },
   "outputs": [
    {
     "data": {
      "text/html": [
       "<div>\n",
       "<style scoped>\n",
       "    .dataframe tbody tr th:only-of-type {\n",
       "        vertical-align: middle;\n",
       "    }\n",
       "\n",
       "    .dataframe tbody tr th {\n",
       "        vertical-align: top;\n",
       "    }\n",
       "\n",
       "    .dataframe thead th {\n",
       "        text-align: right;\n",
       "    }\n",
       "</style>\n",
       "<table border=\"1\" class=\"dataframe\">\n",
       "  <thead>\n",
       "    <tr style=\"text-align: right;\">\n",
       "      <th></th>\n",
       "      <th>epoch</th>\n",
       "      <th>batch</th>\n",
       "      <th>metrics</th>\n",
       "    </tr>\n",
       "  </thead>\n",
       "  <tbody>\n",
       "    <tr>\n",
       "      <th>0</th>\n",
       "      <td>0</td>\n",
       "      <td>0</td>\n",
       "      <td>0.091710</td>\n",
       "    </tr>\n",
       "    <tr>\n",
       "      <th>1</th>\n",
       "      <td>0</td>\n",
       "      <td>1</td>\n",
       "      <td>0.089310</td>\n",
       "    </tr>\n",
       "    <tr>\n",
       "      <th>2</th>\n",
       "      <td>0</td>\n",
       "      <td>2</td>\n",
       "      <td>0.085851</td>\n",
       "    </tr>\n",
       "    <tr>\n",
       "      <th>3</th>\n",
       "      <td>0</td>\n",
       "      <td>3</td>\n",
       "      <td>0.082274</td>\n",
       "    </tr>\n",
       "    <tr>\n",
       "      <th>4</th>\n",
       "      <td>0</td>\n",
       "      <td>4</td>\n",
       "      <td>0.080655</td>\n",
       "    </tr>\n",
       "  </tbody>\n",
       "</table>\n",
       "</div>"
      ],
      "text/plain": [
       "  epoch batch   metrics\n",
       "0     0     0  0.091710\n",
       "1     0     1  0.089310\n",
       "2     0     2  0.085851\n",
       "3     0     3  0.082274\n",
       "4     0     4  0.080655"
      ]
     },
     "execution_count": 10,
     "metadata": {},
     "output_type": "execute_result"
    }
   ],
   "source": [
    "df.head()"
   ]
  },
  {
   "cell_type": "code",
   "execution_count": 11,
   "metadata": {},
   "outputs": [],
   "source": [
    "# 取得最後一層的權重\n",
    "\n",
    "# import numpy as np\n",
    "# # weights\n",
    "# np.array(df.loc[0,'metrics'])[-1].shape\n",
    "\n"
   ]
  },
  {
   "cell_type": "code",
   "execution_count": 12,
   "metadata": {
    "scrolled": true
   },
   "outputs": [
    {
     "data": {
      "text/plain": [
       "[<matplotlib.lines.Line2D at 0x294a665e320>]"
      ]
     },
     "execution_count": 12,
     "metadata": {},
     "output_type": "execute_result"
    },
    {
     "data": {
      "image/png": "[encoded data removed]",
      "text/plain": [
       "<Figure size 1008x576 with 1 Axes>"
      ]
     },
     "metadata": {
      "needs_background": "light"
     },
     "output_type": "display_data"
    }
   ],
   "source": [
    "import matplotlib.pyplot as plt\n",
    "\n",
    "plt.figure(figsize=(14,8))\n",
    "plt.plot(df.metrics)"
   ]
  },
  {
   "cell_type": "code",
   "execution_count": 55,
   "metadata": {},
   "outputs": [
    {
     "data": {
      "text/html": [
       "<div>\n",
       "<style scoped>\n",
       "    .dataframe tbody tr th:only-of-type {\n",
       "        vertical-align: middle;\n",
       "    }\n",
       "\n",
       "    .dataframe tbody tr th {\n",
       "        vertical-align: top;\n",
       "    }\n",
       "\n",
       "    .dataframe thead th {\n",
       "        text-align: right;\n",
       "    }\n",
       "</style>\n",
       "<table border=\"1\" class=\"dataframe\">\n",
       "  <thead>\n",
       "    <tr style=\"text-align: right;\">\n",
       "      <th></th>\n",
       "      <th>epoch</th>\n",
       "      <th>batch</th>\n",
       "      <th>metrics</th>\n",
       "    </tr>\n",
       "  </thead>\n",
       "  <tbody>\n",
       "    <tr>\n",
       "      <th>2815</th>\n",
       "      <td>14</td>\n",
       "      <td>183</td>\n",
       "      <td>0.000374</td>\n",
       "    </tr>\n",
       "    <tr>\n",
       "      <th>2816</th>\n",
       "      <td>14</td>\n",
       "      <td>184</td>\n",
       "      <td>0.001028</td>\n",
       "    </tr>\n",
       "    <tr>\n",
       "      <th>2817</th>\n",
       "      <td>14</td>\n",
       "      <td>185</td>\n",
       "      <td>0.000364</td>\n",
       "    </tr>\n",
       "    <tr>\n",
       "      <th>2818</th>\n",
       "      <td>14</td>\n",
       "      <td>186</td>\n",
       "      <td>0.001573</td>\n",
       "    </tr>\n",
       "    <tr>\n",
       "      <th>2819</th>\n",
       "      <td>14</td>\n",
       "      <td>187</td>\n",
       "      <td>0.001391</td>\n",
       "    </tr>\n",
       "  </tbody>\n",
       "</table>\n",
       "</div>"
      ],
      "text/plain": [
       "     epoch batch   metrics\n",
       "2815    14   183  0.000374\n",
       "2816    14   184  0.001028\n",
       "2817    14   185  0.000364\n",
       "2818    14   186  0.001573\n",
       "2819    14   187  0.001391"
      ]
     },
     "execution_count": 55,
     "metadata": {},
     "output_type": "execute_result"
    }
   ],
   "source": [
    "df.tail()"
   ]
  },
  {
   "cell_type": "code",
   "execution_count": 13,
   "metadata": {},
   "outputs": [
    {
     "data": {
      "text/html": [
       "<div>\n",
       "<style scoped>\n",
       "    .dataframe tbody tr th:only-of-type {\n",
       "        vertical-align: middle;\n",
       "    }\n",
       "\n",
       "    .dataframe tbody tr th {\n",
       "        vertical-align: top;\n",
       "    }\n",
       "\n",
       "    .dataframe thead th {\n",
       "        text-align: right;\n",
       "    }\n",
       "</style>\n",
       "<table border=\"1\" class=\"dataframe\">\n",
       "  <thead>\n",
       "    <tr style=\"text-align: right;\">\n",
       "      <th></th>\n",
       "      <th>batch</th>\n",
       "      <th>metrics</th>\n",
       "    </tr>\n",
       "    <tr>\n",
       "      <th>epoch</th>\n",
       "      <th></th>\n",
       "      <th></th>\n",
       "    </tr>\n",
       "  </thead>\n",
       "  <tbody>\n",
       "    <tr>\n",
       "      <th>0</th>\n",
       "      <td>0</td>\n",
       "      <td>0.007290</td>\n",
       "    </tr>\n",
       "    <tr>\n",
       "      <th>1</th>\n",
       "      <td>0</td>\n",
       "      <td>0.006928</td>\n",
       "    </tr>\n",
       "    <tr>\n",
       "      <th>2</th>\n",
       "      <td>0</td>\n",
       "      <td>0.004871</td>\n",
       "    </tr>\n",
       "    <tr>\n",
       "      <th>3</th>\n",
       "      <td>0</td>\n",
       "      <td>0.003680</td>\n",
       "    </tr>\n",
       "    <tr>\n",
       "      <th>4</th>\n",
       "      <td>0</td>\n",
       "      <td>0.003040</td>\n",
       "    </tr>\n",
       "    <tr>\n",
       "      <th>5</th>\n",
       "      <td>0</td>\n",
       "      <td>0.002596</td>\n",
       "    </tr>\n",
       "    <tr>\n",
       "      <th>6</th>\n",
       "      <td>0</td>\n",
       "      <td>0.001799</td>\n",
       "    </tr>\n",
       "    <tr>\n",
       "      <th>7</th>\n",
       "      <td>0</td>\n",
       "      <td>0.001490</td>\n",
       "    </tr>\n",
       "    <tr>\n",
       "      <th>8</th>\n",
       "      <td>0</td>\n",
       "      <td>0.000880</td>\n",
       "    </tr>\n",
       "    <tr>\n",
       "      <th>9</th>\n",
       "      <td>0</td>\n",
       "      <td>0.001838</td>\n",
       "    </tr>\n",
       "    <tr>\n",
       "      <th>10</th>\n",
       "      <td>0</td>\n",
       "      <td>0.001289</td>\n",
       "    </tr>\n",
       "    <tr>\n",
       "      <th>11</th>\n",
       "      <td>0</td>\n",
       "      <td>0.000737</td>\n",
       "    </tr>\n",
       "    <tr>\n",
       "      <th>12</th>\n",
       "      <td>0</td>\n",
       "      <td>0.000818</td>\n",
       "    </tr>\n",
       "    <tr>\n",
       "      <th>13</th>\n",
       "      <td>0</td>\n",
       "      <td>0.000588</td>\n",
       "    </tr>\n",
       "    <tr>\n",
       "      <th>14</th>\n",
       "      <td>0</td>\n",
       "      <td>0.000573</td>\n",
       "    </tr>\n",
       "  </tbody>\n",
       "</table>\n",
       "</div>"
      ],
      "text/plain": [
       "       batch   metrics\n",
       "epoch                 \n",
       "0          0  0.007290\n",
       "1          0  0.006928\n",
       "2          0  0.004871\n",
       "3          0  0.003680\n",
       "4          0  0.003040\n",
       "5          0  0.002596\n",
       "6          0  0.001799\n",
       "7          0  0.001490\n",
       "8          0  0.000880\n",
       "9          0  0.001838\n",
       "10         0  0.001289\n",
       "11         0  0.000737\n",
       "12         0  0.000818\n",
       "13         0  0.000588\n",
       "14         0  0.000573"
      ]
     },
     "execution_count": 13,
     "metadata": {},
     "output_type": "execute_result"
    }
   ],
   "source": [
    "df2 = df.groupby(by='epoch').min()\n",
    "df2"
   ]
  },
  {
   "cell_type": "code",
   "execution_count": 14,
   "metadata": {},
   "outputs": [
    {
     "data": {
      "text/plain": [
       "[<matplotlib.lines.Line2D at 0x294a76b0828>]"
      ]
     },
     "execution_count": 14,
     "metadata": {},
     "output_type": "execute_result"
    },
    {
     "data": {
      "image/png": "[encoded data removed]",
      "text/plain": [
       "<Figure size 1008x576 with 1 Axes>"
      ]
     },
     "metadata": {
      "needs_background": "light"
     },
     "output_type": "display_data"
    }
   ],
   "source": [
    "plt.figure(figsize=(14,8))\n",
    "plt.plot(df2.index, df2.metrics)"
   ]
  },
  {
   "cell_type": "code",
   "execution_count": null,
   "metadata": {},
   "outputs": [],
   "source": []
  }
 ],
 "metadata": {
  "kernelspec": {
   "display_name": "Python 3",
   "language": "python",
   "name": "python3"
  },
  "language_info": {
   "codemirror_mode": {
    "name": "ipython",
    "version": 3
   },
   "file_extension": ".py",
   "mimetype": "text/x-python",
   "name": "python",
   "nbconvert_exporter": "python",
   "pygments_lexer": "ipython3",
   "version": "3.6.8"
  }
 },
 "nbformat": 4,
 "nbformat_minor": 4
}
