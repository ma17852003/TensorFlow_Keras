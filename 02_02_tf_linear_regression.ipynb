{
 "cells": [
  {
   "cell_type": "code",
   "execution_count": 2,
   "metadata": {},
   "outputs": [],
   "source": [
    "import numpy as np \n",
    "import tensorflow as tf "
   ]
  },
  {
   "cell_type": "code",
   "execution_count": 3,
   "metadata": {},
   "outputs": [],
   "source": [
    "# y_pred = W*X + b\n",
    "W = tf.Variable(0.0)\n",
    "b = tf.Variable(0.0)\n",
    "\n",
    "# 定義損失函數\n",
    "def loss(y, y_pred):\n",
    "    return tf.reduce_mean(tf.square(y - y_pred))\n",
    "\n",
    "# 定義預測值\n",
    "def predict(X):\n",
    "    return W * X + b\n",
    "    \n",
    "# 定義訓練函數\n",
    "def train(X, y, epochs=40, lr=0.0001):\n",
    "    current_loss=0\n",
    "    # 執行訓練\n",
    "    for epoch in range(epochs):\n",
    "        with tf.GradientTape() as t:\n",
    "            t.watch(tf.constant(X))\n",
    "            current_loss = loss(y, predict(X))\n",
    "\n",
    "        # 取得 W, b 個別的梯度\n",
    "        dW, db = t.gradient(current_loss, [W, b])\n",
    "        \n",
    "        # 更新權重\n",
    "        # 新權重 = 原權重 — 學習率(learning_rate) * 梯度(gradient)\n",
    "        W.assign_sub(lr * dW) # W -= lr * dW\n",
    "        b.assign_sub(lr * db)\n",
    "\n",
    "        # 顯示每一訓練週期的損失函數\n",
    "        print(f'Epoch {epoch}: Loss: {current_loss.numpy()}') "
   ]
  },
  {
   "cell_type": "code",
   "execution_count": 53,
   "metadata": {},
   "outputs": [],
   "source": [
    "# 產生隨機資料\n",
    "# random linear data: 100 between 0-50\n",
    "n = 100\n",
    "X = np.linspace(0, 50, n) \n",
    "y = np.linspace(0, 50, n) \n",
    "  \n",
    "# Adding noise to the random linear data \n",
    "X += np.random.uniform(-10, 10, n) \n",
    "y += np.random.uniform(-10, 10, n) "
   ]
  },
  {
   "cell_type": "code",
   "execution_count": 54,
   "metadata": {},
   "outputs": [
    {
     "data": {
      "text/plain": [
       "array([ 5.38294718,  1.94276417, -8.37501403, -6.40284991,  6.87768111,\n",
       "        0.12431388,  4.39094417, 12.78579777, -1.96043348,  6.35422106,\n",
       "       -4.47947653, -1.12331781, 10.49331752, 13.40039593, 15.8816284 ,\n",
       "       10.92547935, -0.30156411,  3.66637014,  4.50511852,  1.41980001,\n",
       "        7.77366745, 15.32141817,  8.04980248,  3.26906279,  9.84402869,\n",
       "       21.34127217,  8.92269785, 14.56563513,  7.83764139, 12.45273703,\n",
       "       21.03533589, 22.3663821 , 16.57285645, 20.57792235, 19.98120153,\n",
       "       20.51642765, 22.06538254, 18.54817757, 21.61113336, 24.88900568,\n",
       "       17.39942682, 19.24425361, 22.12835657, 20.41988719, 21.5936741 ,\n",
       "       31.10920515, 19.81676031, 21.29832193, 34.22646822, 34.19005246,\n",
       "       17.3054497 , 24.82338141, 23.59069832, 35.75285691, 25.99587878,\n",
       "       34.16395673, 34.95407377, 38.3440525 , 32.34310143, 37.64683249,\n",
       "       23.23112083, 37.88796555, 23.99310685, 22.87758889, 31.23100008,\n",
       "       31.56768344, 24.06398027, 36.97790922, 32.55015751, 40.8206573 ,\n",
       "       34.33431791, 27.30742013, 29.84283604, 27.77896723, 38.63257119,\n",
       "       43.59655302, 37.76700934, 45.68674128, 41.50352776, 46.02302577,\n",
       "       40.61536233, 50.75921043, 42.75283561, 31.97195932, 38.13386709,\n",
       "       41.2131749 , 48.46682155, 41.21735819, 51.74794269, 39.32384974,\n",
       "       45.07161315, 39.03449967, 40.91495234, 40.03708033, 38.38996869,\n",
       "       55.74373029, 49.57960378, 45.2567044 , 43.55227553, 43.65622342])"
      ]
     },
     "execution_count": 54,
     "metadata": {},
     "output_type": "execute_result"
    }
   ],
   "source": [
    "X"
   ]
  },
  {
   "cell_type": "code",
   "execution_count": 55,
   "metadata": {},
   "outputs": [
    {
     "data": {
      "text/plain": [
       "array([ 3.98692946,  3.80554069, -5.01779136,  1.65616575, -5.79729205,\n",
       "        8.61274754,  6.2495736 ,  1.29733753, -4.42140602,  0.59913235,\n",
       "        4.29121876, -3.86639114,  1.18279607,  7.77777927,  1.42172742,\n",
       "       15.01760263,  4.96066675,  8.35228537, 16.75597901,  5.9410508 ,\n",
       "       18.85238481,  7.29952268, 16.83631919, 12.05054103,  5.50667593,\n",
       "        3.94317849,  7.57582587, 11.27119617, 14.35786523, 12.25413196,\n",
       "       16.72603032, 17.59902786,  7.38957026, 18.41352868, 26.31809073,\n",
       "       27.00300486, 18.28667723, 20.79084282, 21.74185004, 26.14745228,\n",
       "       20.86659552, 23.76205408, 17.74653749, 21.07369246, 13.80165432,\n",
       "       31.97247331, 15.0478634 , 29.81188898, 16.658727  , 26.88285151,\n",
       "       34.65670357, 35.07948387, 22.2868203 , 28.01750151, 17.56725386,\n",
       "       37.33750636, 29.61389735, 25.67206426, 24.52502085, 24.27158806,\n",
       "       29.71007221, 30.42369212, 40.424231  , 24.28888218, 25.85017136,\n",
       "       23.60967625, 29.87577683, 43.42784449, 30.23469895, 29.65581381,\n",
       "       26.95485945, 44.41741978, 37.21564215, 44.64873703, 38.72754359,\n",
       "       40.38130649, 35.20879105, 39.34907675, 41.44490381, 37.89766773,\n",
       "       33.22047369, 39.11557906, 37.53721642, 32.60326037, 34.9513954 ,\n",
       "       37.41929671, 40.79252304, 35.58403649, 36.50133279, 43.68592609,\n",
       "       35.45733081, 45.23758925, 42.16872794, 46.88314349, 51.73691804,\n",
       "       52.58007295, 56.84315627, 40.44072212, 44.7703998 , 51.84605413])"
      ]
     },
     "execution_count": 55,
     "metadata": {},
     "output_type": "execute_result"
    }
   ],
   "source": [
    "y"
   ]
  },
  {
   "cell_type": "code",
   "execution_count": 56,
   "metadata": {},
   "outputs": [
    {
     "name": "stdout",
     "output_type": "stream",
     "text": [
      "Epoch 0: Loss: 811.0114135742188\n",
      "Epoch 1: Loss: 576.4406127929688\n",
      "Epoch 2: Loss: 415.0347900390625\n",
      "Epoch 3: Loss: 303.9730529785156\n",
      "Epoch 4: Loss: 227.55245971679688\n",
      "Epoch 5: Loss: 174.96817016601562\n",
      "Epoch 6: Loss: 138.7853546142578\n",
      "Epoch 7: Loss: 113.88824462890625\n",
      "Epoch 8: Loss: 96.75672912597656\n",
      "Epoch 9: Loss: 84.96862030029297\n",
      "Epoch 10: Loss: 76.8572769165039\n",
      "Epoch 11: Loss: 71.27587890625\n",
      "Epoch 12: Loss: 67.4352798461914\n",
      "Epoch 13: Loss: 64.79254150390625\n",
      "Epoch 14: Loss: 62.97401809692383\n",
      "Epoch 15: Loss: 61.72263717651367\n",
      "Epoch 16: Loss: 60.86150360107422\n",
      "Epoch 17: Loss: 60.268890380859375\n",
      "Epoch 18: Loss: 59.861045837402344\n",
      "Epoch 19: Loss: 59.58033752441406\n",
      "Epoch 20: Loss: 59.38710403442383\n",
      "Epoch 21: Loss: 59.25407409667969\n",
      "Epoch 22: Loss: 59.16246032714844\n",
      "Epoch 23: Loss: 59.09934616088867\n",
      "Epoch 24: Loss: 59.05583953857422\n",
      "Epoch 25: Loss: 59.02583312988281\n",
      "Epoch 26: Loss: 59.00510787963867\n",
      "Epoch 27: Loss: 58.99077606201172\n",
      "Epoch 28: Loss: 58.9808349609375\n",
      "Epoch 29: Loss: 58.97392272949219\n",
      "Epoch 30: Loss: 58.969085693359375\n",
      "Epoch 31: Loss: 58.965694427490234\n",
      "Epoch 32: Loss: 58.96327590942383\n",
      "Epoch 33: Loss: 58.961544036865234\n",
      "Epoch 34: Loss: 58.960269927978516\n",
      "Epoch 35: Loss: 58.959327697753906\n",
      "Epoch 36: Loss: 58.958595275878906\n",
      "Epoch 37: Loss: 58.95802307128906\n",
      "Epoch 38: Loss: 58.957550048828125\n",
      "Epoch 39: Loss: 58.957149505615234\n"
     ]
    },
    {
     "data": {
      "text/plain": [
       "(0.9381567, 0.033580042)"
      ]
     },
     "execution_count": 56,
     "metadata": {},
     "output_type": "execute_result"
    }
   ],
   "source": [
    "# reset W,b\n",
    "W = tf.Variable(0.0)\n",
    "b = tf.Variable(0.0)\n",
    "\n",
    "# 執行訓練\n",
    "train(X, y)\n",
    "\n",
    "# W、b 的最佳解\n",
    "W.numpy(), b.numpy()"
   ]
  },
  {
   "cell_type": "code",
   "execution_count": 57,
   "metadata": {},
   "outputs": [
    {
     "data": {
      "text/plain": [
       "<matplotlib.legend.Legend at 0x18802f8e3c8>"
      ]
     },
     "execution_count": 57,
     "metadata": {},
     "output_type": "execute_result"
    },
    {
     "data": {
      "image/png": "[encoded data removed]",
      "text/plain": [
       "<Figure size 432x288 with 1 Axes>"
      ]
     },
     "metadata": {
      "needs_background": "light"
     },
     "output_type": "display_data"
    }
   ],
   "source": [
    "import matplotlib.pyplot as plt \n",
    "\n",
    "plt.scatter(X, y, label='data')\n",
    "plt.plot(X, predict(X), 'r-', label='predicted')\n",
    "plt.legend()"
   ]
  },
  {
   "cell_type": "code",
   "execution_count": null,
   "metadata": {},
   "outputs": [],
   "source": []
  }
 ],
 "metadata": {
  "kernelspec": {
   "display_name": "Python 3",
   "language": "python",
   "name": "python3"
  },
  "language_info": {
   "codemirror_mode": {
    "name": "ipython",
    "version": 3
   },
   "file_extension": ".py",
   "mimetype": "text/x-python",
   "name": "python",
   "nbconvert_exporter": "python",
   "pygments_lexer": "ipython3",
   "version": "3.6.8"
  }
 },
 "nbformat": 4,
 "nbformat_minor": 4
}
