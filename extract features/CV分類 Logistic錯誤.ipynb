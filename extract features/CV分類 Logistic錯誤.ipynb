{
 "cells": [
  {
   "cell_type": "code",
   "execution_count": 1,
   "metadata": {},
   "outputs": [],
   "source": [
    "# -*- coding: utf-8 -*-\n",
    "#-*- coding: cp950 -*-\n",
    "\n",
    "#import sys\n",
    "import os as os\n",
    "import sys\n",
    "\n",
    "import matplotlib.pyplot as plt\n",
    "#%matplotlib inline\n",
    "plt.rcParams['font.sans-serif']=['SimSun'] \n",
    "plt.rcParams['axes.unicode_minus']=False\n",
    "from matplotlib.pylab import rcParams\n",
    "rcParams['figure.figsize'] = 11, 8\n",
    "#plt.style.use('classic')\n",
    "import pylab as plb \n",
    "%matplotlib inline\n",
    "import seaborn as sns\n",
    "sns.set()  #***************************\n",
    "\n",
    "from scipy.optimize import curve_fit\n",
    "import scipy as sy\n",
    "import pylab as plb  \n",
    "\n",
    "import pandas as pd\n",
    "import numpy as np\n",
    "#import seaborn as sns\n",
    "from sklearn.linear_model import LinearRegression\n",
    "#import sys\n",
    "#import os as os\n",
    "\n",
    "from pandas import *\n",
    "\n",
    "import cv2 as cv\n",
    "import matplotlib.image as mpimg\n",
    "from PIL import Image\n",
    "from scipy import misc\n",
    "import imageio\n",
    "from sklearn import model_selection #***************************\n",
    "from sklearn import model_selection\n",
    "from sklearn import preprocessing\n",
    "from sklearn.model_selection import GridSearchCV\n",
    "from sklearn.model_selection import KFold\n",
    "\n",
    "from sklearn.model_selection import train_test_split\n",
    "from sklearn.model_selection import cross_val_score\n",
    "from sklearn.model_selection import cross_validate\n",
    "from sklearn.metrics import recall_score\n",
    "from sklearn.metrics import accuracy_score\n",
    "#from sklearn.model_selection import ShuffleSpli\n",
    "from sklearn import ensemble, preprocessing, metrics\n",
    "from sklearn import metrics\n",
    "from sklearn.metrics import mean_squared_error\n",
    "from sklearn.datasets import make_friedman1\n",
    "\n",
    "from sklearn import tree\n",
    "\n",
    "\n",
    "import xgboost #*************\n",
    "import xgboost as xgb   #*************\n",
    "from xgboost import XGBClassifier\n",
    "from sklearn.ensemble import GradientBoostingRegressor\n",
    "from sklearn.ensemble import GradientBoostingClassifier\n",
    "from sklearn.naive_bayes import GaussianNB\n",
    "from sklearn.ensemble import AdaBoostClassifier\n",
    "from sklearn.ensemble import AdaBoostRegressor\n",
    "\n",
    "from sklearn import datasets\n",
    "\n",
    "from sklearn import preprocessing, linear_model\n",
    "from sklearn.linear_model import LinearRegression\n",
    "from sklearn.linear_model import Lasso\n",
    "from sklearn.linear_model import ElasticNet\n",
    "\n",
    "from sklearn.tree import DecisionTreeClassifier\n",
    "from sklearn.tree import DecisionTreeRegressor\n",
    "\n",
    "from sklearn.ensemble import RandomForestClassifier \n",
    "from sklearn.ensemble import RandomForestRegressor\n",
    "\n",
    "from sklearn import neighbors\n",
    "from sklearn.neighbors import KNeighborsClassifier\n",
    "from sklearn.neighbors import KNeighborsRegressor\n",
    "\n",
    "from sklearn.svm import SVC\n",
    "from sklearn import svm, preprocessing, metrics\n",
    "from sklearn.discriminant_analysis import LinearDiscriminantAnalysis\n",
    "\n",
    "from sklearn.pipeline import Pipeline\n",
    "\n",
    "from sklearn.ensemble import ExtraTreesClassifier\n",
    "from sklearn.ensemble import ExtraTreesRegressor\n",
    "\n",
    "from sklearn.datasets import make_classification\n",
    "from sklearn.datasets import make_gaussian_quantiles\n"
   ]
  },
  {
   "cell_type": "code",
   "execution_count": 2,
   "metadata": {},
   "outputs": [
    {
     "name": "stdout",
     "output_type": "stream",
     "text": [
      "--------------------------------\n",
      "\n",
      "#The first 5 rows of data \n",
      "\n"
     ]
    },
    {
     "data": {
      "text/html": [
       "<div>\n",
       "<style scoped>\n",
       "    .dataframe tbody tr th:only-of-type {\n",
       "        vertical-align: middle;\n",
       "    }\n",
       "\n",
       "    .dataframe tbody tr th {\n",
       "        vertical-align: top;\n",
       "    }\n",
       "\n",
       "    .dataframe thead th {\n",
       "        text-align: right;\n",
       "    }\n",
       "</style>\n",
       "<table border=\"1\" class=\"dataframe\">\n",
       "  <thead>\n",
       "    <tr style=\"text-align: right;\">\n",
       "      <th></th>\n",
       "      <th>LENGTH</th>\n",
       "      <th>LEFT</th>\n",
       "      <th>RIGHT</th>\n",
       "      <th>BOTTOM</th>\n",
       "      <th>TOP</th>\n",
       "      <th>DIAGONAL</th>\n",
       "      <th>money</th>\n",
       "    </tr>\n",
       "    <tr>\n",
       "      <th>No</th>\n",
       "      <th></th>\n",
       "      <th></th>\n",
       "      <th></th>\n",
       "      <th></th>\n",
       "      <th></th>\n",
       "      <th></th>\n",
       "      <th></th>\n",
       "    </tr>\n",
       "  </thead>\n",
       "  <tbody>\n",
       "    <tr>\n",
       "      <th>N001</th>\n",
       "      <td>214.8</td>\n",
       "      <td>131.0</td>\n",
       "      <td>131.1</td>\n",
       "      <td>9.0</td>\n",
       "      <td>9.7</td>\n",
       "      <td>141.0</td>\n",
       "      <td>True</td>\n",
       "    </tr>\n",
       "    <tr>\n",
       "      <th>N002</th>\n",
       "      <td>214.6</td>\n",
       "      <td>129.7</td>\n",
       "      <td>129.7</td>\n",
       "      <td>8.1</td>\n",
       "      <td>9.5</td>\n",
       "      <td>141.7</td>\n",
       "      <td>True</td>\n",
       "    </tr>\n",
       "    <tr>\n",
       "      <th>N003</th>\n",
       "      <td>214.8</td>\n",
       "      <td>129.7</td>\n",
       "      <td>129.7</td>\n",
       "      <td>8.7</td>\n",
       "      <td>9.6</td>\n",
       "      <td>142.2</td>\n",
       "      <td>True</td>\n",
       "    </tr>\n",
       "    <tr>\n",
       "      <th>N004</th>\n",
       "      <td>214.8</td>\n",
       "      <td>129.7</td>\n",
       "      <td>129.6</td>\n",
       "      <td>7.5</td>\n",
       "      <td>10.4</td>\n",
       "      <td>142.0</td>\n",
       "      <td>True</td>\n",
       "    </tr>\n",
       "    <tr>\n",
       "      <th>N005</th>\n",
       "      <td>215.0</td>\n",
       "      <td>129.6</td>\n",
       "      <td>129.7</td>\n",
       "      <td>10.4</td>\n",
       "      <td>7.7</td>\n",
       "      <td>141.8</td>\n",
       "      <td>True</td>\n",
       "    </tr>\n",
       "  </tbody>\n",
       "</table>\n",
       "</div>"
      ],
      "text/plain": [
       "      LENGTH   LEFT  RIGHT  BOTTOM   TOP  DIAGONAL  money\n",
       "No                                                       \n",
       "N001   214.8  131.0  131.1     9.0   9.7     141.0   True\n",
       "N002   214.6  129.7  129.7     8.1   9.5     141.7   True\n",
       "N003   214.8  129.7  129.7     8.7   9.6     142.2   True\n",
       "N004   214.8  129.7  129.6     7.5  10.4     142.0   True\n",
       "N005   215.0  129.6  129.7    10.4   7.7     141.8   True"
      ]
     },
     "execution_count": 2,
     "metadata": {},
     "output_type": "execute_result"
    }
   ],
   "source": [
    "df= pd.read_csv('./data/moneyY2class.csv',index_col=0,encoding='cp950')\n",
    "print('--------------------------------\\n')\n",
    "print('#The first 5 rows of data \\n')\n",
    "df.head()  "
   ]
  },
  {
   "cell_type": "code",
   "execution_count": 6,
   "metadata": {},
   "outputs": [
    {
     "data": {
      "text/plain": [
       "(200, 7)"
      ]
     },
     "execution_count": 6,
     "metadata": {},
     "output_type": "execute_result"
    }
   ],
   "source": [
    "df.shape"
   ]
  },
  {
   "cell_type": "code",
   "execution_count": 17,
   "metadata": {},
   "outputs": [
    {
     "data": {
      "text/plain": [
       "pandas.core.frame.DataFrame"
      ]
     },
     "execution_count": 17,
     "metadata": {},
     "output_type": "execute_result"
    }
   ],
   "source": [
    "type(df)"
   ]
  },
  {
   "cell_type": "code",
   "execution_count": 3,
   "metadata": {},
   "outputs": [
    {
     "name": "stdout",
     "output_type": "stream",
     "text": [
      "<class 'pandas.core.frame.DataFrame'>\n",
      "Index: 200 entries, N001 to N200\n",
      "Data columns (total 7 columns):\n",
      "LENGTH      200 non-null float64\n",
      "LEFT        200 non-null float64\n",
      "RIGHT       200 non-null float64\n",
      "BOTTOM      200 non-null float64\n",
      "TOP         200 non-null float64\n",
      "DIAGONAL    200 non-null float64\n",
      "money       200 non-null bool\n",
      "dtypes: bool(1), float64(6)\n",
      "memory usage: 11.1+ KB\n"
     ]
    }
   ],
   "source": [
    "df.info()"
   ]
  },
  {
   "cell_type": "code",
   "execution_count": 4,
   "metadata": {
    "scrolled": true
   },
   "outputs": [
    {
     "data": {
      "text/plain": [
       "LENGTH      0\n",
       "LEFT        0\n",
       "RIGHT       0\n",
       "BOTTOM      0\n",
       "TOP         0\n",
       "DIAGONAL    0\n",
       "money       0\n",
       "dtype: int64"
      ]
     },
     "execution_count": 4,
     "metadata": {},
     "output_type": "execute_result"
    }
   ],
   "source": [
    "df2=df.dropna()  # df.dropna(axis=\"rows\")\n",
    "df2.isnull().sum()  "
   ]
  },
  {
   "cell_type": "code",
   "execution_count": 5,
   "metadata": {},
   "outputs": [
    {
     "data": {
      "text/html": [
       "<div>\n",
       "<style scoped>\n",
       "    .dataframe tbody tr th:only-of-type {\n",
       "        vertical-align: middle;\n",
       "    }\n",
       "\n",
       "    .dataframe tbody tr th {\n",
       "        vertical-align: top;\n",
       "    }\n",
       "\n",
       "    .dataframe thead th {\n",
       "        text-align: right;\n",
       "    }\n",
       "</style>\n",
       "<table border=\"1\" class=\"dataframe\">\n",
       "  <thead>\n",
       "    <tr style=\"text-align: right;\">\n",
       "      <th></th>\n",
       "      <th>count</th>\n",
       "      <th>mean</th>\n",
       "      <th>std</th>\n",
       "      <th>min</th>\n",
       "      <th>25%</th>\n",
       "      <th>50%</th>\n",
       "      <th>75%</th>\n",
       "      <th>max</th>\n",
       "    </tr>\n",
       "  </thead>\n",
       "  <tbody>\n",
       "    <tr>\n",
       "      <th>LENGTH</th>\n",
       "      <td>200.0</td>\n",
       "      <td>214.8960</td>\n",
       "      <td>0.376554</td>\n",
       "      <td>213.8</td>\n",
       "      <td>214.6</td>\n",
       "      <td>214.90</td>\n",
       "      <td>215.100</td>\n",
       "      <td>216.3</td>\n",
       "    </tr>\n",
       "    <tr>\n",
       "      <th>LEFT</th>\n",
       "      <td>200.0</td>\n",
       "      <td>130.1215</td>\n",
       "      <td>0.361026</td>\n",
       "      <td>129.0</td>\n",
       "      <td>129.9</td>\n",
       "      <td>130.20</td>\n",
       "      <td>130.400</td>\n",
       "      <td>131.0</td>\n",
       "    </tr>\n",
       "    <tr>\n",
       "      <th>RIGHT</th>\n",
       "      <td>200.0</td>\n",
       "      <td>129.9565</td>\n",
       "      <td>0.404072</td>\n",
       "      <td>129.0</td>\n",
       "      <td>129.7</td>\n",
       "      <td>130.00</td>\n",
       "      <td>130.225</td>\n",
       "      <td>131.1</td>\n",
       "    </tr>\n",
       "    <tr>\n",
       "      <th>BOTTOM</th>\n",
       "      <td>200.0</td>\n",
       "      <td>9.4175</td>\n",
       "      <td>1.444603</td>\n",
       "      <td>7.2</td>\n",
       "      <td>8.2</td>\n",
       "      <td>9.10</td>\n",
       "      <td>10.600</td>\n",
       "      <td>12.7</td>\n",
       "    </tr>\n",
       "    <tr>\n",
       "      <th>TOP</th>\n",
       "      <td>200.0</td>\n",
       "      <td>10.6505</td>\n",
       "      <td>0.802947</td>\n",
       "      <td>7.7</td>\n",
       "      <td>10.1</td>\n",
       "      <td>10.60</td>\n",
       "      <td>11.200</td>\n",
       "      <td>12.3</td>\n",
       "    </tr>\n",
       "    <tr>\n",
       "      <th>DIAGONAL</th>\n",
       "      <td>200.0</td>\n",
       "      <td>140.4835</td>\n",
       "      <td>1.152266</td>\n",
       "      <td>137.8</td>\n",
       "      <td>139.5</td>\n",
       "      <td>140.45</td>\n",
       "      <td>141.500</td>\n",
       "      <td>142.4</td>\n",
       "    </tr>\n",
       "  </tbody>\n",
       "</table>\n",
       "</div>"
      ],
      "text/plain": [
       "          count      mean       std    min    25%     50%      75%    max\n",
       "LENGTH    200.0  214.8960  0.376554  213.8  214.6  214.90  215.100  216.3\n",
       "LEFT      200.0  130.1215  0.361026  129.0  129.9  130.20  130.400  131.0\n",
       "RIGHT     200.0  129.9565  0.404072  129.0  129.7  130.00  130.225  131.1\n",
       "BOTTOM    200.0    9.4175  1.444603    7.2    8.2    9.10   10.600   12.7\n",
       "TOP       200.0   10.6505  0.802947    7.7   10.1   10.60   11.200   12.3\n",
       "DIAGONAL  200.0  140.4835  1.152266  137.8  139.5  140.45  141.500  142.4"
      ]
     },
     "execution_count": 5,
     "metadata": {},
     "output_type": "execute_result"
    }
   ],
   "source": [
    "df2.describe().T"
   ]
  },
  {
   "cell_type": "code",
   "execution_count": 11,
   "metadata": {},
   "outputs": [
    {
     "data": {
      "text/plain": [
       "7"
      ]
     },
     "execution_count": 11,
     "metadata": {},
     "output_type": "execute_result"
    }
   ],
   "source": [
    "len(df2.columns)"
   ]
  },
  {
   "cell_type": "code",
   "execution_count": 5,
   "metadata": {},
   "outputs": [],
   "source": [
    "y= df2.iloc[:,-1]\n",
    "a=len(df2.columns)-1 \n",
    "x=df2.iloc[:,:a]"
   ]
  },
  {
   "cell_type": "code",
   "execution_count": 6,
   "metadata": {},
   "outputs": [
    {
     "name": "stdout",
     "output_type": "stream",
     "text": [
      "--------------------------------\n",
      "\n",
      "#The Frequency of Target Values \n",
      "\n",
      "True     100\n",
      "False    100\n",
      "Name: money, dtype: int64\n",
      "--------------------------------\n",
      "\n"
     ]
    }
   ],
   "source": [
    "print('--------------------------------\\n')\n",
    "print('#The Frequency of Target Values \\n')\n",
    "print(y.value_counts())\n",
    "print('--------------------------------\\n')"
   ]
  },
  {
   "cell_type": "code",
   "execution_count": 13,
   "metadata": {},
   "outputs": [],
   "source": [
    "#from sklearn import model_selection"
   ]
  },
  {
   "cell_type": "code",
   "execution_count": 7,
   "metadata": {
    "scrolled": false
   },
   "outputs": [
    {
     "name": "stdout",
     "output_type": "stream",
     "text": [
      "--------------------------------\n",
      "\n",
      "#The Classification Accuracy for Different Algorithms \n",
      "\n",
      " model: LogisticR , accuracy: 0.995 , std: 0.015 \n",
      " model: LDA , accuracy: 0.995 , std: 0.015 \n",
      " model: KNN , accuracy: 0.995 , std: 0.015 \n",
      " model: CART , accuracy: 0.975 , std: 0.034 \n"
     ]
    },
    {
     "name": "stderr",
     "output_type": "stream",
     "text": [
      "C:\\Users\\user\\Anaconda3\\lib\\site-packages\\sklearn\\model_selection\\_split.py:296: FutureWarning: Setting a random_state has no effect since shuffle is False. This will raise an error in 0.24. You should leave random_state to its default (None), or set shuffle=True.\n",
      "  FutureWarning\n",
      "C:\\Users\\user\\Anaconda3\\lib\\site-packages\\sklearn\\model_selection\\_split.py:296: FutureWarning: Setting a random_state has no effect since shuffle is False. This will raise an error in 0.24. You should leave random_state to its default (None), or set shuffle=True.\n",
      "  FutureWarning\n",
      "C:\\Users\\user\\Anaconda3\\lib\\site-packages\\sklearn\\model_selection\\_split.py:296: FutureWarning: Setting a random_state has no effect since shuffle is False. This will raise an error in 0.24. You should leave random_state to its default (None), or set shuffle=True.\n",
      "  FutureWarning\n",
      "C:\\Users\\user\\Anaconda3\\lib\\site-packages\\sklearn\\model_selection\\_split.py:296: FutureWarning: Setting a random_state has no effect since shuffle is False. This will raise an error in 0.24. You should leave random_state to its default (None), or set shuffle=True.\n",
      "  FutureWarning\n",
      "C:\\Users\\user\\Anaconda3\\lib\\site-packages\\sklearn\\model_selection\\_split.py:296: FutureWarning: Setting a random_state has no effect since shuffle is False. This will raise an error in 0.24. You should leave random_state to its default (None), or set shuffle=True.\n",
      "  FutureWarning\n"
     ]
    },
    {
     "name": "stdout",
     "output_type": "stream",
     "text": [
      " model: NB , accuracy: 0.995 , std: 0.015 \n",
      " model: SVM , accuracy: 0.000 , std: 0.000 \n"
     ]
    },
    {
     "name": "stderr",
     "output_type": "stream",
     "text": [
      "C:\\Users\\user\\Anaconda3\\lib\\site-packages\\sklearn\\model_selection\\_split.py:296: FutureWarning: Setting a random_state has no effect since shuffle is False. This will raise an error in 0.24. You should leave random_state to its default (None), or set shuffle=True.\n",
      "  FutureWarning\n",
      "C:\\Users\\user\\Anaconda3\\lib\\site-packages\\sklearn\\model_selection\\_split.py:296: FutureWarning: Setting a random_state has no effect since shuffle is False. This will raise an error in 0.24. You should leave random_state to its default (None), or set shuffle=True.\n",
      "  FutureWarning\n"
     ]
    },
    {
     "name": "stdout",
     "output_type": "stream",
     "text": [
      " model: RF , accuracy: 0.990 , std: 0.020 \n",
      " model: Bagging , accuracy: 0.985 , std: 0.023 \n"
     ]
    },
    {
     "name": "stderr",
     "output_type": "stream",
     "text": [
      "C:\\Users\\user\\Anaconda3\\lib\\site-packages\\sklearn\\model_selection\\_split.py:296: FutureWarning: Setting a random_state has no effect since shuffle is False. This will raise an error in 0.24. You should leave random_state to its default (None), or set shuffle=True.\n",
      "  FutureWarning\n",
      "C:\\Users\\user\\Anaconda3\\lib\\site-packages\\sklearn\\model_selection\\_split.py:296: FutureWarning: Setting a random_state has no effect since shuffle is False. This will raise an error in 0.24. You should leave random_state to its default (None), or set shuffle=True.\n",
      "  FutureWarning\n"
     ]
    },
    {
     "name": "stdout",
     "output_type": "stream",
     "text": [
      " model: AdaBoost , accuracy: 0.980 , std: 0.033 \n",
      " model: DT , accuracy: 0.970 , std: 0.040 \n"
     ]
    },
    {
     "name": "stderr",
     "output_type": "stream",
     "text": [
      "C:\\Users\\user\\Anaconda3\\lib\\site-packages\\sklearn\\model_selection\\_split.py:296: FutureWarning: Setting a random_state has no effect since shuffle is False. This will raise an error in 0.24. You should leave random_state to its default (None), or set shuffle=True.\n",
      "  FutureWarning\n",
      "C:\\Users\\user\\Anaconda3\\lib\\site-packages\\sklearn\\model_selection\\_split.py:296: FutureWarning: Setting a random_state has no effect since shuffle is False. This will raise an error in 0.24. You should leave random_state to its default (None), or set shuffle=True.\n",
      "  FutureWarning\n"
     ]
    },
    {
     "name": "stdout",
     "output_type": "stream",
     "text": [
      " model: GBDT , accuracy: 0.975 , std: 0.034 \n",
      " model: XBDT , accuracy: 0.985 , std: 0.023 \n",
      "--------------------------------\n",
      "\n"
     ]
    },
    {
     "name": "stderr",
     "output_type": "stream",
     "text": [
      "C:\\Users\\user\\Anaconda3\\lib\\site-packages\\sklearn\\model_selection\\_split.py:296: FutureWarning: Setting a random_state has no effect since shuffle is False. This will raise an error in 0.24. You should leave random_state to its default (None), or set shuffle=True.\n",
      "  FutureWarning\n"
     ]
    }
   ],
   "source": [
    "seed = 7\n",
    "models = []\n",
    "#models.append(('LR', LogisticRegression()))\n",
    "models.append(('LogisticR', linear_model.LogisticRegression()))  #solver{'newton-cg’, 'lbfgs’,'liblinear’,‘sag’,‘saga’}, default=’lbfgs’\n",
    "models.append(('LDA', LinearDiscriminantAnalysis()))\n",
    "models.append(('KNN', KNeighborsClassifier()))\n",
    "models.append(('CART', DecisionTreeClassifier()))\n",
    "models.append(('NB', GaussianNB()))\n",
    "models.append(('SVM', SVC()))\n",
    "models.append(('RF', ensemble.RandomForestClassifier()))\n",
    "models.append(('Bagging', ensemble.BaggingClassifier()))\n",
    "models.append(('AdaBoost', ensemble.AdaBoostClassifier()))\n",
    "models.append(('DT', DecisionTreeClassifier()))\n",
    "models.append(('GBDT', GradientBoostingClassifier()))\n",
    "models.append(('XBDT', XGBClassifier()))\n",
    "\n",
    "print('--------------------------------\\n')\n",
    "print('#The Classification Accuracy for Different Algorithms \\n')\n",
    "\n",
    "results = []\n",
    "names = []\n",
    "scoring = 'accuracy'\n",
    "for name, model in models:\n",
    "\tkfold = model_selection.KFold(n_splits=10, random_state=seed)\n",
    "\tcv_results = model_selection.cross_val_score(model, x, y, cv=kfold, scoring=scoring)\n",
    "\tresults.append(cv_results)\n",
    "\tnames.append(name)\n",
    "\tmsg = \" model: %s , accuracy: %5.3f , std: %5.3f \" % (name, cv_results.mean(), cv_results.std())\n",
    "\tprint(msg)  \n",
    " \n",
    "print('--------------------------------\\n')"
   ]
  },
  {
   "cell_type": "code",
   "execution_count": 8,
   "metadata": {},
   "outputs": [
    {
     "data": {
      "text/html": [
       "<div>\n",
       "<style scoped>\n",
       "    .dataframe tbody tr th:only-of-type {\n",
       "        vertical-align: middle;\n",
       "    }\n",
       "\n",
       "    .dataframe tbody tr th {\n",
       "        vertical-align: top;\n",
       "    }\n",
       "\n",
       "    .dataframe thead tr th {\n",
       "        text-align: left;\n",
       "    }\n",
       "</style>\n",
       "<table border=\"1\" class=\"dataframe\">\n",
       "  <thead>\n",
       "    <tr>\n",
       "      <th></th>\n",
       "      <th>Model</th>\n",
       "      <th>accuracy</th>\n",
       "      <th>Rank</th>\n",
       "    </tr>\n",
       "  </thead>\n",
       "  <tbody>\n",
       "    <tr>\n",
       "      <th>0</th>\n",
       "      <td>LogisticR</td>\n",
       "      <td>0.995</td>\n",
       "      <td>2</td>\n",
       "    </tr>\n",
       "    <tr>\n",
       "      <th>1</th>\n",
       "      <td>LDA</td>\n",
       "      <td>0.995</td>\n",
       "      <td>2</td>\n",
       "    </tr>\n",
       "    <tr>\n",
       "      <th>2</th>\n",
       "      <td>KNN</td>\n",
       "      <td>0.995</td>\n",
       "      <td>2</td>\n",
       "    </tr>\n",
       "    <tr>\n",
       "      <th>3</th>\n",
       "      <td>CART</td>\n",
       "      <td>0.975</td>\n",
       "      <td>9</td>\n",
       "    </tr>\n",
       "    <tr>\n",
       "      <th>4</th>\n",
       "      <td>NB</td>\n",
       "      <td>0.995</td>\n",
       "      <td>2</td>\n",
       "    </tr>\n",
       "    <tr>\n",
       "      <th>5</th>\n",
       "      <td>SVM</td>\n",
       "      <td>0.000</td>\n",
       "      <td>12</td>\n",
       "    </tr>\n",
       "    <tr>\n",
       "      <th>6</th>\n",
       "      <td>RF</td>\n",
       "      <td>0.990</td>\n",
       "      <td>5</td>\n",
       "    </tr>\n",
       "    <tr>\n",
       "      <th>7</th>\n",
       "      <td>Bagging</td>\n",
       "      <td>0.985</td>\n",
       "      <td>6</td>\n",
       "    </tr>\n",
       "    <tr>\n",
       "      <th>8</th>\n",
       "      <td>AdaBoost</td>\n",
       "      <td>0.980</td>\n",
       "      <td>8</td>\n",
       "    </tr>\n",
       "    <tr>\n",
       "      <th>9</th>\n",
       "      <td>DT</td>\n",
       "      <td>0.970</td>\n",
       "      <td>11</td>\n",
       "    </tr>\n",
       "    <tr>\n",
       "      <th>10</th>\n",
       "      <td>GBDT</td>\n",
       "      <td>0.975</td>\n",
       "      <td>9</td>\n",
       "    </tr>\n",
       "    <tr>\n",
       "      <th>11</th>\n",
       "      <td>XBDT</td>\n",
       "      <td>0.985</td>\n",
       "      <td>6</td>\n",
       "    </tr>\n",
       "  </tbody>\n",
       "</table>\n",
       "</div>"
      ],
      "text/plain": [
       "        Model accuracy Rank\n",
       "0   LogisticR    0.995    2\n",
       "1         LDA    0.995    2\n",
       "2         KNN    0.995    2\n",
       "3        CART    0.975    9\n",
       "4          NB    0.995    2\n",
       "5         SVM    0.000   12\n",
       "6          RF    0.990    5\n",
       "7     Bagging    0.985    6\n",
       "8    AdaBoost    0.980    8\n",
       "9          DT    0.970   11\n",
       "10       GBDT    0.975    9\n",
       "11       XBDT    0.985    6"
      ]
     },
     "execution_count": 8,
     "metadata": {},
     "output_type": "execute_result"
    }
   ],
   "source": [
    "#pd.DataFrame(msg)\n",
    "results=pd.DataFrame(results)\n",
    "Name=pd.DataFrame(names)\n",
    "resM=pd.DataFrame(results.mean(1))\n",
    "resM=pd.concat([Name,resM], axis=1)\n",
    "resM.columns=[['Model','accuracy']]\n",
    "resM['Rank'] = resM['accuracy'].rank(ascending=False).astype(int)\n",
    "resM"
   ]
  },
  {
   "cell_type": "code",
   "execution_count": 9,
   "metadata": {},
   "outputs": [
    {
     "data": {
      "image/png": "[encoded data removed]",
      "text/plain": [
       "<Figure size 864x720 with 1 Axes>"
      ]
     },
     "metadata": {},
     "output_type": "display_data"
    }
   ],
   "source": [
    "from matplotlib.pylab import rcParams\n",
    "sns.set(font_scale=1) #****************\n",
    "rcParams['figure.figsize'] = 12, 10\n",
    "\n",
    "# boxplot algorithm comparison\n",
    "fig = plt.figure()\n",
    "fig.suptitle('The Algorithm Comparison')\n",
    "ax = fig.add_subplot(111)\n",
    "plt.boxplot(results)\n",
    "ax.set_xticklabels(names)\n",
    "plt.show()"
   ]
  },
  {
   "cell_type": "code",
   "execution_count": 10,
   "metadata": {},
   "outputs": [
    {
     "name": "stderr",
     "output_type": "stream",
     "text": [
      "C:\\Users\\user\\Anaconda3\\lib\\site-packages\\sklearn\\model_selection\\_split.py:296: FutureWarning: Setting a random_state has no effect since shuffle is False. This will raise an error in 0.24. You should leave random_state to its default (None), or set shuffle=True.\n",
      "  FutureWarning\n"
     ]
    },
    {
     "data": {
      "text/plain": [
       "0.9949999999999999"
      ]
     },
     "execution_count": 10,
     "metadata": {},
     "output_type": "execute_result"
    }
   ],
   "source": [
    "#以Logistic Regression為例\n",
    "model=linear_model.LogisticRegression()\n",
    "kfold = model_selection.KFold(n_splits=10, random_state=seed)\n",
    "cv_results = model_selection.cross_val_score(model, x, y, cv=kfold, scoring=scoring)\n",
    "cv_results.mean()"
   ]
  },
  {
   "cell_type": "code",
   "execution_count": 11,
   "metadata": {},
   "outputs": [
    {
     "name": "stdout",
     "output_type": "stream",
     "text": [
      "#The Intercept and coefficients\n",
      "\n",
      "[-0.00866942]\n",
      "[[-0.39983658 -0.45443385 -0.76403582 -1.81512641 -1.58014321  1.98279158]]\n"
     ]
    }
   ],
   "source": [
    "model.fit(x,y)  \n",
    "print('#The Intercept and coefficients\\n')\n",
    "print(model.intercept_ )  \n",
    "print(model.coef_) "
   ]
  },
  {
   "cell_type": "code",
   "execution_count": 12,
   "metadata": {},
   "outputs": [
    {
     "name": "stdout",
     "output_type": "stream",
     "text": [
      "#The Relative Importance \n",
      "\n"
     ]
    },
    {
     "data": {
      "text/html": [
       "<div>\n",
       "<style scoped>\n",
       "    .dataframe tbody tr th:only-of-type {\n",
       "        vertical-align: middle;\n",
       "    }\n",
       "\n",
       "    .dataframe tbody tr th {\n",
       "        vertical-align: top;\n",
       "    }\n",
       "\n",
       "    .dataframe thead th {\n",
       "        text-align: right;\n",
       "    }\n",
       "</style>\n",
       "<table border=\"1\" class=\"dataframe\">\n",
       "  <thead>\n",
       "    <tr style=\"text-align: right;\">\n",
       "      <th></th>\n",
       "      <th>Feature</th>\n",
       "      <th>Importance</th>\n",
       "      <th>Rank</th>\n",
       "    </tr>\n",
       "  </thead>\n",
       "  <tbody>\n",
       "    <tr>\n",
       "      <th>0</th>\n",
       "      <td>LENGTH</td>\n",
       "      <td>0.944</td>\n",
       "      <td>1</td>\n",
       "    </tr>\n",
       "    <tr>\n",
       "      <th>1</th>\n",
       "      <td>LEFT</td>\n",
       "      <td>0.825</td>\n",
       "      <td>2</td>\n",
       "    </tr>\n",
       "    <tr>\n",
       "      <th>2</th>\n",
       "      <td>RIGHT</td>\n",
       "      <td>0.769</td>\n",
       "      <td>3</td>\n",
       "    </tr>\n",
       "    <tr>\n",
       "      <th>3</th>\n",
       "      <td>BOTTOM</td>\n",
       "      <td>0.000</td>\n",
       "      <td>6</td>\n",
       "    </tr>\n",
       "    <tr>\n",
       "      <th>4</th>\n",
       "      <td>TOP</td>\n",
       "      <td>0.037</td>\n",
       "      <td>5</td>\n",
       "    </tr>\n",
       "    <tr>\n",
       "      <th>5</th>\n",
       "      <td>DIAGONAL</td>\n",
       "      <td>0.218</td>\n",
       "      <td>4</td>\n",
       "    </tr>\n",
       "  </tbody>\n",
       "</table>\n",
       "</div>"
      ],
      "text/plain": [
       "    Feature  Importance  Rank\n",
       "0    LENGTH       0.944     1\n",
       "1      LEFT       0.825     2\n",
       "2     RIGHT       0.769     3\n",
       "3    BOTTOM       0.000     6\n",
       "4       TOP       0.037     5\n",
       "5  DIAGONAL       0.218     4"
      ]
     },
     "execution_count": 12,
     "metadata": {},
     "output_type": "execute_result"
    }
   ],
   "source": [
    "print('#The Relative Importance \\n')\n",
    "from sklearn.feature_selection import chi2    \n",
    "from scipy import stats\n",
    "importance= chi2(x, y)[1]  \n",
    "Feature=pd.DataFrame(x.columns, columns=['Feature'])\n",
    "Importance =pd.DataFrame(np.round(importance,3), columns=['Importance'])  \n",
    "dtt= Feature.join(Importance)\n",
    "dtt2= dtt\n",
    "dtt2['Rank'] = dtt2['Importance'].rank(ascending=False)\n",
    "dtt2['Rank'] = dtt2['Rank'].astype('int')\n",
    "dtt2"
   ]
  },
  {
   "cell_type": "code",
   "execution_count": 13,
   "metadata": {},
   "outputs": [
    {
     "data": {
      "image/png": "[encoded data removed]",
      "text/plain": [
       "<Figure size 864x720 with 1 Axes>"
      ]
     },
     "metadata": {},
     "output_type": "display_data"
    }
   ],
   "source": [
    "#繪圖\n",
    "sns.set_style(\"darkgrid\")\n",
    "x=dtt[\"Feature\"]\n",
    "y=dtt[\"Importance\"]\n",
    "\n",
    "bar_plot = sns.barplot(x=y,y=x,palette=\"muted\",order=x.tolist())  #使用排序\n",
    "plt.xticks(rotation=85)\n",
    "plt.show()"
   ]
  },
  {
   "cell_type": "code",
   "execution_count": 17,
   "metadata": {},
   "outputs": [
    {
     "name": "stdout",
     "output_type": "stream",
     "text": [
      "# Predictive simulation \n",
      "\n"
     ]
    },
    {
     "data": {
      "text/html": [
       "<div>\n",
       "<style scoped>\n",
       "    .dataframe tbody tr th:only-of-type {\n",
       "        vertical-align: middle;\n",
       "    }\n",
       "\n",
       "    .dataframe tbody tr th {\n",
       "        vertical-align: top;\n",
       "    }\n",
       "\n",
       "    .dataframe thead th {\n",
       "        text-align: right;\n",
       "    }\n",
       "</style>\n",
       "<table border=\"1\" class=\"dataframe\">\n",
       "  <thead>\n",
       "    <tr style=\"text-align: right;\">\n",
       "      <th></th>\n",
       "      <th>LENGTH</th>\n",
       "      <th>LEFT</th>\n",
       "      <th>RIGHT</th>\n",
       "      <th>BOTTOM</th>\n",
       "      <th>TOP</th>\n",
       "      <th>DIAGONAL</th>\n",
       "    </tr>\n",
       "    <tr>\n",
       "      <th>No</th>\n",
       "      <th></th>\n",
       "      <th></th>\n",
       "      <th></th>\n",
       "      <th></th>\n",
       "      <th></th>\n",
       "      <th></th>\n",
       "    </tr>\n",
       "  </thead>\n",
       "  <tbody>\n",
       "    <tr>\n",
       "      <th>N001</th>\n",
       "      <td>214.8</td>\n",
       "      <td>131.0</td>\n",
       "      <td>131.1</td>\n",
       "      <td>9.0</td>\n",
       "      <td>9.7</td>\n",
       "      <td>141.0</td>\n",
       "    </tr>\n",
       "    <tr>\n",
       "      <th>N002</th>\n",
       "      <td>214.6</td>\n",
       "      <td>129.7</td>\n",
       "      <td>129.7</td>\n",
       "      <td>8.1</td>\n",
       "      <td>9.5</td>\n",
       "      <td>141.7</td>\n",
       "    </tr>\n",
       "    <tr>\n",
       "      <th>N003</th>\n",
       "      <td>214.8</td>\n",
       "      <td>129.7</td>\n",
       "      <td>129.7</td>\n",
       "      <td>8.7</td>\n",
       "      <td>9.6</td>\n",
       "      <td>142.2</td>\n",
       "    </tr>\n",
       "    <tr>\n",
       "      <th>N004</th>\n",
       "      <td>214.8</td>\n",
       "      <td>129.7</td>\n",
       "      <td>129.6</td>\n",
       "      <td>7.5</td>\n",
       "      <td>10.4</td>\n",
       "      <td>142.0</td>\n",
       "    </tr>\n",
       "  </tbody>\n",
       "</table>\n",
       "</div>"
      ],
      "text/plain": [
       "      LENGTH   LEFT  RIGHT  BOTTOM   TOP  DIAGONAL\n",
       "No                                                \n",
       "N001   214.8  131.0  131.1     9.0   9.7     141.0\n",
       "N002   214.6  129.7  129.7     8.1   9.5     141.7\n",
       "N003   214.8  129.7  129.7     8.7   9.6     142.2\n",
       "N004   214.8  129.7  129.6     7.5  10.4     142.0"
      ]
     },
     "execution_count": 17,
     "metadata": {},
     "output_type": "execute_result"
    }
   ],
   "source": [
    "print('# Predictive simulation \\n')\n",
    "#dtNew = pd.read_csv( \"./data/titanic1317pred2.csv\", index_col=0)  \n",
    "dtNew = pd.read_csv( \"./data/moneyPred.csv\", index_col=0)  \n",
    "dtNew"
   ]
  },
  {
   "cell_type": "code",
   "execution_count": 30,
   "metadata": {},
   "outputs": [
    {
     "name": "stdout",
     "output_type": "stream",
     "text": [
      "#The prediction of new data \n"
     ]
    },
    {
     "data": {
      "text/plain": [
       "array([ True,  True,  True,  True])"
      ]
     },
     "execution_count": 30,
     "metadata": {},
     "output_type": "execute_result"
    }
   ],
   "source": [
    "print('#The prediction of new data ')\n",
    "pred = model.predict(dtNew) \n",
    "pred"
   ]
  },
  {
   "cell_type": "code",
   "execution_count": 33,
   "metadata": {},
   "outputs": [
    {
     "data": {
      "text/plain": [
       "<bound method DataFrame.reset_index of       LENGTH   LEFT  RIGHT  BOTTOM   TOP  DIAGONAL\n",
       "No                                                \n",
       "N001   214.8  131.0  131.1     9.0   9.7     141.0\n",
       "N002   214.6  129.7  129.7     8.1   9.5     141.7\n",
       "N003   214.8  129.7  129.7     8.7   9.6     142.2\n",
       "N004   214.8  129.7  129.6     7.5  10.4     142.0>"
      ]
     },
     "execution_count": 33,
     "metadata": {},
     "output_type": "execute_result"
    }
   ],
   "source": [
    "dtNew.reset_index"
   ]
  },
  {
   "cell_type": "code",
   "execution_count": 34,
   "metadata": {},
   "outputs": [
    {
     "ename": "AttributeError",
     "evalue": "'function' object has no attribute 'join'",
     "output_type": "error",
     "traceback": [
      "\u001b[1;31m---------------------------------------------------------------------------\u001b[0m",
      "\u001b[1;31mAttributeError\u001b[0m                            Traceback (most recent call last)",
      "\u001b[1;32m<ipython-input-34-46eb656afa13>\u001b[0m in \u001b[0;36m<module>\u001b[1;34m\u001b[0m\n\u001b[0;32m      2\u001b[0m \u001b[1;31m#pDt = pd.read_csv( \"./data/moneyPred.csv\", index_col=0)\u001b[0m\u001b[1;33m\u001b[0m\u001b[1;33m\u001b[0m\u001b[1;33m\u001b[0m\u001b[0m\n\u001b[0;32m      3\u001b[0m \u001b[0mpDt\u001b[0m \u001b[1;33m=\u001b[0m \u001b[0mdtNew\u001b[0m\u001b[1;33m.\u001b[0m\u001b[0mreset_index\u001b[0m\u001b[1;33m\u001b[0m\u001b[1;33m\u001b[0m\u001b[0m\n\u001b[1;32m----> 4\u001b[1;33m \u001b[0mpredDt\u001b[0m\u001b[1;33m=\u001b[0m\u001b[0mpDt\u001b[0m\u001b[1;33m.\u001b[0m\u001b[0mjoin\u001b[0m\u001b[1;33m(\u001b[0m\u001b[0mY\u001b[0m\u001b[1;33m)\u001b[0m\u001b[1;33m\u001b[0m\u001b[1;33m\u001b[0m\u001b[0m\n\u001b[0m\u001b[0;32m      5\u001b[0m \u001b[0mprint\u001b[0m\u001b[1;33m(\u001b[0m\u001b[1;34m'--------------------------------\\n'\u001b[0m\u001b[1;33m)\u001b[0m\u001b[1;33m\u001b[0m\u001b[1;33m\u001b[0m\u001b[0m\n\u001b[0;32m      6\u001b[0m \u001b[0mprint\u001b[0m\u001b[1;33m(\u001b[0m\u001b[1;34m'#The Forecast results \\n'\u001b[0m\u001b[1;33m)\u001b[0m\u001b[1;33m\u001b[0m\u001b[1;33m\u001b[0m\u001b[0m\n",
      "\u001b[1;31mAttributeError\u001b[0m: 'function' object has no attribute 'join'"
     ]
    }
   ],
   "source": [
    "Y=pd.DataFrame(pred, columns=['Y'])  \n",
    "#pDt = pd.read_csv( \"./data/moneyPred.csv\", index_col=0)  \n",
    "pDt = dtNew.reset_index  \n",
    "predDt=pDt.join(Y)\n",
    "print('--------------------------------\\n')\n",
    "print('#The Forecast results \\n')\n",
    "print(round(predDt,3)) "
   ]
  },
  {
   "cell_type": "code",
   "execution_count": null,
   "metadata": {},
   "outputs": [],
   "source": []
  }
 ],
 "metadata": {
  "kernelspec": {
   "display_name": "Python 3",
   "language": "python",
   "name": "python3"
  },
  "language_info": {
   "codemirror_mode": {
    "name": "ipython",
    "version": 3
   },
   "file_extension": ".py",
   "mimetype": "text/x-python",
   "name": "python",
   "nbconvert_exporter": "python",
   "pygments_lexer": "ipython3",
   "version": "3.7.3"
  }
 },
 "nbformat": 4,
 "nbformat_minor": 2
}
