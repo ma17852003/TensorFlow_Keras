{
 "cells": [
  {
   "cell_type": "code",
   "execution_count": 1,
   "metadata": {
    "colab": {
     "base_uri": "https://localhost:8080/",
     "height": 33
    },
    "colab_type": "code",
    "executionInfo": {
     "elapsed": 7402,
     "status": "ok",
     "timestamp": 1590202910583,
     "user": {
      "displayName": "Mike Wu",
      "photoUrl": "https://lh3.googleusercontent.com/a-/AOh14GhpqrLyHPmWGWl0C8pNFquPQiDSPUKVzkeZTK_hzA=s64",
      "userId": "02480068086185773948"
     },
     "user_tz": -480
    },
    "id": "u8LN8BD_RHY5",
    "outputId": "0b7f4374-fe9e-409b-d5fc-3dd60062fb8c"
   },
   "outputs": [
    {
     "name": "stderr",
     "output_type": "stream",
     "text": [
      "Using TensorFlow backend.\n"
     ]
    }
   ],
   "source": [
    "# -*- coding: utf-8 -*-\n",
    "#-*- coding: cp950 -*-\n",
    "import os\n",
    "import numpy as np\n",
    "import pandas as pd\n",
    "import matplotlib.pyplot as plt\n",
    "from PIL import Image\n",
    "from pathlib import Path\n",
    "from typing import *\n",
    "\n",
    "import torch\n",
    "import torch.optim as optim\n",
    "\n",
    "%reload_ext autoreload\n",
    "%autoreload 2\n",
    "%matplotlib inline\n",
    "\n",
    "from fastai import *\n",
    "from fastai.vision import *\n",
    "from fastai.text import *\n",
    "from fastai.callbacks import *\n",
    "from fastai.core import *\n",
    "\n",
    "import tensorflow as tf\n",
    "import random as rn\n",
    "np.random.seed(0)\n",
    "rn.seed(0)\n",
    "\n",
    "import keras\n",
    "from keras.applications.vgg16 import VGG16\n",
    "from keras.preprocessing import image\n",
    "from keras.applications.vgg16 import preprocess_input\n",
    "# Importing sklearn libraries\n",
    "from sklearn.model_selection import GridSearchCV\n",
    "from sklearn.linear_model import LogisticRegression\n",
    "from sklearn.metrics import confusion_matrix, accuracy_score\n",
    "import pickle\n",
    "\n",
    "from keras.preprocessing import image\n",
    "from sklearn.model_selection import train_test_split\n",
    "\n",
    "# Importing Keras libraries\n",
    "from keras.utils import np_utils\n",
    "from keras.models import Sequential\n",
    "from keras.applications import VGG16\n",
    "from keras.applications import imagenet_utils\n",
    "from keras.callbacks import ModelCheckpoint\n",
    "from keras.preprocessing.image import load_img\n",
    "from keras.preprocessing.image import img_to_array\n",
    "from keras.layers import Dense, Conv2D, MaxPooling2D\n",
    "from keras.layers import Dropout, Flatten, GlobalAveragePooling2D\n",
    " \n",
    "import warnings\n",
    "warnings.filterwarnings('ignore')\n",
    "import cv2"
   ]
  },
  {
   "cell_type": "code",
   "execution_count": 0,
   "metadata": {
    "colab": {
     "base_uri": "https://localhost:8080/",
     "height": 33
    },
    "colab_type": "code",
    "executionInfo": {
     "elapsed": 1158,
     "status": "ok",
     "timestamp": 1590199443604,
     "user": {
      "displayName": "Mike Wu",
      "photoUrl": "https://lh3.googleusercontent.com/a-/AOh14GhpqrLyHPmWGWl0C8pNFquPQiDSPUKVzkeZTK_hzA=s64",
      "userId": "02480068086185773948"
     },
     "user_tz": -480
    },
    "id": "DDG-deTURHY9",
    "outputId": "7a7db369-a50a-4278-8922-e4baf2cf92c8"
   },
   "outputs": [
    {
     "data": {
      "text/plain": [
       "['.config', 'sample_data']"
      ]
     },
     "execution_count": 2,
     "metadata": {
      "tags": []
     },
     "output_type": "execute_result"
    }
   ],
   "source": [
    "os.listdir()"
   ]
  },
  {
   "cell_type": "code",
   "execution_count": 2,
   "metadata": {
    "colab": {
     "base_uri": "https://localhost:8080/",
     "height": 120
    },
    "colab_type": "code",
    "executionInfo": {
     "elapsed": 26703,
     "status": "ok",
     "timestamp": 1590202938640,
     "user": {
      "displayName": "Mike Wu",
      "photoUrl": "https://lh3.googleusercontent.com/a-/AOh14GhpqrLyHPmWGWl0C8pNFquPQiDSPUKVzkeZTK_hzA=s64",
      "userId": "02480068086185773948"
     },
     "user_tz": -480
    },
    "id": "ebbYKtYnRHZA",
    "outputId": "faeeae5f-b989-4398-ce41-818ff18970e1"
   },
   "outputs": [
    {
     "name": "stdout",
     "output_type": "stream",
     "text": [
      "Go to this URL in a browser: https://accounts.google.com/o/oauth2/auth?client_id=947318989803-6bn6qk8qdgf4n4g3pfee6491hc0brc4i.apps.googleusercontent.com&redirect_uri=urn%3aietf%3awg%3aoauth%3a2.0%3aoob&response_type=code&scope=email%20https%3a%2f%2fwww.googleapis.com%2fauth%2fdocs.test%20https%3a%2f%2fwww.googleapis.com%2fauth%2fdrive%20https%3a%2f%2fwww.googleapis.com%2fauth%2fdrive.photos.readonly%20https%3a%2f%2fwww.googleapis.com%2fauth%2fpeopleapi.readonly\n",
      "\n",
      "Enter your authorization code:\n",
      "··········\n",
      "Mounted at /content/gdrive\n"
     ]
    }
   ],
   "source": [
    "#在colab下接入google drive\n",
    "from google.colab import drive\n",
    "drive.mount('/content/gdrive',force_remount = True)\n",
    "base_dir = '/content/gdrive/My Drive'\n",
    "#path = Path(base_dir +'/imgs4')  #imgs\n",
    "path = Path(base_dir +'/DLtry')\n",
    "path.mkdir(parents=True,exist_ok=True)\n",
    "os.chdir(path)"
   ]
  },
  {
   "cell_type": "code",
   "execution_count": 0,
   "metadata": {
    "colab": {},
    "colab_type": "code",
    "id": "SRbenUVmRHZC"
   },
   "outputs": [],
   "source": [
    "#分割數據與設定參數\n",
    "input_shape = (224, 224, 3)\n",
    "batch_size = 128\n",
    "epochs = 12 #100\n",
    "num_classes = 2  #######\n",
    "\n",
    "x = []\n",
    "y = []\n",
    "\n",
    "for f in os.listdir(\"sakura\"):\n",
    "    x.append(image.img_to_array(image.load_img(\"sakura/\"+f, target_size=input_shape[:2])))\n",
    "    y.append(0)\n",
    "for f in os.listdir(\"cosmos\"):\n",
    "    x.append(image.img_to_array(image.load_img(\"cosmos/\"+f, target_size=input_shape[:2])))\n",
    "    y.append(1)\n",
    "    \n",
    "x = np.asarray(x)\n",
    "x /= 255\n",
    "y = np.asarray(y)\n",
    "y = keras.utils.to_categorical(y, num_classes)\n",
    "\n",
    "x_train, x_test, y_train, y_test = train_test_split(x, y, test_size=0.33, random_state= 3)"
   ]
  },
  {
   "cell_type": "code",
   "execution_count": 4,
   "metadata": {
    "colab": {
     "base_uri": "https://localhost:8080/",
     "height": 435
    },
    "colab_type": "code",
    "executionInfo": {
     "elapsed": 58470,
     "status": "ok",
     "timestamp": 1590203088865,
     "user": {
      "displayName": "Mike Wu",
      "photoUrl": "https://lh3.googleusercontent.com/a-/AOh14GhpqrLyHPmWGWl0C8pNFquPQiDSPUKVzkeZTK_hzA=s64",
      "userId": "02480068086185773948"
     },
     "user_tz": -480
    },
    "id": "omgjJglaRHZG",
    "outputId": "57f210a6-0c01-4631-d6aa-48ec5fc7750e"
   },
   "outputs": [
    {
     "name": "stdout",
     "output_type": "stream",
     "text": [
      "Train on 20 samples, validate on 10 samples\n",
      "Epoch 1/12\n",
      "20/20 [==============================] - 6s 286ms/step - loss: 0.6993 - accuracy: 0.5500 - val_loss: 1.6414 - val_accuracy: 0.5000\n",
      "Epoch 2/12\n",
      "20/20 [==============================] - 4s 222ms/step - loss: 1.9550 - accuracy: 0.5000 - val_loss: 0.7921 - val_accuracy: 0.5000\n",
      "Epoch 3/12\n",
      "20/20 [==============================] - 5s 258ms/step - loss: 1.4339 - accuracy: 0.6000 - val_loss: 0.8613 - val_accuracy: 0.5000\n",
      "Epoch 4/12\n",
      "20/20 [==============================] - 5s 225ms/step - loss: 0.8930 - accuracy: 0.5000 - val_loss: 1.3963 - val_accuracy: 0.5000\n",
      "Epoch 5/12\n",
      "20/20 [==============================] - 4s 220ms/step - loss: 1.3080 - accuracy: 0.5000 - val_loss: 1.0090 - val_accuracy: 0.5000\n",
      "Epoch 6/12\n",
      "20/20 [==============================] - 4s 222ms/step - loss: 0.9255 - accuracy: 0.5000 - val_loss: 0.6833 - val_accuracy: 0.5000\n",
      "Epoch 7/12\n",
      "20/20 [==============================] - 4s 220ms/step - loss: 0.6375 - accuracy: 0.5000 - val_loss: 0.6808 - val_accuracy: 0.5000\n",
      "Epoch 8/12\n",
      "20/20 [==============================] - 4s 220ms/step - loss: 0.6018 - accuracy: 0.5500 - val_loss: 0.6804 - val_accuracy: 0.5000\n",
      "Epoch 9/12\n",
      "20/20 [==============================] - 4s 221ms/step - loss: 0.5951 - accuracy: 0.6500 - val_loss: 0.6782 - val_accuracy: 0.5000\n",
      "Epoch 10/12\n",
      "20/20 [==============================] - 4s 219ms/step - loss: 0.5794 - accuracy: 0.7500 - val_loss: 0.6783 - val_accuracy: 0.5000\n",
      "Epoch 11/12\n",
      "20/20 [==============================] - 4s 221ms/step - loss: 0.5083 - accuracy: 0.8500 - val_loss: 0.6847 - val_accuracy: 0.5000\n",
      "Epoch 12/12\n",
      "20/20 [==============================] - 4s 221ms/step - loss: 0.4803 - accuracy: 0.9000 - val_loss: 0.6940 - val_accuracy: 0.5000\n"
     ]
    }
   ],
   "source": [
    "#建立DNN模型\n",
    "from keras.models import Sequential  #必須適時呼叫***\n",
    "from keras.layers import Dense, Dropout, Flatten\n",
    "from keras.layers import Conv2D, MaxPooling2D\n",
    "\n",
    "model = Sequential()\n",
    "model.add(Conv2D(32, kernel_size=(3, 3),activation='relu',input_shape=input_shape))\n",
    "model.add(Conv2D(64, (3, 3), activation='relu'))\n",
    "model.add(MaxPooling2D(pool_size=(2, 2)))\n",
    "model.add(Dropout(0.25))\n",
    "model.add(Flatten())\n",
    "model.add(Dense(128, activation='relu'))\n",
    "model.add(Dropout(0.5))\n",
    "model.add(Dense(num_classes, activation='softmax'))\n",
    "\n",
    "model.compile(loss=keras.losses.categorical_crossentropy,optimizer=\"SGD\",metrics=['accuracy'])\n",
    "history = model.fit(x_train, y_train, batch_size=batch_size, epochs=epochs,verbose=1, validation_data=(x_test, y_test))"
   ]
  },
  {
   "cell_type": "code",
   "execution_count": 0,
   "metadata": {
    "colab": {},
    "colab_type": "code",
    "id": "HuwL9M9hRHZJ"
   },
   "outputs": [],
   "source": [
    "最終的に訓練データに対する精度が100%、バリデーションデータに対する精度が70%になっています。\n",
    "それぞれの精度の推移を可視化するとわかるように、過学習の兆候が見られます。\n",
    "これは訓練データが10枚/クラス × 2クラス = 20枚と、非常に少ないために起こっていることです。"
   ]
  },
  {
   "cell_type": "code",
   "execution_count": 0,
   "metadata": {
    "colab": {},
    "colab_type": "code",
    "id": "eCQ-vtErRHZL"
   },
   "outputs": [],
   "source": [
    "エポック数を5倍の500に増やすと、過学習の傾向がより顕著に観察できます。100エポック目では70%程度あったバリデーションデータに対する精度が、\n",
    "500エポックが経過するころには60%前後に下がっています。また、訓練データに対する損失関数の値は下がり続けていますが、\n",
    "バリデーションデータに対する損失関数の値が100エポックくらいを境に逆に上がり始めています。"
   ]
  },
  {
   "cell_type": "code",
   "execution_count": 6,
   "metadata": {
    "colab": {
     "base_uri": "https://localhost:8080/",
     "height": 350
    },
    "colab_type": "code",
    "executionInfo": {
     "elapsed": 1232,
     "status": "ok",
     "timestamp": 1590203254216,
     "user": {
      "displayName": "Mike Wu",
      "photoUrl": "https://lh3.googleusercontent.com/a-/AOh14GhpqrLyHPmWGWl0C8pNFquPQiDSPUKVzkeZTK_hzA=s64",
      "userId": "02480068086185773948"
     },
     "user_tz": -480
    },
    "id": "YRDNl22NRHZQ",
    "outputId": "089cd68d-0a82-49ea-ce46-25fd5af82975"
   },
   "outputs": [
    {
     "data": {
      "image/png": "[encoded data removed]",
      "text/plain": [
       "<Figure size 720x360 with 2 Axes>"
      ]
     },
     "metadata": {
      "needs_background": "light",
      "tags": []
     },
     "output_type": "display_data"
    }
   ],
   "source": [
    "def plot_acc_loss(history):\n",
    "    fig = plt.figure(figsize=(10,5))\n",
    "    plt.subplot(1, 2, 1)\n",
    "    plt.plot(history.history['accuracy'])\n",
    "    plt.plot(history.history['val_accuracy'])\n",
    "    plt.title('model accuracy')\n",
    "    plt.ylabel('accuracy')\n",
    "    plt.xlabel('epoch')\n",
    "    plt.legend(['train', 'validation'], loc='upper left')\n",
    " \n",
    "    plt.subplot(1, 2, 2)\n",
    "    plt.plot(history.history['loss'])\n",
    "    plt.plot(history.history['val_loss'])\n",
    "    plt.title('model loss')\n",
    "    plt.ylabel('loss')\n",
    "    plt.xlabel('epoch')\n",
    "    plt.legend(['train', 'test'], loc='upper right')\n",
    "    plt.show()\n",
    " \n",
    "plot_acc_loss(history)"
   ]
  },
  {
   "cell_type": "code",
   "execution_count": 0,
   "metadata": {
    "colab": {},
    "colab_type": "code",
    "id": "iRcU332vRHZS"
   },
   "outputs": [],
   "source": []
  },
  {
   "cell_type": "code",
   "execution_count": 0,
   "metadata": {
    "colab": {},
    "colab_type": "code",
    "id": "zowohEH9RHZU"
   },
   "outputs": [],
   "source": []
  }
 ],
 "metadata": {
  "accelerator": "TPU",
  "colab": {
   "collapsed_sections": [],
   "name": "simple DNN.ipynb",
   "provenance": []
  },
  "kernelspec": {
   "display_name": "Python 3",
   "language": "python",
   "name": "python3"
  },
  "language_info": {
   "codemirror_mode": {
    "name": "ipython",
    "version": 3
   },
   "file_extension": ".py",
   "mimetype": "text/x-python",
   "name": "python",
   "nbconvert_exporter": "python",
   "pygments_lexer": "ipython3",
   "version": "3.7.3"
  }
 },
 "nbformat": 4,
 "nbformat_minor": 1
}
