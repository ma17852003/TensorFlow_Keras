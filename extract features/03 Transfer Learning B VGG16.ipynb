{
 "cells": [
  {
   "cell_type": "code",
   "execution_count": 1,
   "metadata": {
    "colab": {
     "base_uri": "https://localhost:8080/",
     "height": 33
    },
    "colab_type": "code",
    "executionInfo": {
     "elapsed": 6836,
     "status": "ok",
     "timestamp": 1590203697904,
     "user": {
      "displayName": "Mike Wu",
      "photoUrl": "https://lh3.googleusercontent.com/a-/AOh14GhpqrLyHPmWGWl0C8pNFquPQiDSPUKVzkeZTK_hzA=s64",
      "userId": "02480068086185773948"
     },
     "user_tz": -480
    },
    "id": "W6HwCL3dWG2y",
    "outputId": "fde03afa-257d-4159-f507-d89ee87f87dc"
   },
   "outputs": [
    {
     "name": "stderr",
     "output_type": "stream",
     "text": [
      "Using TensorFlow backend.\n"
     ]
    }
   ],
   "source": [
    "# -*- coding: utf-8 -*-\n",
    "#-*- coding: cp950 -*-\n",
    "import os\n",
    "import numpy as np\n",
    "import pandas as pd\n",
    "import matplotlib.pyplot as plt\n",
    "from PIL import Image\n",
    "from pathlib import Path\n",
    "from typing import *\n",
    "\n",
    "import torch\n",
    "import torch.optim as optim\n",
    "\n",
    "%reload_ext autoreload\n",
    "%autoreload 2\n",
    "%matplotlib inline\n",
    "\n",
    "from fastai import *\n",
    "from fastai.vision import *\n",
    "from fastai.text import *\n",
    "from fastai.callbacks import *\n",
    "from fastai.core import *\n",
    "\n",
    "import tensorflow as tf\n",
    "import random as rn\n",
    "np.random.seed(0)\n",
    "rn.seed(0)\n",
    "\n",
    "import keras\n",
    "from keras.applications.vgg16 import VGG16\n",
    "from keras.preprocessing import image\n",
    "from keras.applications.vgg16 import preprocess_input\n",
    "# Importing sklearn libraries\n",
    "from sklearn.model_selection import GridSearchCV\n",
    "from sklearn.linear_model import LogisticRegression\n",
    "from sklearn.metrics import confusion_matrix, accuracy_score\n",
    "import pickle\n",
    "\n",
    "from keras.preprocessing import image\n",
    "from sklearn.model_selection import train_test_split\n",
    "\n",
    "# Importing Keras libraries\n",
    "from keras.utils import np_utils\n",
    "from keras.models import Sequential\n",
    "from keras.applications import VGG16\n",
    "from keras.applications import imagenet_utils\n",
    "from keras.callbacks import ModelCheckpoint\n",
    "from keras.preprocessing.image import load_img\n",
    "from keras.preprocessing.image import img_to_array\n",
    "from keras.layers import Dense, Conv2D, MaxPooling2D\n",
    "from keras.layers import Dropout, Flatten, GlobalAveragePooling2D\n",
    " \n",
    "import warnings\n",
    "warnings.filterwarnings('ignore')\n",
    "import cv2"
   ]
  },
  {
   "cell_type": "code",
   "execution_count": 0,
   "metadata": {
    "colab": {
     "base_uri": "https://localhost:8080/",
     "height": 33
    },
    "colab_type": "code",
    "executionInfo": {
     "elapsed": 711,
     "status": "ok",
     "timestamp": 1590200722846,
     "user": {
      "displayName": "Mike Wu",
      "photoUrl": "https://lh3.googleusercontent.com/a-/AOh14GhpqrLyHPmWGWl0C8pNFquPQiDSPUKVzkeZTK_hzA=s64",
      "userId": "02480068086185773948"
     },
     "user_tz": -480
    },
    "id": "py-Psa2CWG22",
    "outputId": "b363d36c-7d4d-4348-efd2-f1999e3f322f"
   },
   "outputs": [
    {
     "data": {
      "text/plain": [
       "['.config', 'sample_data']"
      ]
     },
     "execution_count": 2,
     "metadata": {
      "tags": []
     },
     "output_type": "execute_result"
    }
   ],
   "source": [
    "os.listdir()"
   ]
  },
  {
   "cell_type": "code",
   "execution_count": 2,
   "metadata": {
    "colab": {
     "base_uri": "https://localhost:8080/",
     "height": 120
    },
    "colab_type": "code",
    "executionInfo": {
     "elapsed": 23924,
     "status": "ok",
     "timestamp": 1590203726093,
     "user": {
      "displayName": "Mike Wu",
      "photoUrl": "https://lh3.googleusercontent.com/a-/AOh14GhpqrLyHPmWGWl0C8pNFquPQiDSPUKVzkeZTK_hzA=s64",
      "userId": "02480068086185773948"
     },
     "user_tz": -480
    },
    "id": "SVPQR0zBWG25",
    "outputId": "595bd166-a166-4928-e1b9-d3c0642021e5"
   },
   "outputs": [
    {
     "name": "stdout",
     "output_type": "stream",
     "text": [
      "Go to this URL in a browser: https://accounts.google.com/o/oauth2/auth?client_id=947318989803-6bn6qk8qdgf4n4g3pfee6491hc0brc4i.apps.googleusercontent.com&redirect_uri=urn%3aietf%3awg%3aoauth%3a2.0%3aoob&response_type=code&scope=email%20https%3a%2f%2fwww.googleapis.com%2fauth%2fdocs.test%20https%3a%2f%2fwww.googleapis.com%2fauth%2fdrive%20https%3a%2f%2fwww.googleapis.com%2fauth%2fdrive.photos.readonly%20https%3a%2f%2fwww.googleapis.com%2fauth%2fpeopleapi.readonly\n",
      "\n",
      "Enter your authorization code:\n",
      "··········\n",
      "Mounted at /content/gdrive\n"
     ]
    }
   ],
   "source": [
    "#在colab下接入google drive\n",
    "from google.colab import drive\n",
    "drive.mount('/content/gdrive',force_remount = True)\n",
    "base_dir = '/content/gdrive/My Drive'\n",
    "#path = Path(base_dir +'/imgs4')  #imgs\n",
    "path = Path(base_dir +'/DLtry')\n",
    "path.mkdir(parents=True,exist_ok=True)\n",
    "os.chdir(path)"
   ]
  },
  {
   "cell_type": "code",
   "execution_count": 0,
   "metadata": {
    "colab": {},
    "colab_type": "code",
    "id": "KwFMtmIAWG27"
   },
   "outputs": [],
   "source": [
    "#分割數據與設定參數\n",
    "input_shape = (224, 224, 3)\n",
    "batch_size = 128\n",
    "epochs =12 # 100\n",
    "num_classes = 2  #######\n",
    "\n",
    "x = []\n",
    "y = []\n",
    "\n",
    "for f in os.listdir(\"sakura\"):\n",
    "    x.append(image.img_to_array(image.load_img(\"sakura/\"+f, target_size=input_shape[:2])))\n",
    "    y.append(0)\n",
    "for f in os.listdir(\"cosmos\"):\n",
    "    x.append(image.img_to_array(image.load_img(\"cosmos/\"+f, target_size=input_shape[:2])))\n",
    "    y.append(1)\n",
    "x = np.asarray(x)\n",
    "x /= 255\n",
    "y = np.asarray(y)\n",
    "y = keras.utils.to_categorical(y, num_classes)\n",
    "x_train, x_test, y_train, y_test = train_test_split(x, y, test_size=0.33, random_state= 3)"
   ]
  },
  {
   "cell_type": "code",
   "execution_count": 4,
   "metadata": {
    "colab": {
     "base_uri": "https://localhost:8080/",
     "height": 50
    },
    "colab_type": "code",
    "executionInfo": {
     "elapsed": 2029,
     "status": "ok",
     "timestamp": 1590203765481,
     "user": {
      "displayName": "Mike Wu",
      "photoUrl": "https://lh3.googleusercontent.com/a-/AOh14GhpqrLyHPmWGWl0C8pNFquPQiDSPUKVzkeZTK_hzA=s64",
      "userId": "02480068086185773948"
     },
     "user_tz": -480
    },
    "id": "k4z5q3h6WG2-",
    "outputId": "a1b0614a-bb9f-4589-bcc4-7eb9059f6c19"
   },
   "outputs": [
    {
     "name": "stdout",
     "output_type": "stream",
     "text": [
      "Downloading data from https://github.com/fchollet/deep-learning-models/releases/download/v0.1/vgg16_weights_tf_dim_ordering_tf_kernels_notop.h5\n",
      "58892288/58889256 [==============================] - 0s 0us/step\n"
     ]
    }
   ],
   "source": [
    "#VGG16のモデルを最後の全結合層を除いて、新しく別の全結合層を付け加えます。VGG16の部分の畳み込み層は再学習しないように設定します。\n",
    "from keras.models import Sequential  #必須適時呼叫***\n",
    "from keras.layers import Dense, Dropout, Flatten\n",
    "from keras.layers import Conv2D, MaxPooling2D\n",
    "\n",
    "from keras.applications.vgg16 import VGG16\n",
    "from keras.models import Model\n",
    "\n",
    "base_model = VGG16(weights='imagenet', include_top=False)\n",
    "x = base_model.output\n",
    "x = GlobalAveragePooling2D()(x)\n",
    "x = Dense(1024, activation='relu')(x)\n",
    "predictions = Dense(num_classes, activation='softmax')(x)\n",
    "model = Model(inputs=base_model.input, outputs=predictions)\n",
    "for layer in base_model.layers:\n",
    "    layer.trainable = False\n",
    "model.compile(loss=keras.losses.categorical_crossentropy, optimizer=\"rmsprop\", metrics=['accuracy'])"
   ]
  },
  {
   "cell_type": "code",
   "execution_count": 5,
   "metadata": {
    "colab": {
     "base_uri": "https://localhost:8080/",
     "height": 435
    },
    "colab_type": "code",
    "executionInfo": {
     "elapsed": 177215,
     "status": "ok",
     "timestamp": 1590203947990,
     "user": {
      "displayName": "Mike Wu",
      "photoUrl": "https://lh3.googleusercontent.com/a-/AOh14GhpqrLyHPmWGWl0C8pNFquPQiDSPUKVzkeZTK_hzA=s64",
      "userId": "02480068086185773948"
     },
     "user_tz": -480
    },
    "id": "Jsn6h7KgWG3A",
    "outputId": "755c8bff-a115-4dbf-f620-2137e7b02225"
   },
   "outputs": [
    {
     "name": "stdout",
     "output_type": "stream",
     "text": [
      "Train on 20 samples, validate on 10 samples\n",
      "Epoch 1/12\n",
      "20/20 [==============================] - 15s 770ms/step - loss: 0.7396 - accuracy: 0.5000 - val_loss: 2.0088 - val_accuracy: 0.5000\n",
      "Epoch 2/12\n",
      "20/20 [==============================] - 15s 735ms/step - loss: 1.9919 - accuracy: 0.5000 - val_loss: 0.6816 - val_accuracy: 0.5000\n",
      "Epoch 3/12\n",
      "20/20 [==============================] - 15s 735ms/step - loss: 0.6257 - accuracy: 0.5000 - val_loss: 0.7263 - val_accuracy: 0.5000\n",
      "Epoch 4/12\n",
      "20/20 [==============================] - 15s 732ms/step - loss: 0.6864 - accuracy: 0.5500 - val_loss: 0.6159 - val_accuracy: 0.5000\n",
      "Epoch 5/12\n",
      "20/20 [==============================] - 15s 735ms/step - loss: 0.4946 - accuracy: 0.7000 - val_loss: 0.4795 - val_accuracy: 0.8000\n",
      "Epoch 6/12\n",
      "20/20 [==============================] - 15s 736ms/step - loss: 0.4140 - accuracy: 0.7500 - val_loss: 0.4781 - val_accuracy: 0.8000\n",
      "Epoch 7/12\n",
      "20/20 [==============================] - 15s 735ms/step - loss: 0.3415 - accuracy: 0.8500 - val_loss: 0.3951 - val_accuracy: 0.8000\n",
      "Epoch 8/12\n",
      "20/20 [==============================] - 15s 732ms/step - loss: 0.3029 - accuracy: 0.9500 - val_loss: 0.4205 - val_accuracy: 0.8000\n",
      "Epoch 9/12\n",
      "20/20 [==============================] - 15s 729ms/step - loss: 0.2738 - accuracy: 0.9000 - val_loss: 0.3662 - val_accuracy: 0.8000\n",
      "Epoch 10/12\n",
      "20/20 [==============================] - 15s 725ms/step - loss: 0.2527 - accuracy: 0.9500 - val_loss: 0.3968 - val_accuracy: 0.9000\n",
      "Epoch 11/12\n",
      "20/20 [==============================] - 14s 723ms/step - loss: 0.2345 - accuracy: 0.9500 - val_loss: 0.3475 - val_accuracy: 0.9000\n",
      "Epoch 12/12\n",
      "20/20 [==============================] - 14s 719ms/step - loss: 0.2188 - accuracy: 1.0000 - val_loss: 0.3863 - val_accuracy: 0.9000\n"
     ]
    }
   ],
   "source": [
    "#自分で付け加えた全結合層の部分を学習させます。\n",
    "history = model.fit(x_train, y_train,batch_size=batch_size,epochs=epochs,verbose=1,validation_data=(x_test, y_test))"
   ]
  },
  {
   "cell_type": "code",
   "execution_count": 0,
   "metadata": {
    "colab": {},
    "colab_type": "code",
    "id": "-odkG-v0WG3E"
   },
   "outputs": [],
   "source": [
    "今回は、学習した結果、最終的に訓練データに対する精度が100%、バリデーションデータに対する精度が90%になっています。\n",
    "前回の記事でゼロから学習をしたのとは違い、\n",
    "VGG16というImageNetのために作られた汎用性の高いパラメータとモデルを使うことで、汎化性能と精度を得ることができました。\n",
    "また、学習時間も学習エポック数も前回の1/10程度になり、学習も前回より非常に速く進んでいることがわかります。"
   ]
  },
  {
   "cell_type": "code",
   "execution_count": 6,
   "metadata": {
    "colab": {
     "base_uri": "https://localhost:8080/",
     "height": 350
    },
    "colab_type": "code",
    "executionInfo": {
     "elapsed": 1235,
     "status": "ok",
     "timestamp": 1590203950090,
     "user": {
      "displayName": "Mike Wu",
      "photoUrl": "https://lh3.googleusercontent.com/a-/AOh14GhpqrLyHPmWGWl0C8pNFquPQiDSPUKVzkeZTK_hzA=s64",
      "userId": "02480068086185773948"
     },
     "user_tz": -480
    },
    "id": "GmRDikuaWG3H",
    "outputId": "a59c38fb-49bb-4724-feb3-b1e0d39115b9"
   },
   "outputs": [
    {
     "data": {
      "image/png": "[encoded data removed]",
      "text/plain": [
       "<Figure size 720x360 with 2 Axes>"
      ]
     },
     "metadata": {
      "needs_background": "light",
      "tags": []
     },
     "output_type": "display_data"
    }
   ],
   "source": [
    "def plot_acc_loss(history):\n",
    "    fig = plt.figure(figsize=(10,5))\n",
    "    plt.subplot(1, 2, 1)\n",
    "    plt.plot(history.history['accuracy'])\n",
    "    plt.plot(history.history['val_accuracy'])\n",
    "    plt.title('model accuracy')\n",
    "    plt.ylabel('accuracy')\n",
    "    plt.xlabel('epoch')\n",
    "    plt.legend(['train', 'validation'], loc='upper left')\n",
    " \n",
    "    plt.subplot(1, 2, 2)\n",
    "    plt.plot(history.history['loss'])\n",
    "    plt.plot(history.history['val_loss'])\n",
    "    plt.title('model loss')\n",
    "    plt.ylabel('loss')\n",
    "    plt.xlabel('epoch')\n",
    "    plt.legend(['train', 'test'], loc='upper right')\n",
    "    plt.show()\n",
    " \n",
    "plot_acc_loss(history)\n"
   ]
  },
  {
   "cell_type": "code",
   "execution_count": 0,
   "metadata": {
    "colab": {},
    "colab_type": "code",
    "id": "OKVoG1TuWG3I"
   },
   "outputs": [],
   "source": []
  },
  {
   "cell_type": "code",
   "execution_count": 0,
   "metadata": {
    "colab": {},
    "colab_type": "code",
    "id": "PuQQQQbQWG3K"
   },
   "outputs": [],
   "source": []
  },
  {
   "cell_type": "code",
   "execution_count": 0,
   "metadata": {
    "colab": {},
    "colab_type": "code",
    "id": "F9Xoayt_WG3M"
   },
   "outputs": [],
   "source": []
  },
  {
   "cell_type": "code",
   "execution_count": 0,
   "metadata": {
    "colab": {},
    "colab_type": "code",
    "id": "foXbEoiDWG3P"
   },
   "outputs": [],
   "source": []
  }
 ],
 "metadata": {
  "colab": {
   "collapsed_sections": [],
   "name": "Transfer Learning VGG16.ipynb",
   "provenance": []
  },
  "kernelspec": {
   "display_name": "Python 3",
   "language": "python",
   "name": "python3"
  },
  "language_info": {
   "codemirror_mode": {
    "name": "ipython",
    "version": 3
   },
   "file_extension": ".py",
   "mimetype": "text/x-python",
   "name": "python",
   "nbconvert_exporter": "python",
   "pygments_lexer": "ipython3",
   "version": "3.7.3"
  }
 },
 "nbformat": 4,
 "nbformat_minor": 1
}
