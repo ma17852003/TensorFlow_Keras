{
 "cells": [
  {
   "cell_type": "markdown",
   "metadata": {
    "id": "DxzFM5BKSPSu"
   },
   "source": [
    "# 部分採用，擷取特徵"
   ]
  },
  {
   "cell_type": "code",
   "execution_count": null,
   "metadata": {
    "colab": {
     "base_uri": "https://localhost:8080/"
    },
    "id": "_KSvMNkCSRhK",
    "outputId": "91d9f843-a096-47bc-e269-960db21afe47"
   },
   "outputs": [
    {
     "name": "stdout",
     "output_type": "stream",
     "text": [
      "Mounted at /content/gdrive\n"
     ]
    }
   ],
   "source": [
    "# -*- coding: utf-8 -*-\n",
    "#-*- coding: cp950 -*-\n",
    "\n",
    "import numpy as np\n",
    "import pandas as pd\n",
    "import matplotlib.pyplot as plt\n",
    "from PIL import Image\n",
    "from pathlib import Path\n",
    "from typing import *\n",
    "import torch\n",
    "import torch.optim as optim\n",
    "%reload_ext autoreload\n",
    "%autoreload 2\n",
    "%matplotlib inline\n",
    "import os\n",
    "\n",
    "from google.colab import drive\n",
    "drive.mount('/content/gdrive',force_remount = True)\n",
    "base_dir = '/content/gdrive/MyDrive'\n",
    "path = Path(base_dir +'/Keras_tutorial')  #imgs\n",
    "# path.mkdir(parents=True,exist_ok=True)\n",
    "os.chdir(path)"
   ]
  },
  {
   "cell_type": "code",
   "execution_count": null,
   "metadata": {
    "colab": {
     "base_uri": "https://localhost:8080/"
    },
    "id": "3aIUNX0bSPS0",
    "outputId": "c643ef01-2b8a-4856-f68a-c2cf44cac8ea"
   },
   "outputs": [
    {
     "name": "stdout",
     "output_type": "stream",
     "text": [
      "[[[[ 0.         0.         0.        ...  0.         0.\n",
      "     0.       ]\n",
      "   [ 0.         0.        42.547775  ...  0.         0.\n",
      "     0.       ]\n",
      "   [ 1.0753291  0.        23.49561   ...  0.         0.\n",
      "     0.       ]\n",
      "   ...\n",
      "   [ 0.         0.         0.        ...  0.         0.\n",
      "     0.       ]\n",
      "   [ 0.         0.         0.        ...  0.         0.\n",
      "     0.       ]\n",
      "   [ 0.         0.         0.        ...  0.         0.\n",
      "     0.       ]]\n",
      "\n",
      "  [[ 0.         0.        36.33886   ...  0.         0.\n",
      "     3.4028866]\n",
      "   [ 0.         0.        80.2363    ...  7.871879   0.\n",
      "     0.       ]\n",
      "   [ 0.         0.        48.7513    ...  0.         0.\n",
      "     0.       ]\n",
      "   ...\n",
      "   [ 0.         0.         0.        ...  4.5813546  0.\n",
      "     0.       ]\n",
      "   [ 0.         0.         0.        ...  0.         0.\n",
      "     0.       ]\n",
      "   [ 0.         0.         0.        ...  0.         0.\n",
      "     0.       ]]\n",
      "\n",
      "  [[ 0.         0.         9.853476  ...  0.         0.\n",
      "     2.4919636]\n",
      "   [ 0.         0.        25.24964   ... 42.276928   0.\n",
      "    15.798358 ]\n",
      "   [ 0.         0.         0.        ... 26.454199   2.25185\n",
      "     0.       ]\n",
      "   ...\n",
      "   [ 0.         0.         0.        ...  4.5165524  0.\n",
      "     0.       ]\n",
      "   [ 0.         0.         0.        ...  0.         0.\n",
      "     0.       ]\n",
      "   [ 0.         0.         0.        ...  0.         0.\n",
      "     0.       ]]\n",
      "\n",
      "  ...\n",
      "\n",
      "  [[ 0.         0.         0.        ...  0.         0.\n",
      "     0.       ]\n",
      "   [ 0.         0.         0.        ...  0.         0.\n",
      "     0.       ]\n",
      "   [ 0.         0.        12.312063  ...  0.         0.\n",
      "     0.       ]\n",
      "   ...\n",
      "   [ 0.         0.        22.432772  ...  0.         0.\n",
      "     0.       ]\n",
      "   [ 0.         0.         0.        ...  0.         0.\n",
      "     0.       ]\n",
      "   [ 0.         0.         0.        ...  0.         0.\n",
      "     0.       ]]\n",
      "\n",
      "  [[ 0.         0.         0.        ...  0.         0.\n",
      "     0.       ]\n",
      "   [ 0.         0.         0.        ...  0.         0.\n",
      "     0.       ]\n",
      "   [ 0.         0.         0.        ...  0.         0.\n",
      "     0.       ]\n",
      "   ...\n",
      "   [ 0.         0.        10.488852  ...  0.         0.\n",
      "     0.       ]\n",
      "   [ 0.         0.         0.        ...  0.         0.\n",
      "     0.       ]\n",
      "   [ 0.         0.         0.        ...  0.         0.\n",
      "     0.       ]]\n",
      "\n",
      "  [[ 0.         0.         0.        ...  0.         0.\n",
      "     0.       ]\n",
      "   [ 0.         0.         0.        ...  0.         0.\n",
      "     0.       ]\n",
      "   [ 0.         0.         0.5006574 ...  0.         0.\n",
      "     0.       ]\n",
      "   ...\n",
      "   [ 0.         0.         0.        ...  0.         0.\n",
      "     0.       ]\n",
      "   [ 0.         0.         0.        ...  0.         0.\n",
      "     0.       ]\n",
      "   [ 0.         0.         0.        ...  0.         0.\n",
      "     0.       ]]]]\n"
     ]
    }
   ],
   "source": [
    "from tensorflow.keras.applications.vgg16 import VGG16\n",
    "from tensorflow.keras.preprocessing import image\n",
    "from tensorflow.keras.applications.vgg16 import preprocess_input\n",
    "import numpy as np\n",
    "\n",
    "# 預先訓練好的模型 -- VGG16, 不含後三層(辨識層)\n",
    "model = VGG16(weights='imagenet', include_top=False)\n",
    "\n",
    "# 任意一張圖片，例如大象\n",
    "img_path = './images/elephant.jpg'\n",
    "# 載入圖檔，並縮放寬高為 (224, 224) \n",
    "img = image.load_img(img_path, target_size=(224, 224))\n",
    "# 加一維，變成 (1, 224, 224, 3)，最後一維是色彩\n",
    "x = image.img_to_array(img)\n",
    "x = np.expand_dims(x, axis=0)\n",
    "x = preprocess_input(x)\n",
    "\n",
    "features = model.predict(x)\n",
    "print(features)"
   ]
  },
  {
   "cell_type": "code",
   "execution_count": null,
   "metadata": {
    "colab": {
     "base_uri": "https://localhost:8080/"
    },
    "id": "Jga9GgsMTMUy",
    "outputId": "28a58f34-a11f-468a-fd04-c5c6f6076816"
   },
   "outputs": [
    {
     "name": "stdout",
     "output_type": "stream",
     "text": [
      "(1, 7, 7, 512)\n"
     ]
    }
   ],
   "source": [
    "print(features.shape)"
   ]
  },
  {
   "cell_type": "code",
   "execution_count": null,
   "metadata": {
    "colab": {
     "base_uri": "https://localhost:8080/"
    },
    "id": "cy-t4On_SPS1",
    "outputId": "5bdfa9dd-7df4-4330-b6cf-d07bb94f950d"
   },
   "outputs": [
    {
     "name": "stdout",
     "output_type": "stream",
     "text": [
      "Model: \"vgg16\"\n",
      "_________________________________________________________________\n",
      "Layer (type)                 Output Shape              Param #   \n",
      "=================================================================\n",
      "input_1 (InputLayer)         [(None, None, None, 3)]   0         \n",
      "_________________________________________________________________\n",
      "block1_conv1 (Conv2D)        (None, None, None, 64)    1792      \n",
      "_________________________________________________________________\n",
      "block1_conv2 (Conv2D)        (None, None, None, 64)    36928     \n",
      "_________________________________________________________________\n",
      "block1_pool (MaxPooling2D)   (None, None, None, 64)    0         \n",
      "_________________________________________________________________\n",
      "block2_conv1 (Conv2D)        (None, None, None, 128)   73856     \n",
      "_________________________________________________________________\n",
      "block2_conv2 (Conv2D)        (None, None, None, 128)   147584    \n",
      "_________________________________________________________________\n",
      "block2_pool (MaxPooling2D)   (None, None, None, 128)   0         \n",
      "_________________________________________________________________\n",
      "block3_conv1 (Conv2D)        (None, None, None, 256)   295168    \n",
      "_________________________________________________________________\n",
      "block3_conv2 (Conv2D)        (None, None, None, 256)   590080    \n",
      "_________________________________________________________________\n",
      "block3_conv3 (Conv2D)        (None, None, None, 256)   590080    \n",
      "_________________________________________________________________\n",
      "block3_pool (MaxPooling2D)   (None, None, None, 256)   0         \n",
      "_________________________________________________________________\n",
      "block4_conv1 (Conv2D)        (None, None, None, 512)   1180160   \n",
      "_________________________________________________________________\n",
      "block4_conv2 (Conv2D)        (None, None, None, 512)   2359808   \n",
      "_________________________________________________________________\n",
      "block4_conv3 (Conv2D)        (None, None, None, 512)   2359808   \n",
      "_________________________________________________________________\n",
      "block4_pool (MaxPooling2D)   (None, None, None, 512)   0         \n",
      "_________________________________________________________________\n",
      "block5_conv1 (Conv2D)        (None, None, None, 512)   2359808   \n",
      "_________________________________________________________________\n",
      "block5_conv2 (Conv2D)        (None, None, None, 512)   2359808   \n",
      "_________________________________________________________________\n",
      "block5_conv3 (Conv2D)        (None, None, None, 512)   2359808   \n",
      "_________________________________________________________________\n",
      "block5_pool (MaxPooling2D)   (None, None, None, 512)   0         \n",
      "=================================================================\n",
      "Total params: 14,714,688\n",
      "Trainable params: 14,714,688\n",
      "Non-trainable params: 0\n",
      "_________________________________________________________________\n"
     ]
    }
   ],
   "source": [
    "model.summary()"
   ]
  },
  {
   "cell_type": "code",
   "execution_count": null,
   "metadata": {
    "colab": {
     "base_uri": "https://localhost:8080/"
    },
    "id": "CzkYjTEaSPS2",
    "outputId": "34fa2964-6da0-46d1-d4d9-e247d86804a2"
   },
   "outputs": [
    {
     "name": "stdout",
     "output_type": "stream",
     "text": [
      "Downloading data from https://storage.googleapis.com/tensorflow/keras-applications/vgg16/vgg16_weights_tf_dim_ordering_tf_kernels.h5\n",
      "553467904/553467096 [==============================] - 11s 0us/step\n",
      "Model: \"vgg16\"\n",
      "_________________________________________________________________\n",
      "Layer (type)                 Output Shape              Param #   \n",
      "=================================================================\n",
      "input_2 (InputLayer)         [(None, 224, 224, 3)]     0         \n",
      "_________________________________________________________________\n",
      "block1_conv1 (Conv2D)        (None, 224, 224, 64)      1792      \n",
      "_________________________________________________________________\n",
      "block1_conv2 (Conv2D)        (None, 224, 224, 64)      36928     \n",
      "_________________________________________________________________\n",
      "block1_pool (MaxPooling2D)   (None, 112, 112, 64)      0         \n",
      "_________________________________________________________________\n",
      "block2_conv1 (Conv2D)        (None, 112, 112, 128)     73856     \n",
      "_________________________________________________________________\n",
      "block2_conv2 (Conv2D)        (None, 112, 112, 128)     147584    \n",
      "_________________________________________________________________\n",
      "block2_pool (MaxPooling2D)   (None, 56, 56, 128)       0         \n",
      "_________________________________________________________________\n",
      "block3_conv1 (Conv2D)        (None, 56, 56, 256)       295168    \n",
      "_________________________________________________________________\n",
      "block3_conv2 (Conv2D)        (None, 56, 56, 256)       590080    \n",
      "_________________________________________________________________\n",
      "block3_conv3 (Conv2D)        (None, 56, 56, 256)       590080    \n",
      "_________________________________________________________________\n",
      "block3_pool (MaxPooling2D)   (None, 28, 28, 256)       0         \n",
      "_________________________________________________________________\n",
      "block4_conv1 (Conv2D)        (None, 28, 28, 512)       1180160   \n",
      "_________________________________________________________________\n",
      "block4_conv2 (Conv2D)        (None, 28, 28, 512)       2359808   \n",
      "_________________________________________________________________\n",
      "block4_conv3 (Conv2D)        (None, 28, 28, 512)       2359808   \n",
      "_________________________________________________________________\n",
      "block4_pool (MaxPooling2D)   (None, 14, 14, 512)       0         \n",
      "_________________________________________________________________\n",
      "block5_conv1 (Conv2D)        (None, 14, 14, 512)       2359808   \n",
      "_________________________________________________________________\n",
      "block5_conv2 (Conv2D)        (None, 14, 14, 512)       2359808   \n",
      "_________________________________________________________________\n",
      "block5_conv3 (Conv2D)        (None, 14, 14, 512)       2359808   \n",
      "_________________________________________________________________\n",
      "block5_pool (MaxPooling2D)   (None, 7, 7, 512)         0         \n",
      "_________________________________________________________________\n",
      "flatten (Flatten)            (None, 25088)             0         \n",
      "_________________________________________________________________\n",
      "fc1 (Dense)                  (None, 4096)              102764544 \n",
      "_________________________________________________________________\n",
      "fc2 (Dense)                  (None, 4096)              16781312  \n",
      "_________________________________________________________________\n",
      "predictions (Dense)          (None, 1000)              4097000   \n",
      "=================================================================\n",
      "Total params: 138,357,544\n",
      "Trainable params: 138,357,544\n",
      "Non-trainable params: 0\n",
      "_________________________________________________________________\n"
     ]
    }
   ],
   "source": [
    "model2 = VGG16(weights='imagenet', include_top=True)\n",
    "model2.summary()"
   ]
  },
  {
   "cell_type": "code",
   "execution_count": null,
   "metadata": {
    "colab": {
     "base_uri": "https://localhost:8080/"
    },
    "id": "ww2Pk6QYSPS2",
    "outputId": "b9b631bf-8e5f-461f-bbbd-68b1d7583197"
   },
   "outputs": [
    {
     "name": "stdout",
     "output_type": "stream",
     "text": [
      "[[[[ 0.         0.         0.        ...  0.         0.\n",
      "     0.       ]\n",
      "   [ 0.         0.        42.547775  ...  0.         0.\n",
      "     0.       ]\n",
      "   [ 1.0753291  0.        23.49561   ...  0.         0.\n",
      "     0.       ]\n",
      "   ...\n",
      "   [ 0.         0.         0.        ...  0.         0.\n",
      "     0.       ]\n",
      "   [ 0.         0.         0.        ...  0.         0.\n",
      "     0.       ]\n",
      "   [ 0.         0.         0.        ...  0.         0.\n",
      "     0.       ]]\n",
      "\n",
      "  [[ 0.         0.        36.33886   ...  0.         0.\n",
      "     3.4028866]\n",
      "   [ 0.         0.        80.2363    ...  7.871879   0.\n",
      "     0.       ]\n",
      "   [ 0.         0.        48.7513    ...  0.         0.\n",
      "     0.       ]\n",
      "   ...\n",
      "   [ 0.         0.         0.        ...  4.5813546  0.\n",
      "     0.       ]\n",
      "   [ 0.         0.         0.        ...  0.         0.\n",
      "     0.       ]\n",
      "   [ 0.         0.         0.        ...  0.         0.\n",
      "     0.       ]]\n",
      "\n",
      "  [[ 0.         0.         9.853476  ...  0.         0.\n",
      "     2.4919636]\n",
      "   [ 0.         0.        25.24964   ... 42.276928   0.\n",
      "    15.798358 ]\n",
      "   [ 0.         0.         0.        ... 26.454199   2.25185\n",
      "     0.       ]\n",
      "   ...\n",
      "   [ 0.         0.         0.        ...  4.5165524  0.\n",
      "     0.       ]\n",
      "   [ 0.         0.         0.        ...  0.         0.\n",
      "     0.       ]\n",
      "   [ 0.         0.         0.        ...  0.         0.\n",
      "     0.       ]]\n",
      "\n",
      "  ...\n",
      "\n",
      "  [[ 0.         0.         0.        ...  0.         0.\n",
      "     0.       ]\n",
      "   [ 0.         0.         0.        ...  0.         0.\n",
      "     0.       ]\n",
      "   [ 0.         0.        12.312063  ...  0.         0.\n",
      "     0.       ]\n",
      "   ...\n",
      "   [ 0.         0.        22.432772  ...  0.         0.\n",
      "     0.       ]\n",
      "   [ 0.         0.         0.        ...  0.         0.\n",
      "     0.       ]\n",
      "   [ 0.         0.         0.        ...  0.         0.\n",
      "     0.       ]]\n",
      "\n",
      "  [[ 0.         0.         0.        ...  0.         0.\n",
      "     0.       ]\n",
      "   [ 0.         0.         0.        ...  0.         0.\n",
      "     0.       ]\n",
      "   [ 0.         0.         0.        ...  0.         0.\n",
      "     0.       ]\n",
      "   ...\n",
      "   [ 0.         0.        10.488852  ...  0.         0.\n",
      "     0.       ]\n",
      "   [ 0.         0.         0.        ...  0.         0.\n",
      "     0.       ]\n",
      "   [ 0.         0.         0.        ...  0.         0.\n",
      "     0.       ]]\n",
      "\n",
      "  [[ 0.         0.         0.        ...  0.         0.\n",
      "     0.       ]\n",
      "   [ 0.         0.         0.        ...  0.         0.\n",
      "     0.       ]\n",
      "   [ 0.         0.         0.5006574 ...  0.         0.\n",
      "     0.       ]\n",
      "   ...\n",
      "   [ 0.         0.         0.        ...  0.         0.\n",
      "     0.       ]\n",
      "   [ 0.         0.         0.        ...  0.         0.\n",
      "     0.       ]\n",
      "   [ 0.         0.         0.        ...  0.         0.\n",
      "     0.       ]]]]\n"
     ]
    }
   ],
   "source": [
    "print(features)"
   ]
  },
  {
   "cell_type": "code",
   "execution_count": null,
   "metadata": {
    "colab": {
     "base_uri": "https://localhost:8080/"
    },
    "id": "ziO_Jd2eSPS2",
    "outputId": "ef1642c9-e7c3-460a-8f30-05047ae0ac75"
   },
   "outputs": [
    {
     "name": "stdout",
     "output_type": "stream",
     "text": [
      "(1, 7, 7, 512)\n"
     ]
    }
   ],
   "source": [
    "print(features.shape)"
   ]
  },
  {
   "cell_type": "markdown",
   "metadata": {
    "id": "596_8_gMSPS3"
   },
   "source": [
    "# 使用 cosine_similarity 比較特徵向量"
   ]
  },
  {
   "cell_type": "code",
   "execution_count": null,
   "metadata": {
    "colab": {
     "base_uri": "https://localhost:8080/"
    },
    "id": "_F03jitlSPS3",
    "outputId": "823d9f6e-922d-4e65-90b3-aa5dded257e1"
   },
   "outputs": [
    {
     "data": {
      "text/plain": [
       "array(['Tiger3.jpg', 'with-mask.jpg', 'without-mask.jpg', 'input.jpg',\n",
       "       'style.jpg', 'bird01.jpg', 'Tiger2.jpg', 'Tiger.jpg',\n",
       "       'elephant.jpg', '太陽花.jpg', 'elephant2.jpg'], dtype='<U16')"
      ]
     },
     "execution_count": 14,
     "metadata": {
      "tags": []
     },
     "output_type": "execute_result"
    }
   ],
   "source": [
    "from os import listdir\n",
    "from os.path import isfile, join\n",
    "\n",
    "# 讀取 images 目錄下所有圖檔\n",
    "img_path = './images/'\n",
    "image_files = np.array([f for f in listdir(img_path) if isfile(join(img_path, f)) and f[-3:] == 'jpg'])\n",
    "image_files"
   ]
  },
  {
   "cell_type": "code",
   "execution_count": null,
   "metadata": {
    "colab": {
     "base_uri": "https://localhost:8080/"
    },
    "id": "3OOgUScVSPS3",
    "outputId": "7ea9d89d-2d79-46f8-dd61-8290373132b2"
   },
   "outputs": [
    {
     "data": {
      "text/plain": [
       "((11, 7, 7, 512), (11, 224, 224, 3))"
      ]
     },
     "execution_count": 15,
     "metadata": {
      "tags": []
     },
     "output_type": "execute_result"
    }
   ],
   "source": [
    "# 每個圖檔經過預測，取得特徵向量\n",
    "import numpy as np\n",
    "\n",
    "X = np.array([])\n",
    "# 合併每個圖檔的像素\n",
    "for f in image_files:\n",
    "    image_file = join(img_path, f)\n",
    "    # 載入圖檔，並縮放寬高為 (224, 224) \n",
    "    img = image.load_img(image_file, target_size=(224, 224))\n",
    "    # 加一維，變成 (1, 224, 224, 3)，最後一維是色彩\n",
    "    img2 = image.img_to_array(img)\n",
    "    img2 = np.expand_dims(img2, axis=0)\n",
    "    if len(X.shape) == 1:\n",
    "        X = img2\n",
    "    else:\n",
    "        X = np.concatenate((X, img2), axis=0)\n",
    "\n",
    "X = preprocess_input(X)\n",
    "\n",
    "# 預測\n",
    "features = model.predict(X)\n",
    "\n",
    "features.shape, X.shape"
   ]
  },
  {
   "cell_type": "code",
   "execution_count": null,
   "metadata": {
    "colab": {
     "base_uri": "https://localhost:8080/"
    },
    "id": "borTgIZgSPS4",
    "outputId": "1dcd96ad-0292-4d46-a440-1af1cbb86327"
   },
   "outputs": [
    {
     "name": "stdout",
     "output_type": "stream",
     "text": [
      "太陽花.jpg\n",
      "[0.10594285 0.08696808 0.06012522 0.05226007 0.03927399 0.03698231\n",
      " 0.03596732 0.03461865 0.02446406]\n"
     ]
    },
    {
     "data": {
      "text/plain": [
       "array(['bird01.jpg', 'style.jpg', 'Tiger2.jpg', 'with-mask.jpg',\n",
       "       'Tiger3.jpg', 'elephant.jpg', 'without-mask.jpg', 'Tiger.jpg',\n",
       "       'input.jpg'], dtype='<U16')"
      ]
     },
     "execution_count": 17,
     "metadata": {
      "tags": []
     },
     "output_type": "execute_result"
    }
   ],
   "source": [
    "# 使用 cosine_similarity 比較特徵向量\n",
    "from sklearn.metrics.pairwise import cosine_similarity\n",
    "\n",
    "features2 = features.reshape((features.shape[0], -1))\n",
    "\n",
    "# 比較對象：Tiger3.jpg\n",
    "no=-2\n",
    "print(image_files[no])\n",
    "similar_list = cosine_similarity(features2[no:no+1], features2[:no], dense_output=False)\n",
    "print(np.sort(similar_list[0])[::-1])\n",
    "image_files[:no][np.argsort(similar_list[0])[::-1]]"
   ]
  },
  {
   "cell_type": "code",
   "execution_count": null,
   "metadata": {
    "colab": {
     "base_uri": "https://localhost:8080/"
    },
    "id": "uTLqx0TpSPS4",
    "outputId": "200319ac-64b2-45b0-e58f-63fd686560d0"
   },
   "outputs": [
    {
     "name": "stdout",
     "output_type": "stream",
     "text": [
      "with-mask.jpg\n",
      "[0.14363486 0.08666179 0.08474604 0.07914247 0.05226006 0.04416774\n",
      " 0.04268286 0.04041187 0.03379241]\n"
     ]
    },
    {
     "data": {
      "text/plain": [
       "array(['without-mask.jpg', 'input.jpg', 'elephant2.jpg', 'style.jpg',\n",
       "       '太陽花.jpg', 'bird01.jpg', 'Tiger2.jpg', 'elephant.jpg', 'Tiger.jpg'],\n",
       "      dtype='<U16')"
      ]
     },
     "execution_count": 18,
     "metadata": {
      "tags": []
     },
     "output_type": "execute_result"
    }
   ],
   "source": [
    "# 比較對象：elephant.jpg\n",
    "no=1\n",
    "print(image_files[no])\n",
    "similar_list = cosine_similarity(features2[no:no+1], features2[no+1:], dense_output=False)\n",
    "print(np.sort(similar_list[0])[::-1])\n",
    "image_files[no+1:][np.argsort(similar_list[0])[::-1]]"
   ]
  },
  {
   "cell_type": "code",
   "execution_count": null,
   "metadata": {
    "id": "_uiYLSccSPS4"
   },
   "outputs": [],
   "source": []
  }
 ],
 "metadata": {
  "accelerator": "GPU",
  "colab": {
   "collapsed_sections": [],
   "name": "14_02_Keras_applications2.ipynb",
   "provenance": []
  },
  "kernelspec": {
   "display_name": "Python 3",
   "language": "python",
   "name": "python3"
  },
  "language_info": {
   "codemirror_mode": {
    "name": "ipython",
    "version": 3
   },
   "file_extension": ".py",
   "mimetype": "text/x-python",
   "name": "python",
   "nbconvert_exporter": "python",
   "pygments_lexer": "ipython3",
   "version": "3.8.3"
  }
 },
 "nbformat": 4,
 "nbformat_minor": 1
}
