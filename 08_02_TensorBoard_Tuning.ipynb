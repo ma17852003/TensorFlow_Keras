{
 "cells": [
  {
   "cell_type": "markdown",
   "metadata": {},
   "source": [
    "# TensorBoard 測試 2 -- 效能調校"
   ]
  },
  {
   "cell_type": "code",
   "execution_count": 2,
   "metadata": {},
   "outputs": [],
   "source": [
    "import tensorflow as tf\n",
    "mnist = tf.keras.datasets.mnist\n",
    "\n",
    "\n",
    "# 匯入 MNIST 手寫阿拉伯數字 訓練資料\n",
    "(x_train, y_train),(x_test, y_test) = mnist.load_data()\n",
    "\n",
    "\n",
    "# 訓練/測試資料的 X/y 維度\n",
    "x_train.shape, y_train.shape,x_test.shape, y_test.shape\n",
    "\n",
    "# 特徵縮放，使用常態化(Normalization)，公式 = (x - min) / (max - min)\n",
    "# 顏色範圍：0~255，所以，公式簡化為 x / 255\n",
    "# 注意，顏色0為白色，與RGB顏色不同，(0,0,0) 為黑色。\n",
    "x_train_norm, x_test_norm = x_train / 255.0, x_test / 255.0\n"
   ]
  },
  {
   "cell_type": "code",
   "execution_count": 4,
   "metadata": {},
   "outputs": [],
   "source": [
    "# 建立、訓練、評估模型\n",
    "def train_test_model(hparams):\n",
    "    # 建立模型\n",
    "    model = tf.keras.models.Sequential([\n",
    "      tf.keras.layers.Flatten(input_shape=(28, 28)),\n",
    "      tf.keras.layers.Dense(128, activation='relu'),\n",
    "      tf.keras.layers.Dropout(0.2),\n",
    "      tf.keras.layers.Dense(10, activation='softmax')\n",
    "    ])\n",
    "    # 設定優化器(optimizer)、損失函數(loss)、效能衡量指標(metrics)的類別\n",
    "    model.compile(optimizer='adam',\n",
    "                  loss='sparse_categorical_crossentropy',\n",
    "                  metrics=['accuracy'])\n",
    "    # 訓練\n",
    "    model.fit(x_train_norm, y_train, epochs=5, validation_split=0.2)\n",
    "    # 評估，打分數\n",
    "    _, accuracy = model.evaluate(x_test_norm, y_test, verbose=0)\n",
    "    return accuracy"
   ]
  },
  {
   "cell_type": "code",
   "execution_count": 5,
   "metadata": {},
   "outputs": [],
   "source": [
    "# 定義訓練函數，包括依參數訓練並寫入 log\n",
    "def run(run_dir, hparams):\n",
    "    with tf.summary.create_file_writer(run_dir).as_default():\n",
    "        hp.hparams(hparams)    # record the values used in this trial\n",
    "        accuracy = train_test_model(hparams)\n",
    "        tf.summary.scalar('accuracy', accuracy, step=1)"
   ]
  },
  {
   "cell_type": "code",
   "execution_count": 9,
   "metadata": {},
   "outputs": [],
   "source": [
    "# 參數組合\n",
    "from tensorboard.plugins.hparams import api as hp\n",
    "\n",
    "HP_NUM_UNITS = hp.HParam('num_units', hp.Discrete([16, 32]))\n",
    "HP_DROPOUT = hp.HParam('dropout', hp.RealInterval(0.1, 0.2))\n",
    "HP_OPTIMIZER = hp.HParam('optimizer', hp.Discrete(['adam', 'sgd']))"
   ]
  },
  {
   "cell_type": "code",
   "execution_count": 10,
   "metadata": {},
   "outputs": [
    {
     "name": "stdout",
     "output_type": "stream",
     "text": [
      "--- Starting trial: run-0\n",
      "{'num_units': 16, 'dropout': 0.1, 'optimizer': 'adam'}\n",
      "Train on 48000 samples, validate on 12000 samples\n",
      "Epoch 1/5\n",
      "48000/48000 [==============================] - 7s 140us/sample - loss: 0.3312 - accuracy: 0.9025 - val_loss: 0.1531 - val_accuracy: 0.9563\n",
      "Epoch 2/5\n",
      "48000/48000 [==============================] - 4s 75us/sample - loss: 0.1603 - accuracy: 0.9522 - val_loss: 0.1254 - val_accuracy: 0.9642\n",
      "Epoch 3/5\n",
      "48000/48000 [==============================] - 4s 74us/sample - loss: 0.1193 - accuracy: 0.9644 - val_loss: 0.1074 - val_accuracy: 0.9690\n",
      "Epoch 4/5\n",
      "48000/48000 [==============================] - 4s 75us/sample - loss: 0.0958 - accuracy: 0.9709 - val_loss: 0.0912 - val_accuracy: 0.9732\n",
      "Epoch 5/5\n",
      "48000/48000 [==============================] - 4s 75us/sample - loss: 0.0820 - accuracy: 0.9751 - val_loss: 0.0901 - val_accuracy: 0.9730\n",
      "--- Starting trial: run-1\n",
      "{'num_units': 16, 'dropout': 0.1, 'optimizer': 'sgd'}\n",
      "Train on 48000 samples, validate on 12000 samples\n",
      "Epoch 1/5\n",
      "48000/48000 [==============================] - 4s 80us/sample - loss: 0.3332 - accuracy: 0.9029 - val_loss: 0.1622 - val_accuracy: 0.9541\n",
      "Epoch 2/5\n",
      "48000/48000 [==============================] - 4s 74us/sample - loss: 0.1615 - accuracy: 0.9528 - val_loss: 0.1294 - val_accuracy: 0.9600\n",
      "Epoch 3/5\n",
      "48000/48000 [==============================] - 4s 74us/sample - loss: 0.1195 - accuracy: 0.9641 - val_loss: 0.1001 - val_accuracy: 0.9711\n",
      "Epoch 4/5\n",
      "48000/48000 [==============================] - 4s 73us/sample - loss: 0.0967 - accuracy: 0.9712 - val_loss: 0.0958 - val_accuracy: 0.9711\n",
      "Epoch 5/5\n",
      "48000/48000 [==============================] - 4s 73us/sample - loss: 0.0813 - accuracy: 0.9746 - val_loss: 0.0805 - val_accuracy: 0.9749\n",
      "--- Starting trial: run-2\n",
      "{'num_units': 16, 'dropout': 0.2, 'optimizer': 'adam'}\n",
      "Train on 48000 samples, validate on 12000 samples\n",
      "Epoch 1/5\n",
      "48000/48000 [==============================] - 4s 82us/sample - loss: 0.3217 - accuracy: 0.9069 - val_loss: 0.1539 - val_accuracy: 0.9547\n",
      "Epoch 2/5\n",
      "48000/48000 [==============================] - 4s 75us/sample - loss: 0.1553 - accuracy: 0.9544 - val_loss: 0.1104 - val_accuracy: 0.9678\n",
      "Epoch 3/5\n",
      "48000/48000 [==============================] - 4s 74us/sample - loss: 0.1171 - accuracy: 0.9648 - val_loss: 0.0967 - val_accuracy: 0.9732\n",
      "Epoch 4/5\n",
      "48000/48000 [==============================] - 4s 75us/sample - loss: 0.0943 - accuracy: 0.9704 - val_loss: 0.0859 - val_accuracy: 0.9746\n",
      "Epoch 5/5\n",
      "48000/48000 [==============================] - 4s 76us/sample - loss: 0.0781 - accuracy: 0.9755 - val_loss: 0.0879 - val_accuracy: 0.9737\n",
      "--- Starting trial: run-3\n",
      "{'num_units': 16, 'dropout': 0.2, 'optimizer': 'sgd'}\n",
      "Train on 48000 samples, validate on 12000 samples\n",
      "Epoch 1/5\n",
      "48000/48000 [==============================] - 4s 81us/sample - loss: 0.3227 - accuracy: 0.9068 - val_loss: 0.1563 - val_accuracy: 0.9546\n",
      "Epoch 2/5\n",
      "48000/48000 [==============================] - 4s 77us/sample - loss: 0.1565 - accuracy: 0.9528 - val_loss: 0.1139 - val_accuracy: 0.9663\n",
      "Epoch 3/5\n",
      "48000/48000 [==============================] - 4s 76us/sample - loss: 0.1179 - accuracy: 0.9643 - val_loss: 0.1110 - val_accuracy: 0.9669\n",
      "Epoch 4/5\n",
      "48000/48000 [==============================] - 4s 74us/sample - loss: 0.0955 - accuracy: 0.9713 - val_loss: 0.0883 - val_accuracy: 0.9741\n",
      "Epoch 5/5\n",
      "48000/48000 [==============================] - 4s 77us/sample - loss: 0.0807 - accuracy: 0.9747 - val_loss: 0.0861 - val_accuracy: 0.9738\n",
      "--- Starting trial: run-4\n",
      "{'num_units': 32, 'dropout': 0.1, 'optimizer': 'adam'}\n",
      "Train on 48000 samples, validate on 12000 samples\n",
      "Epoch 1/5\n",
      "48000/48000 [==============================] - 4s 80us/sample - loss: 0.3229 - accuracy: 0.9066 - val_loss: 0.1551 - val_accuracy: 0.9565\n",
      "Epoch 2/5\n",
      "48000/48000 [==============================] - 3s 73us/sample - loss: 0.1566 - accuracy: 0.9537 - val_loss: 0.1193 - val_accuracy: 0.9641\n",
      "Epoch 3/5\n",
      "48000/48000 [==============================] - 4s 74us/sample - loss: 0.1134 - accuracy: 0.9657 - val_loss: 0.0960 - val_accuracy: 0.9720\n",
      "Epoch 4/5\n",
      "48000/48000 [==============================] - 4s 73us/sample - loss: 0.0910 - accuracy: 0.9708 - val_loss: 0.0922 - val_accuracy: 0.9724\n",
      "Epoch 5/5\n",
      "48000/48000 [==============================] - 4s 74us/sample - loss: 0.0777 - accuracy: 0.9757 - val_loss: 0.0883 - val_accuracy: 0.9740\n",
      "--- Starting trial: run-5\n",
      "{'num_units': 32, 'dropout': 0.1, 'optimizer': 'sgd'}\n",
      "Train on 48000 samples, validate on 12000 samples\n",
      "Epoch 1/5\n",
      "48000/48000 [==============================] - 4s 78us/sample - loss: 0.3277 - accuracy: 0.9057 - val_loss: 0.1659 - val_accuracy: 0.9541\n",
      "Epoch 2/5\n",
      "48000/48000 [==============================] - 4s 73us/sample - loss: 0.1598 - accuracy: 0.9529 - val_loss: 0.1133 - val_accuracy: 0.9672\n",
      "Epoch 3/5\n",
      "48000/48000 [==============================] - 4s 73us/sample - loss: 0.1168 - accuracy: 0.9650 - val_loss: 0.1052 - val_accuracy: 0.9672\n",
      "Epoch 4/5\n",
      "48000/48000 [==============================] - 4s 73us/sample - loss: 0.0945 - accuracy: 0.9712 - val_loss: 0.0925 - val_accuracy: 0.9731\n",
      "Epoch 5/5\n",
      "48000/48000 [==============================] - 4s 74us/sample - loss: 0.0799 - accuracy: 0.9766 - val_loss: 0.0862 - val_accuracy: 0.9746\n",
      "--- Starting trial: run-6\n",
      "{'num_units': 32, 'dropout': 0.2, 'optimizer': 'adam'}\n",
      "Train on 48000 samples, validate on 12000 samples\n",
      "Epoch 1/5\n",
      "48000/48000 [==============================] - 4s 79us/sample - loss: 0.3272 - accuracy: 0.9051 - val_loss: 0.1561 - val_accuracy: 0.9557\n",
      "Epoch 2/5\n",
      "48000/48000 [==============================] - 4s 73us/sample - loss: 0.1601 - accuracy: 0.9523 - val_loss: 0.1214 - val_accuracy: 0.9638\n",
      "Epoch 3/5\n",
      "48000/48000 [==============================] - 4s 74us/sample - loss: 0.1203 - accuracy: 0.9642 - val_loss: 0.1020 - val_accuracy: 0.9703\n",
      "Epoch 4/5\n",
      "48000/48000 [==============================] - 4s 75us/sample - loss: 0.0961 - accuracy: 0.9708 - val_loss: 0.0934 - val_accuracy: 0.9722\n",
      "Epoch 5/5\n",
      "48000/48000 [==============================] - 4s 81us/sample - loss: 0.0815 - accuracy: 0.9748 - val_loss: 0.0826 - val_accuracy: 0.9762\n",
      "--- Starting trial: run-7\n",
      "{'num_units': 32, 'dropout': 0.2, 'optimizer': 'sgd'}\n",
      "Train on 48000 samples, validate on 12000 samples\n",
      "Epoch 1/5\n",
      "48000/48000 [==============================] - 4s 79us/sample - loss: 0.3234 - accuracy: 0.9065 - val_loss: 0.1576 - val_accuracy: 0.9549\n",
      "Epoch 2/5\n",
      "48000/48000 [==============================] - 4s 76us/sample - loss: 0.1573 - accuracy: 0.9531 - val_loss: 0.1158 - val_accuracy: 0.9655\n",
      "Epoch 3/5\n",
      "48000/48000 [==============================] - 4s 76us/sample - loss: 0.1157 - accuracy: 0.9655 - val_loss: 0.1026 - val_accuracy: 0.9679\n",
      "Epoch 4/5\n",
      "48000/48000 [==============================] - 4s 76us/sample - loss: 0.0951 - accuracy: 0.9711 - val_loss: 0.0896 - val_accuracy: 0.9737\n",
      "Epoch 5/5\n",
      "48000/48000 [==============================] - 4s 76us/sample - loss: 0.0791 - accuracy: 0.9753 - val_loss: 0.0873 - val_accuracy: 0.9753\n"
     ]
    }
   ],
   "source": [
    "# 依每一參數組合執行訓練\n",
    "session_num = 0\n",
    "\n",
    "for num_units in HP_NUM_UNITS.domain.values:\n",
    "    for dropout_rate in (HP_DROPOUT.domain.min_value, HP_DROPOUT.domain.max_value):\n",
    "        for optimizer in HP_OPTIMIZER.domain.values:\n",
    "            hparams = {\n",
    "                    HP_NUM_UNITS: num_units,\n",
    "                    HP_DROPOUT: dropout_rate,\n",
    "                    HP_OPTIMIZER: optimizer,\n",
    "            }\n",
    "            run_name = \"run-%d\" % session_num\n",
    "            print('--- Starting trial: %s' % run_name)\n",
    "            print({h.name: hparams[h] for h in hparams})\n",
    "            run('logs/hparam_tuning/' + run_name, hparams)\n",
    "            session_num += 1"
   ]
  },
  {
   "cell_type": "code",
   "execution_count": 11,
   "metadata": {},
   "outputs": [],
   "source": [
    "# 載入 TensorBoard notebook extension，即可在 jupyter notebook 啟動 Tensorboard\n",
    "%load_ext tensorboard"
   ]
  },
  {
   "cell_type": "code",
   "execution_count": 12,
   "metadata": {},
   "outputs": [
    {
     "data": {
      "text/plain": [
       "ERROR: Timed out waiting for TensorBoard to start. It may still be running as pid 5524."
      ]
     },
     "metadata": {},
     "output_type": "display_data"
    }
   ],
   "source": [
    "# 啟動 Tensorboard\n",
    "%tensorboard --logdir logs/hparam_tuning"
   ]
  },
  {
   "cell_type": "markdown",
   "metadata": {},
   "source": [
    "## 使用瀏覽器輸入以下網址，即可觀看訓練資訊：\n",
    "## http://localhost:6006/"
   ]
  },
  {
   "cell_type": "code",
   "execution_count": 13,
   "metadata": {},
   "outputs": [
    {
     "name": "stdout",
     "output_type": "stream",
     "text": [
      "成功: 處理程序 \"tensorboard.exe\" (PID 5524) 已經終止了。\n"
     ]
    }
   ],
   "source": [
    "!taskkill /IM \"tensorboard.exe\" /F\n",
    "# or \n",
    "# !taskkill /F /PID 15784"
   ]
  },
  {
   "cell_type": "code",
   "execution_count": null,
   "metadata": {},
   "outputs": [],
   "source": []
  }
 ],
 "metadata": {
  "kernelspec": {
   "display_name": "Python 3",
   "language": "python",
   "name": "python3"
  },
  "language_info": {
   "codemirror_mode": {
    "name": "ipython",
    "version": 3
   },
   "file_extension": ".py",
   "mimetype": "text/x-python",
   "name": "python",
   "nbconvert_exporter": "python",
   "pygments_lexer": "ipython3",
   "version": "3.6.8"
  }
 },
 "nbformat": 4,
 "nbformat_minor": 4
}
