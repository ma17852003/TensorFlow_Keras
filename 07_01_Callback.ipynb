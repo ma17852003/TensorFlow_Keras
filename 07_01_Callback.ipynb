{
 "cells": [
  {
   "cell_type": "code",
   "execution_count": 1,
   "metadata": {},
   "outputs": [],
   "source": [
    "import tensorflow as tf\n",
    "mnist = tf.keras.datasets.mnist\n",
    "\n",
    "\n",
    "# 匯入 MNIST 手寫阿拉伯數字 訓練資料\n",
    "(x_train, y_train),(x_test, y_test) = mnist.load_data()\n",
    "\n",
    "\n",
    "# 訓練/測試資料的 X/y 維度\n",
    "x_train.shape, y_train.shape,x_test.shape, y_test.shape\n",
    "\n",
    "# 特徵縮放，使用常態化(Normalization)，公式 = (x - min) / (max - min)\n",
    "# 顏色範圍：0~255，所以，公式簡化為 x / 255\n",
    "# 注意，顏色0為白色，與RGB顏色不同，(0,0,0) 為黑色。\n",
    "x_train_norm, x_test_norm = x_train / 255.0, x_test / 255.0"
   ]
  },
  {
   "cell_type": "code",
   "execution_count": 2,
   "metadata": {},
   "outputs": [],
   "source": [
    "# 建立模型\n",
    "model = tf.keras.models.Sequential([\n",
    "  tf.keras.layers.Flatten(input_shape=(28, 28)),\n",
    "  tf.keras.layers.Dense(128, activation='relu'),\n",
    "  tf.keras.layers.Dropout(0.2),\n",
    "  tf.keras.layers.Dense(10, activation='softmax')\n",
    "])\n"
   ]
  },
  {
   "cell_type": "code",
   "execution_count": 3,
   "metadata": {},
   "outputs": [],
   "source": [
    "# 設定優化器(optimizer)、損失函數(loss)、效能衡量指標(metrics)的類別\n",
    "model.compile(optimizer='adam',\n",
    "              loss='sparse_categorical_crossentropy',\n",
    "              metrics=['accuracy'])\n"
   ]
  },
  {
   "cell_type": "markdown",
   "metadata": {},
   "source": [
    "## EarlyStopping callbacks"
   ]
  },
  {
   "cell_type": "code",
   "execution_count": 8,
   "metadata": {},
   "outputs": [],
   "source": [
    "# validation loss 三個執行週期沒改善就停止訓練\n",
    "my_callbacks = [\n",
    "    tf.keras.callbacks.EarlyStopping(patience=3, monitor = 'val_accuracy'),\n",
    "]"
   ]
  },
  {
   "cell_type": "code",
   "execution_count": 9,
   "metadata": {},
   "outputs": [
    {
     "name": "stdout",
     "output_type": "stream",
     "text": [
      "Train on 48000 samples, validate on 12000 samples\n",
      "Epoch 1/20\n",
      "48000/48000 [==============================] - 4s 74us/sample - loss: 0.0333 - accuracy: 0.9890 - val_loss: 0.0852 - val_accuracy: 0.9780\n",
      "Epoch 2/20\n",
      "48000/48000 [==============================] - 3s 71us/sample - loss: 0.0306 - accuracy: 0.9904 - val_loss: 0.0787 - val_accuracy: 0.9803\n",
      "Epoch 3/20\n",
      "48000/48000 [==============================] - 3s 71us/sample - loss: 0.0301 - accuracy: 0.9894 - val_loss: 0.0897 - val_accuracy: 0.9774\n",
      "Epoch 4/20\n",
      "48000/48000 [==============================] - 3s 71us/sample - loss: 0.0285 - accuracy: 0.9905 - val_loss: 0.0902 - val_accuracy: 0.9778\n",
      "Epoch 5/20\n",
      "48000/48000 [==============================] - 3s 71us/sample - loss: 0.0263 - accuracy: 0.9911 - val_loss: 0.0887 - val_accuracy: 0.9781\n"
     ]
    }
   ],
   "source": [
    "# 訓練 20 次，但實際只訓練 13次就停止了\n",
    "history = model.fit(x_train_norm, y_train, epochs=20, validation_split=0.2, callbacks=my_callbacks)\n"
   ]
  },
  {
   "cell_type": "code",
   "execution_count": 14,
   "metadata": {},
   "outputs": [
    {
     "data": {
      "text/plain": [
       "([<matplotlib.axis.XTick at 0x203a8945e48>,\n",
       "  <matplotlib.axis.XTick at 0x203a8945780>,\n",
       "  <matplotlib.axis.XTick at 0x203a89454a8>,\n",
       "  <matplotlib.axis.XTick at 0x203a8b2c240>,\n",
       "  <matplotlib.axis.XTick at 0x203a8b2c780>],\n",
       " <a list of 5 Text xticklabel objects>)"
      ]
     },
     "execution_count": 14,
     "metadata": {},
     "output_type": "execute_result"
    },
    {
     "data": {
      "image/png": "[encoded data removed]",
      "text/plain": [
       "<Figure size 432x288 with 1 Axes>"
      ]
     },
     "metadata": {
      "needs_background": "light"
     },
     "output_type": "display_data"
    }
   ],
   "source": [
    "# 對訓練過程的準確度繪圖\n",
    "import matplotlib.pyplot as plt\n",
    "plt.plot([1,2,3,4,5], history.history['accuracy'], 'r')\n",
    "plt.plot([1,2,3,4,5], history.history['val_accuracy'], 'g')\n",
    "plt.xticks([1,2,3,4,5])"
   ]
  },
  {
   "cell_type": "code",
   "execution_count": 7,
   "metadata": {},
   "outputs": [
    {
     "data": {
      "text/plain": [
       "[0.08174725284399464, 0.9779]"
      ]
     },
     "execution_count": 7,
     "metadata": {},
     "output_type": "execute_result"
    }
   ],
   "source": [
    "# 評估，打分數\n",
    "score=model.evaluate(x_test_norm, y_test, verbose=0)\n",
    "score"
   ]
  },
  {
   "cell_type": "markdown",
   "metadata": {},
   "source": [
    "## TensorBoard callback"
   ]
  },
  {
   "cell_type": "code",
   "execution_count": 17,
   "metadata": {},
   "outputs": [
    {
     "name": "stdout",
     "output_type": "stream",
     "text": [
      "Train on 48000 samples, validate on 12000 samples\n",
      "Epoch 1/10\n",
      "48000/48000 [==============================] - 4s 86us/sample - loss: 0.0260 - accuracy: 0.9908 - val_loss: 0.0920 - val_accuracy: 0.9780\n",
      "Epoch 2/10\n",
      "48000/48000 [==============================] - 4s 84us/sample - loss: 0.0244 - accuracy: 0.9917 - val_loss: 0.0928 - val_accuracy: 0.9783\n",
      "Epoch 3/10\n",
      "48000/48000 [==============================] - 4s 77us/sample - loss: 0.0245 - accuracy: 0.9918 - val_loss: 0.0895 - val_accuracy: 0.9792\n",
      "Epoch 4/10\n",
      "48000/48000 [==============================] - 4s 81us/sample - loss: 0.0224 - accuracy: 0.9926 - val_loss: 0.0940 - val_accuracy: 0.9792\n",
      "Epoch 5/10\n",
      "48000/48000 [==============================] - 4s 87us/sample - loss: 0.0224 - accuracy: 0.9922 - val_loss: 0.0924 - val_accuracy: 0.9803\n",
      "Epoch 6/10\n",
      "48000/48000 [==============================] - 4s 74us/sample - loss: 0.0217 - accuracy: 0.9923 - val_loss: 0.0924 - val_accuracy: 0.9793\n",
      "Epoch 7/10\n",
      "48000/48000 [==============================] - 4s 74us/sample - loss: 0.0213 - accuracy: 0.9927 - val_loss: 0.0888 - val_accuracy: 0.9800\n",
      "Epoch 8/10\n",
      "48000/48000 [==============================] - 4s 90us/sample - loss: 0.0197 - accuracy: 0.9931 - val_loss: 0.0999 - val_accuracy: 0.9778\n",
      "Epoch 9/10\n",
      "48000/48000 [==============================] - 3s 73us/sample - loss: 0.0200 - accuracy: 0.9935 - val_loss: 0.1012 - val_accuracy: 0.9790\n",
      "Epoch 10/10\n",
      "48000/48000 [==============================] - 4s 73us/sample - loss: 0.0204 - accuracy: 0.9932 - val_loss: 0.0997 - val_accuracy: 0.9793\n"
     ]
    }
   ],
   "source": [
    "# 定義 tensorboard callback\n",
    "tensorboard_callback = [tf.keras.callbacks.TensorBoard(log_dir='.\\\\logs')]\n",
    "\n",
    "# 訓練 10 次\n",
    "history = model.fit(x_train_norm, y_train, epochs=10, validation_split=0.2, callbacks=tensorboard_callback)"
   ]
  },
  {
   "cell_type": "code",
   "execution_count": 4,
   "metadata": {},
   "outputs": [
    {
     "name": "stdout",
     "output_type": "stream",
     "text": [
      "Train on 48000 samples, validate on 12000 samples\n",
      "Epoch 1/10\n",
      "48000/48000 [==============================] - 5s 95us/sample - loss: 0.3235 - accuracy: 0.9047 - val_loss: 0.1569 - val_accuracy: 0.9548\n",
      "Epoch 2/10\n",
      "48000/48000 [==============================] - 5s 99us/sample - loss: 0.1549 - accuracy: 0.9536 - val_loss: 0.1147 - val_accuracy: 0.9659\n",
      "Epoch 3/10\n",
      "48000/48000 [==============================] - 6s 117us/sample - loss: 0.1181 - accuracy: 0.9641 - val_loss: 0.0988 - val_accuracy: 0.9707\n",
      "Epoch 4/10\n",
      "48000/48000 [==============================] - 4s 84us/sample - loss: 0.0942 - accuracy: 0.9714 - val_loss: 0.0920 - val_accuracy: 0.9717\n",
      "Epoch 5/10\n",
      "48000/48000 [==============================] - 4s 85us/sample - loss: 0.0815 - accuracy: 0.9742 - val_loss: 0.0848 - val_accuracy: 0.9737\n",
      "Epoch 6/10\n",
      "48000/48000 [==============================] - 4s 86us/sample - loss: 0.0695 - accuracy: 0.9778 - val_loss: 0.0807 - val_accuracy: 0.9770\n",
      "Epoch 7/10\n",
      "48000/48000 [==============================] - 4s 79us/sample - loss: 0.0609 - accuracy: 0.9809 - val_loss: 0.0789 - val_accuracy: 0.9767\n",
      "Epoch 8/10\n",
      "48000/48000 [==============================] - 4s 86us/sample - loss: 0.0545 - accuracy: 0.9826 - val_loss: 0.0768 - val_accuracy: 0.9775\n",
      "Epoch 9/10\n",
      "48000/48000 [==============================] - 5s 94us/sample - loss: 0.0492 - accuracy: 0.9836 - val_loss: 0.0810 - val_accuracy: 0.9778\n",
      "Epoch 10/10\n",
      "48000/48000 [==============================] - 5s 95us/sample - loss: 0.0463 - accuracy: 0.9844 - val_loss: 0.0781 - val_accuracy: 0.9776\n"
     ]
    },
    {
     "data": {
      "text/plain": [
       "<tensorflow.python.keras.callbacks.History at 0x1c018f7ac50>"
      ]
     },
     "execution_count": 4,
     "metadata": {},
     "output_type": "execute_result"
    }
   ],
   "source": [
    "# 定義 ModelCheckpoint callback\n",
    "checkpoint_filepath = '.\\\\tmp\\\\checkpoint'\n",
    "model_checkpoint_callback = [tf.keras.callbacks.ModelCheckpoint(filepath=checkpoint_filepath, save_weights_only=True)]\n",
    "\n",
    "# 訓練 10 次\n",
    "model.fit(x_train_norm, y_train, epochs=10, validation_split=0.2, callbacks=model_checkpoint_callback)"
   ]
  },
  {
   "cell_type": "code",
   "execution_count": 5,
   "metadata": {},
   "outputs": [
    {
     "name": "stdout",
     "output_type": "stream",
     "text": [
      "Train on 48000 samples, validate on 12000 samples\n",
      "Epoch 1/5\n",
      "48000/48000 [==============================] - 4s 82us/sample - loss: 0.0401 - accuracy: 0.9870 - val_loss: 0.0770 - val_accuracy: 0.9783\n",
      "Epoch 2/5\n",
      "48000/48000 [==============================] - 4s 87us/sample - loss: 0.0406 - accuracy: 0.9867 - val_loss: 0.0824 - val_accuracy: 0.9768\n",
      "Epoch 3/5\n",
      "48000/48000 [==============================] - 4s 81us/sample - loss: 0.0370 - accuracy: 0.9877 - val_loss: 0.0807 - val_accuracy: 0.9777\n",
      "Epoch 4/5\n",
      "48000/48000 [==============================] - 4s 79us/sample - loss: 0.0335 - accuracy: 0.9885 - val_loss: 0.0769 - val_accuracy: 0.9796\n",
      "Epoch 5/5\n",
      "48000/48000 [==============================] - 5s 96us/sample - loss: 0.0328 - accuracy: 0.9888 - val_loss: 0.0831 - val_accuracy: 0.9778\n"
     ]
    },
    {
     "data": {
      "text/plain": [
       "<tensorflow.python.keras.callbacks.History at 0x1c01a6e5c50>"
      ]
     },
     "execution_count": 5,
     "metadata": {},
     "output_type": "execute_result"
    }
   ],
   "source": [
    "# 載入最近的檢查點的權重\n",
    "model.load_weights(checkpoint_filepath)\n",
    "# 訓練 5 次\n",
    "model.fit(x_train_norm, y_train, epochs=5, validation_split=0.2, callbacks=model_checkpoint_callback)"
   ]
  },
  {
   "cell_type": "code",
   "execution_count": null,
   "metadata": {},
   "outputs": [],
   "source": []
  }
 ],
 "metadata": {
  "kernelspec": {
   "display_name": "Python 3",
   "language": "python",
   "name": "python3"
  },
  "language_info": {
   "codemirror_mode": {
    "name": "ipython",
    "version": 3
   },
   "file_extension": ".py",
   "mimetype": "text/x-python",
   "name": "python",
   "nbconvert_exporter": "python",
   "pygments_lexer": "ipython3",
   "version": "3.6.8"
  }
 },
 "nbformat": 4,
 "nbformat_minor": 4
}
