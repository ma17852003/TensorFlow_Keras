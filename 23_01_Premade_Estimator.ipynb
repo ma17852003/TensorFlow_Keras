{
 "cells": [
  {
   "cell_type": "markdown",
   "metadata": {},
   "source": [
    "# Tensorflow 現成的模型(pre-made Estimators)"
   ]
  },
  {
   "cell_type": "markdown",
   "metadata": {},
   "source": [
    "## 程式參考來源：\n",
    "- https://www.tensorflow.org/tutorials/estimator/premade\n",
    "- https://www.tensorflow.org/tutorials/estimator/linear\n",
    "- https://www.tensorflow.org/guide/estimator"
   ]
  },
  {
   "cell_type": "markdown",
   "metadata": {},
   "source": [
    "## Iris sample with tf.estimator.DNNClassifier"
   ]
  },
  {
   "cell_type": "code",
   "execution_count": 1,
   "metadata": {},
   "outputs": [
    {
     "name": "stderr",
     "output_type": "stream",
     "text": [
      "<frozen importlib._bootstrap>:219: RuntimeWarning: numpy.ufunc size changed, may indicate binary incompatibility. Expected 192 from C header, got 216 from PyObject\n"
     ]
    }
   ],
   "source": [
    "import tensorflow as tf\n",
    "import pandas as pd\n",
    "from sklearn.datasets import load_iris"
   ]
  },
  {
   "cell_type": "markdown",
   "metadata": {},
   "source": [
    "## 讀取 iris 資料集"
   ]
  },
  {
   "cell_type": "code",
   "execution_count": 2,
   "metadata": {},
   "outputs": [],
   "source": [
    "ds = load_iris()"
   ]
  },
  {
   "cell_type": "code",
   "execution_count": 5,
   "metadata": {},
   "outputs": [
    {
     "data": {
      "text/html": [
       "<div>\n",
       "<style scoped>\n",
       "    .dataframe tbody tr th:only-of-type {\n",
       "        vertical-align: middle;\n",
       "    }\n",
       "\n",
       "    .dataframe tbody tr th {\n",
       "        vertical-align: top;\n",
       "    }\n",
       "\n",
       "    .dataframe thead th {\n",
       "        text-align: right;\n",
       "    }\n",
       "</style>\n",
       "<table border=\"1\" class=\"dataframe\">\n",
       "  <thead>\n",
       "    <tr style=\"text-align: right;\">\n",
       "      <th></th>\n",
       "      <th>sepal length (cm)</th>\n",
       "      <th>sepal width (cm)</th>\n",
       "      <th>petal length (cm)</th>\n",
       "      <th>petal width (cm)</th>\n",
       "    </tr>\n",
       "  </thead>\n",
       "  <tbody>\n",
       "    <tr>\n",
       "      <th>0</th>\n",
       "      <td>5.1</td>\n",
       "      <td>3.5</td>\n",
       "      <td>1.4</td>\n",
       "      <td>0.2</td>\n",
       "    </tr>\n",
       "    <tr>\n",
       "      <th>1</th>\n",
       "      <td>4.9</td>\n",
       "      <td>3.0</td>\n",
       "      <td>1.4</td>\n",
       "      <td>0.2</td>\n",
       "    </tr>\n",
       "    <tr>\n",
       "      <th>2</th>\n",
       "      <td>4.7</td>\n",
       "      <td>3.2</td>\n",
       "      <td>1.3</td>\n",
       "      <td>0.2</td>\n",
       "    </tr>\n",
       "    <tr>\n",
       "      <th>3</th>\n",
       "      <td>4.6</td>\n",
       "      <td>3.1</td>\n",
       "      <td>1.5</td>\n",
       "      <td>0.2</td>\n",
       "    </tr>\n",
       "    <tr>\n",
       "      <th>4</th>\n",
       "      <td>5.0</td>\n",
       "      <td>3.6</td>\n",
       "      <td>1.4</td>\n",
       "      <td>0.2</td>\n",
       "    </tr>\n",
       "  </tbody>\n",
       "</table>\n",
       "</div>"
      ],
      "text/plain": [
       "   sepal length (cm)  sepal width (cm)  petal length (cm)  petal width (cm)\n",
       "0                5.1               3.5                1.4               0.2\n",
       "1                4.9               3.0                1.4               0.2\n",
       "2                4.7               3.2                1.3               0.2\n",
       "3                4.6               3.1                1.5               0.2\n",
       "4                5.0               3.6                1.4               0.2"
      ]
     },
     "execution_count": 5,
     "metadata": {},
     "output_type": "execute_result"
    }
   ],
   "source": [
    "df = pd.DataFrame(ds.data, columns=ds.feature_names)\n",
    "X = ds.data\n",
    "y = ds.target\n",
    "df.head()"
   ]
  },
  {
   "cell_type": "code",
   "execution_count": 9,
   "metadata": {},
   "outputs": [],
   "source": [
    "# rename\n",
    "CSV_COLUMN_NAMES = ['SepalLength', 'SepalWidth', 'PetalLength', 'PetalWidth'] #, 'Species']\n",
    "SPECIES = ['Setosa', 'Versicolor', 'Virginica']\n",
    "df.columns = CSV_COLUMN_NAMES\n"
   ]
  },
  {
   "cell_type": "code",
   "execution_count": 8,
   "metadata": {},
   "outputs": [
    {
     "data": {
      "text/html": [
       "<div>\n",
       "<style scoped>\n",
       "    .dataframe tbody tr th:only-of-type {\n",
       "        vertical-align: middle;\n",
       "    }\n",
       "\n",
       "    .dataframe tbody tr th {\n",
       "        vertical-align: top;\n",
       "    }\n",
       "\n",
       "    .dataframe thead th {\n",
       "        text-align: right;\n",
       "    }\n",
       "</style>\n",
       "<table border=\"1\" class=\"dataframe\">\n",
       "  <thead>\n",
       "    <tr style=\"text-align: right;\">\n",
       "      <th></th>\n",
       "      <th>SepalLength</th>\n",
       "      <th>SepalWidth</th>\n",
       "      <th>PetalLength</th>\n",
       "      <th>PetalWidth</th>\n",
       "    </tr>\n",
       "  </thead>\n",
       "  <tbody>\n",
       "    <tr>\n",
       "      <th>133</th>\n",
       "      <td>6.3</td>\n",
       "      <td>2.8</td>\n",
       "      <td>5.1</td>\n",
       "      <td>1.5</td>\n",
       "    </tr>\n",
       "    <tr>\n",
       "      <th>141</th>\n",
       "      <td>6.9</td>\n",
       "      <td>3.1</td>\n",
       "      <td>5.1</td>\n",
       "      <td>2.3</td>\n",
       "    </tr>\n",
       "    <tr>\n",
       "      <th>16</th>\n",
       "      <td>5.4</td>\n",
       "      <td>3.9</td>\n",
       "      <td>1.3</td>\n",
       "      <td>0.4</td>\n",
       "    </tr>\n",
       "    <tr>\n",
       "      <th>20</th>\n",
       "      <td>5.4</td>\n",
       "      <td>3.4</td>\n",
       "      <td>1.7</td>\n",
       "      <td>0.2</td>\n",
       "    </tr>\n",
       "    <tr>\n",
       "      <th>22</th>\n",
       "      <td>4.6</td>\n",
       "      <td>3.6</td>\n",
       "      <td>1.0</td>\n",
       "      <td>0.2</td>\n",
       "    </tr>\n",
       "    <tr>\n",
       "      <th>...</th>\n",
       "      <td>...</td>\n",
       "      <td>...</td>\n",
       "      <td>...</td>\n",
       "      <td>...</td>\n",
       "    </tr>\n",
       "    <tr>\n",
       "      <th>98</th>\n",
       "      <td>5.1</td>\n",
       "      <td>2.5</td>\n",
       "      <td>3.0</td>\n",
       "      <td>1.1</td>\n",
       "    </tr>\n",
       "    <tr>\n",
       "      <th>21</th>\n",
       "      <td>5.1</td>\n",
       "      <td>3.7</td>\n",
       "      <td>1.5</td>\n",
       "      <td>0.4</td>\n",
       "    </tr>\n",
       "    <tr>\n",
       "      <th>130</th>\n",
       "      <td>7.4</td>\n",
       "      <td>2.8</td>\n",
       "      <td>6.1</td>\n",
       "      <td>1.9</td>\n",
       "    </tr>\n",
       "    <tr>\n",
       "      <th>9</th>\n",
       "      <td>4.9</td>\n",
       "      <td>3.1</td>\n",
       "      <td>1.5</td>\n",
       "      <td>0.1</td>\n",
       "    </tr>\n",
       "    <tr>\n",
       "      <th>58</th>\n",
       "      <td>6.6</td>\n",
       "      <td>2.9</td>\n",
       "      <td>4.6</td>\n",
       "      <td>1.3</td>\n",
       "    </tr>\n",
       "  </tbody>\n",
       "</table>\n",
       "<p>120 rows × 4 columns</p>\n",
       "</div>"
      ],
      "text/plain": [
       "     SepalLength  SepalWidth  PetalLength  PetalWidth\n",
       "133          6.3         2.8          5.1         1.5\n",
       "141          6.9         3.1          5.1         2.3\n",
       "16           5.4         3.9          1.3         0.4\n",
       "20           5.4         3.4          1.7         0.2\n",
       "22           4.6         3.6          1.0         0.2\n",
       "..           ...         ...          ...         ...\n",
       "98           5.1         2.5          3.0         1.1\n",
       "21           5.1         3.7          1.5         0.4\n",
       "130          7.4         2.8          6.1         1.9\n",
       "9            4.9         3.1          1.5         0.1\n",
       "58           6.6         2.9          4.6         1.3\n",
       "\n",
       "[120 rows x 4 columns]"
      ]
     },
     "execution_count": 8,
     "metadata": {},
     "output_type": "execute_result"
    }
   ],
   "source": [
    "from sklearn.model_selection import train_test_split\n",
    "X_train, X_test, y_train, y_test = train_test_split(df, y, test_size=0.2)\n",
    "X_train"
   ]
  },
  {
   "cell_type": "markdown",
   "metadata": {},
   "source": [
    "## 建立 Estimator"
   ]
  },
  {
   "cell_type": "code",
   "execution_count": 12,
   "metadata": {},
   "outputs": [],
   "source": [
    "# 建立 Estimator input function\n",
    "def input_fn(features, labels, training=True, batch_size=256):\n",
    "    \"\"\"An input function for training or evaluating\"\"\"\n",
    "    # 將 NumPy Array 轉成 Dataset.\n",
    "    dataset = tf.data.Dataset.from_tensor_slices((dict(features), labels))\n",
    "\n",
    "    # 隨機抽樣\n",
    "    # Shuffle and repeat if you are in training mode.\n",
    "    if training:\n",
    "        dataset = dataset.shuffle(1000).repeat()\n",
    "    \n",
    "    return dataset.batch(batch_size)"
   ]
  },
  {
   "cell_type": "code",
   "execution_count": 13,
   "metadata": {},
   "outputs": [
    {
     "data": {
      "text/plain": [
       "[NumericColumn(key='SepalLength', shape=(1,), default_value=None, dtype=tf.float32, normalizer_fn=None),\n",
       " NumericColumn(key='SepalWidth', shape=(1,), default_value=None, dtype=tf.float32, normalizer_fn=None),\n",
       " NumericColumn(key='PetalLength', shape=(1,), default_value=None, dtype=tf.float32, normalizer_fn=None),\n",
       " NumericColumn(key='PetalWidth', shape=(1,), default_value=None, dtype=tf.float32, normalizer_fn=None)]"
      ]
     },
     "execution_count": 13,
     "metadata": {},
     "output_type": "execute_result"
    }
   ],
   "source": [
    "# 建立 Feature columns 提供給 Estimator 使用\n",
    "my_feature_columns = []\n",
    "for key in X_train.keys():\n",
    "    my_feature_columns.append(tf.feature_column.numeric_column(key=key))\n",
    "my_feature_columns"
   ]
  },
  {
   "cell_type": "code",
   "execution_count": 14,
   "metadata": {},
   "outputs": [
    {
     "name": "stdout",
     "output_type": "stream",
     "text": [
      "INFO:tensorflow:Using default config.\n",
      "WARNING:tensorflow:Using temporary folder as model directory: C:\\Users\\mikec\\AppData\\Local\\Temp\\tmp3cydw2qj\n",
      "INFO:tensorflow:Using config: {'_model_dir': 'C:\\\\Users\\\\mikec\\\\AppData\\\\Local\\\\Temp\\\\tmp3cydw2qj', '_tf_random_seed': None, '_save_summary_steps': 100, '_save_checkpoints_steps': None, '_save_checkpoints_secs': 600, '_session_config': allow_soft_placement: true\n",
      "graph_options {\n",
      "  rewrite_options {\n",
      "    meta_optimizer_iterations: ONE\n",
      "  }\n",
      "}\n",
      ", '_keep_checkpoint_max': 5, '_keep_checkpoint_every_n_hours': 10000, '_log_step_count_steps': 100, '_train_distribute': None, '_device_fn': None, '_protocol': None, '_eval_distribute': None, '_experimental_distribute': None, '_experimental_max_worker_delay_secs': None, '_session_creation_timeout_secs': 7200, '_service': None, '_cluster_spec': ClusterSpec({}), '_task_type': 'worker', '_task_id': 0, '_global_id_in_cluster': 0, '_master': '', '_evaluation_master': '', '_is_chief': True, '_num_ps_replicas': 0, '_num_worker_replicas': 1}\n"
     ]
    }
   ],
   "source": [
    "# 建立兩層的深度神經網路(DNN with 2 hidden layers with 30 and 10 hidden nodes each)\n",
    "classifier = tf.estimator.DNNClassifier(\n",
    "    feature_columns=my_feature_columns,\n",
    "    # Two hidden layers of 30 and 10 nodes respectively.\n",
    "    hidden_units=[30, 10],\n",
    "    # The model must choose between 3 classes.\n",
    "    n_classes=3)"
   ]
  },
  {
   "cell_type": "markdown",
   "metadata": {},
   "source": [
    "## 模型訓練"
   ]
  },
  {
   "cell_type": "code",
   "execution_count": 16,
   "metadata": {},
   "outputs": [
    {
     "name": "stdout",
     "output_type": "stream",
     "text": [
      "INFO:tensorflow:Calling model_fn.\n",
      "WARNING:tensorflow:Layer dnn is casting an input tensor from dtype float64 to the layer's dtype of float32, which is new behavior in TensorFlow 2.  The layer has dtype float32 because its dtype defaults to floatx.\n",
      "\n",
      "If you intended to run this layer in float32, you can safely ignore this warning. If in doubt, this warning is likely only an issue if you are porting a TensorFlow 1.X model to TensorFlow 2.\n",
      "\n",
      "To change all layers to have dtype float64 by default, call `tf.keras.backend.set_floatx('float64')`. To change just this layer, pass dtype='float64' to the layer constructor. If you are the author of this layer, you can disable autocasting by passing autocast=False to the base Layer constructor.\n",
      "\n",
      "WARNING:tensorflow:From C:\\anaconda3\\lib\\site-packages\\tensorflow\\python\\keras\\optimizer_v2\\adagrad.py:82: calling Constant.__init__ (from tensorflow.python.ops.init_ops) with dtype is deprecated and will be removed in a future version.\n",
      "Instructions for updating:\n",
      "Call initializer instance with the dtype argument instead of passing it to the constructor\n",
      "INFO:tensorflow:Done calling model_fn.\n",
      "INFO:tensorflow:Create CheckpointSaverHook.\n",
      "INFO:tensorflow:Graph was finalized.\n",
      "INFO:tensorflow:Running local_init_op.\n",
      "INFO:tensorflow:Done running local_init_op.\n",
      "INFO:tensorflow:Calling checkpoint listeners before saving checkpoint 0...\n",
      "INFO:tensorflow:Saving checkpoints for 0 into C:\\Users\\mikec\\AppData\\Local\\Temp\\tmp3cydw2qj\\model.ckpt.\n",
      "INFO:tensorflow:Calling checkpoint listeners after saving checkpoint 0...\n",
      "INFO:tensorflow:loss = 1.424305, step = 0\n",
      "INFO:tensorflow:global_step/sec: 323.76\n",
      "INFO:tensorflow:loss = 1.0301793, step = 100 (0.311 sec)\n",
      "INFO:tensorflow:global_step/sec: 380.934\n",
      "INFO:tensorflow:loss = 0.9454192, step = 200 (0.261 sec)\n",
      "INFO:tensorflow:global_step/sec: 393.19\n",
      "INFO:tensorflow:loss = 0.88892984, step = 300 (0.255 sec)\n",
      "INFO:tensorflow:global_step/sec: 402.13\n",
      "INFO:tensorflow:loss = 0.8429207, step = 400 (0.248 sec)\n",
      "INFO:tensorflow:global_step/sec: 378.358\n",
      "INFO:tensorflow:loss = 0.806367, step = 500 (0.265 sec)\n",
      "INFO:tensorflow:global_step/sec: 401.606\n",
      "INFO:tensorflow:loss = 0.77589315, step = 600 (0.249 sec)\n",
      "INFO:tensorflow:global_step/sec: 367.104\n",
      "INFO:tensorflow:loss = 0.7414459, step = 700 (0.272 sec)\n",
      "INFO:tensorflow:global_step/sec: 403.186\n",
      "INFO:tensorflow:loss = 0.73173743, step = 800 (0.248 sec)\n",
      "INFO:tensorflow:global_step/sec: 396.826\n",
      "INFO:tensorflow:loss = 0.70092404, step = 900 (0.252 sec)\n",
      "INFO:tensorflow:global_step/sec: 389.326\n",
      "INFO:tensorflow:loss = 0.6874836, step = 1000 (0.256 sec)\n",
      "INFO:tensorflow:global_step/sec: 404.859\n",
      "INFO:tensorflow:loss = 0.6606957, step = 1100 (0.248 sec)\n",
      "INFO:tensorflow:global_step/sec: 398.404\n",
      "INFO:tensorflow:loss = 0.6498235, step = 1200 (0.250 sec)\n",
      "INFO:tensorflow:global_step/sec: 398.361\n",
      "INFO:tensorflow:loss = 0.63255054, step = 1300 (0.252 sec)\n",
      "INFO:tensorflow:global_step/sec: 406.553\n",
      "INFO:tensorflow:loss = 0.62357116, step = 1400 (0.246 sec)\n",
      "INFO:tensorflow:global_step/sec: 403.226\n",
      "INFO:tensorflow:loss = 0.60791427, step = 1500 (0.248 sec)\n",
      "INFO:tensorflow:global_step/sec: 399.998\n",
      "INFO:tensorflow:loss = 0.59161097, step = 1600 (0.250 sec)\n",
      "INFO:tensorflow:global_step/sec: 401.567\n",
      "INFO:tensorflow:loss = 0.587397, step = 1700 (0.249 sec)\n",
      "INFO:tensorflow:global_step/sec: 375.941\n",
      "INFO:tensorflow:loss = 0.57214504, step = 1800 (0.267 sec)\n",
      "INFO:tensorflow:global_step/sec: 377.393\n",
      "INFO:tensorflow:loss = 0.5632442, step = 1900 (0.264 sec)\n",
      "INFO:tensorflow:global_step/sec: 380.227\n",
      "INFO:tensorflow:loss = 0.5658608, step = 2000 (0.262 sec)\n",
      "INFO:tensorflow:global_step/sec: 378.789\n",
      "INFO:tensorflow:loss = 0.54805946, step = 2100 (0.265 sec)\n",
      "INFO:tensorflow:global_step/sec: 381.677\n",
      "INFO:tensorflow:loss = 0.5481132, step = 2200 (0.262 sec)\n",
      "INFO:tensorflow:global_step/sec: 380.23\n",
      "INFO:tensorflow:loss = 0.5380547, step = 2300 (0.263 sec)\n",
      "INFO:tensorflow:global_step/sec: 401.606\n",
      "INFO:tensorflow:loss = 0.5279627, step = 2400 (0.249 sec)\n",
      "INFO:tensorflow:global_step/sec: 395.259\n",
      "INFO:tensorflow:loss = 0.5279867, step = 2500 (0.252 sec)\n",
      "INFO:tensorflow:global_step/sec: 396.823\n",
      "INFO:tensorflow:loss = 0.52329886, step = 2600 (0.252 sec)\n",
      "INFO:tensorflow:global_step/sec: 389.105\n",
      "INFO:tensorflow:loss = 0.51175946, step = 2700 (0.258 sec)\n",
      "INFO:tensorflow:global_step/sec: 401.567\n",
      "INFO:tensorflow:loss = 0.51178324, step = 2800 (0.249 sec)\n",
      "INFO:tensorflow:global_step/sec: 401.647\n",
      "INFO:tensorflow:loss = 0.4970972, step = 2900 (0.249 sec)\n",
      "INFO:tensorflow:global_step/sec: 381.681\n",
      "INFO:tensorflow:loss = 0.4933823, step = 3000 (0.262 sec)\n",
      "INFO:tensorflow:global_step/sec: 390.624\n",
      "INFO:tensorflow:loss = 0.4879639, step = 3100 (0.255 sec)\n",
      "INFO:tensorflow:global_step/sec: 404.856\n",
      "INFO:tensorflow:loss = 0.49135572, step = 3200 (0.248 sec)\n",
      "INFO:tensorflow:global_step/sec: 406.504\n",
      "INFO:tensorflow:loss = 0.48249173, step = 3300 (0.245 sec)\n",
      "INFO:tensorflow:global_step/sec: 395.256\n",
      "INFO:tensorflow:loss = 0.46154428, step = 3400 (0.253 sec)\n",
      "INFO:tensorflow:global_step/sec: 389.106\n",
      "INFO:tensorflow:loss = 0.46722984, step = 3500 (0.257 sec)\n",
      "INFO:tensorflow:global_step/sec: 398.406\n",
      "INFO:tensorflow:loss = 0.4621607, step = 3600 (0.251 sec)\n",
      "INFO:tensorflow:global_step/sec: 418.366\n",
      "INFO:tensorflow:loss = 0.4602536, step = 3700 (0.239 sec)\n",
      "INFO:tensorflow:global_step/sec: 402.567\n",
      "INFO:tensorflow:loss = 0.4613917, step = 3800 (0.249 sec)\n",
      "INFO:tensorflow:global_step/sec: 400\n",
      "INFO:tensorflow:loss = 0.45598847, step = 3900 (0.249 sec)\n",
      "INFO:tensorflow:global_step/sec: 401.609\n",
      "INFO:tensorflow:loss = 0.4610176, step = 4000 (0.250 sec)\n",
      "INFO:tensorflow:global_step/sec: 401.604\n",
      "INFO:tensorflow:loss = 0.4556939, step = 4100 (0.249 sec)\n",
      "INFO:tensorflow:global_step/sec: 409.838\n",
      "INFO:tensorflow:loss = 0.45104563, step = 4200 (0.243 sec)\n",
      "INFO:tensorflow:global_step/sec: 389.066\n",
      "INFO:tensorflow:loss = 0.45639968, step = 4300 (0.258 sec)\n",
      "INFO:tensorflow:global_step/sec: 387.593\n",
      "INFO:tensorflow:loss = 0.4341781, step = 4400 (0.258 sec)\n",
      "INFO:tensorflow:global_step/sec: 404.857\n",
      "INFO:tensorflow:loss = 0.44041407, step = 4500 (0.247 sec)\n",
      "INFO:tensorflow:global_step/sec: 401.651\n",
      "INFO:tensorflow:loss = 0.43487847, step = 4600 (0.248 sec)\n",
      "INFO:tensorflow:global_step/sec: 375.941\n",
      "INFO:tensorflow:loss = 0.42616284, step = 4700 (0.267 sec)\n",
      "INFO:tensorflow:global_step/sec: 396.826\n",
      "INFO:tensorflow:loss = 0.4267788, step = 4800 (0.252 sec)\n",
      "INFO:tensorflow:global_step/sec: 406.502\n",
      "INFO:tensorflow:loss = 0.4219676, step = 4900 (0.245 sec)\n",
      "INFO:tensorflow:Calling checkpoint listeners before saving checkpoint 5000...\n",
      "INFO:tensorflow:Saving checkpoints for 5000 into C:\\Users\\mikec\\AppData\\Local\\Temp\\tmp3cydw2qj\\model.ckpt.\n",
      "INFO:tensorflow:Calling checkpoint listeners after saving checkpoint 5000...\n",
      "INFO:tensorflow:Loss for final step: 0.41449544.\n"
     ]
    },
    {
     "data": {
      "text/plain": [
       "<tensorflow_estimator.python.estimator.canned.dnn.DNNClassifierV2 at 0x1971dcddee0>"
      ]
     },
     "execution_count": 16,
     "metadata": {},
     "output_type": "execute_result"
    }
   ],
   "source": [
    "classifier.train(\n",
    "    input_fn=lambda: input_fn(X_train, y_train, training=True),\n",
    "    steps=5000)"
   ]
  },
  {
   "cell_type": "markdown",
   "metadata": {},
   "source": [
    "## 模型評估"
   ]
  },
  {
   "cell_type": "code",
   "execution_count": 19,
   "metadata": {
    "scrolled": true
   },
   "outputs": [
    {
     "name": "stdout",
     "output_type": "stream",
     "text": [
      "INFO:tensorflow:Calling model_fn.\n",
      "WARNING:tensorflow:Layer dnn is casting an input tensor from dtype float64 to the layer's dtype of float32, which is new behavior in TensorFlow 2.  The layer has dtype float32 because its dtype defaults to floatx.\n",
      "\n",
      "If you intended to run this layer in float32, you can safely ignore this warning. If in doubt, this warning is likely only an issue if you are porting a TensorFlow 1.X model to TensorFlow 2.\n",
      "\n",
      "To change all layers to have dtype float64 by default, call `tf.keras.backend.set_floatx('float64')`. To change just this layer, pass dtype='float64' to the layer constructor. If you are the author of this layer, you can disable autocasting by passing autocast=False to the base Layer constructor.\n",
      "\n",
      "INFO:tensorflow:Done calling model_fn.\n",
      "INFO:tensorflow:Starting evaluation at 2020-09-23T09:39:07Z\n",
      "INFO:tensorflow:Graph was finalized.\n",
      "INFO:tensorflow:Restoring parameters from C:\\Users\\mikec\\AppData\\Local\\Temp\\tmp3cydw2qj\\model.ckpt-5000\n",
      "INFO:tensorflow:Running local_init_op.\n",
      "INFO:tensorflow:Done running local_init_op.\n",
      "INFO:tensorflow:Inference Time : 0.19783s\n",
      "INFO:tensorflow:Finished evaluation at 2020-09-23-09:39:07\n",
      "INFO:tensorflow:Saving dict for global step 5000: accuracy = 0.93333334, average_loss = 0.42344394, global_step = 5000, loss = 0.42344394\n",
      "INFO:tensorflow:Saving 'checkpoint_path' summary for global step 5000: C:\\Users\\mikec\\AppData\\Local\\Temp\\tmp3cydw2qj\\model.ckpt-5000\n",
      "\n",
      "準確度: 0.933\n",
      "\n"
     ]
    }
   ],
   "source": [
    "eval_result = classifier.evaluate(\n",
    "    input_fn=lambda: input_fn(X_test, y_test, training=False))\n",
    "\n",
    "print('\\n準確度: {accuracy:0.3f}\\n'.format(**eval_result))"
   ]
  },
  {
   "cell_type": "markdown",
   "metadata": {},
   "source": [
    "## 預測"
   ]
  },
  {
   "cell_type": "code",
   "execution_count": 21,
   "metadata": {},
   "outputs": [
    {
     "name": "stdout",
     "output_type": "stream",
     "text": [
      "INFO:tensorflow:Calling model_fn.\n",
      "INFO:tensorflow:Done calling model_fn.\n",
      "INFO:tensorflow:Graph was finalized.\n",
      "INFO:tensorflow:Restoring parameters from C:\\Users\\mikec\\AppData\\Local\\Temp\\tmp3cydw2qj\\model.ckpt-5000\n",
      "INFO:tensorflow:Running local_init_op.\n",
      "INFO:tensorflow:Done running local_init_op.\n",
      "Prediction is \"Setosa\" (86.6%), expected \"Setosa\"\n",
      "Prediction is \"Versicolor\" (50.1%), expected \"Versicolor\"\n",
      "Prediction is \"Virginica\" (58.2%), expected \"Virginica\"\n"
     ]
    }
   ],
   "source": [
    "# 預測資料\n",
    "expected = ['Setosa', 'Versicolor', 'Virginica']\n",
    "predict_x = {\n",
    "    'SepalLength': [5.1, 5.9, 6.9],\n",
    "    'SepalWidth': [3.3, 3.0, 3.1],\n",
    "    'PetalLength': [1.7, 4.2, 5.4],\n",
    "    'PetalWidth': [0.5, 1.5, 2.1],\n",
    "}\n",
    "\n",
    "# 預測使用的 Input function\n",
    "def input_fn_pred(features, batch_size=256):\n",
    "    \"\"\"An input function for prediction.\"\"\"\n",
    "    # Convert the inputs to a Dataset without labels.\n",
    "    return tf.data.Dataset.from_tensor_slices(dict(features)).batch(batch_size)\n",
    "\n",
    "# 預測\n",
    "predictions = classifier.predict(\n",
    "    input_fn=lambda: input_fn_pred(predict_x))\n",
    "\n",
    "# 顯示預測結果\n",
    "for pred_dict, expec in zip(predictions, expected):\n",
    "    class_id = pred_dict['class_ids'][0]\n",
    "    probability = pred_dict['probabilities'][class_id]\n",
    "\n",
    "    print('Prediction is \"{}\" ({:.1f}%), expected \"{}\"'.format(\n",
    "        SPECIES[class_id], 100 * probability, expec))"
   ]
  },
  {
   "cell_type": "code",
   "execution_count": null,
   "metadata": {},
   "outputs": [],
   "source": []
  }
 ],
 "metadata": {
  "kernelspec": {
   "display_name": "Python 3",
   "language": "python",
   "name": "python3"
  },
  "language_info": {
   "codemirror_mode": {
    "name": "ipython",
    "version": 3
   },
   "file_extension": ".py",
   "mimetype": "text/x-python",
   "name": "python",
   "nbconvert_exporter": "python",
   "pygments_lexer": "ipython3",
   "version": "3.8.3"
  }
 },
 "nbformat": 4,
 "nbformat_minor": 1
}
