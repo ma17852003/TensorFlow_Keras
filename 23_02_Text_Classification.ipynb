{
 "cells": [
  {
   "cell_type": "markdown",
   "metadata": {},
   "source": [
    "# 文字分類(Text Classification)"
   ]
  },
  {
   "cell_type": "code",
   "execution_count": 6,
   "metadata": {},
   "outputs": [
    {
     "name": "stdout",
     "output_type": "stream",
     "text": [
      "Version:  2.3.0\n",
      "Eager mode:  True\n",
      "Hub version:  0.9.0\n",
      "GPU is available\n"
     ]
    }
   ],
   "source": [
    "import numpy as np\n",
    "\n",
    "import tensorflow as tf\n",
    "import tensorflow_hub as hub\n",
    "import tensorflow_datasets as tfds\n",
    "\n",
    "import matplotlib.pyplot as plt\n",
    "\n",
    "print(\"Version: \", tf.__version__)\n",
    "print(\"Eager mode: \", tf.executing_eagerly())\n",
    "print(\"Hub version: \", hub.__version__)\n",
    "print(\"GPU is\", \"available\" if tf.config.list_physical_devices('GPU') else \"NOT AVAILABLE\")"
   ]
  },
  {
   "cell_type": "markdown",
   "metadata": {},
   "source": [
    "## 下載影評資料集(IMDB)"
   ]
  },
  {
   "cell_type": "code",
   "execution_count": 7,
   "metadata": {},
   "outputs": [
    {
     "name": "stderr",
     "output_type": "stream",
     "text": [
      "WARNING:absl:Found a different version of the requested dataset:\n",
      "C:\\Users\\mikec\\tensorflow_datasets\\imdb_reviews\\plain_text\\0.1.0\n",
      "Using C:\\Users\\mikec\\tensorflow_datasets\\imdb_reviews\\plain_text\\1.0.0 instead.\n"
     ]
    },
    {
     "name": "stdout",
     "output_type": "stream",
     "text": [
      "\u001b[1mDownloading and preparing dataset imdb_reviews/plain_text/1.0.0 (download: Unknown size, generated: Unknown size, total: Unknown size) to C:\\Users\\mikec\\tensorflow_datasets\\imdb_reviews\\plain_text\\1.0.0...\u001b[0m\n"
     ]
    },
    {
     "data": {
      "application/vnd.jupyter.widget-view+json": {
       "model_id": "bbfd1ed44b7f44d8990935161ec073fb",
       "version_major": 2,
       "version_minor": 0
      },
      "text/plain": [
       "HBox(children=(FloatProgress(value=1.0, bar_style='info', description='Dl Completed...', max=1.0, style=Progre…"
      ]
     },
     "metadata": {},
     "output_type": "display_data"
    },
    {
     "data": {
      "application/vnd.jupyter.widget-view+json": {
       "model_id": "e4c64630232b486b8c8ea14abc4e076d",
       "version_major": 2,
       "version_minor": 0
      },
      "text/plain": [
       "HBox(children=(FloatProgress(value=1.0, bar_style='info', description='Dl Size...', max=1.0, style=ProgressSty…"
      ]
     },
     "metadata": {},
     "output_type": "display_data"
    },
    {
     "name": "stdout",
     "output_type": "stream",
     "text": [
      "\n",
      "\n",
      "\n",
      "\n"
     ]
    },
    {
     "data": {
      "application/vnd.jupyter.widget-view+json": {
       "model_id": "",
       "version_major": 2,
       "version_minor": 0
      },
      "text/plain": [
       "HBox(children=(FloatProgress(value=1.0, bar_style='info', max=1.0), HTML(value='')))"
      ]
     },
     "metadata": {},
     "output_type": "display_data"
    },
    {
     "name": "stdout",
     "output_type": "stream",
     "text": [
      "Shuffling and writing examples to C:\\Users\\mikec\\tensorflow_datasets\\imdb_reviews\\plain_text\\1.0.0.incompleteYRSZR9\\imdb_reviews-train.tfrecord\n"
     ]
    },
    {
     "data": {
      "application/vnd.jupyter.widget-view+json": {
       "model_id": "28c937dd41f0417cb2d301743ae1116f",
       "version_major": 2,
       "version_minor": 0
      },
      "text/plain": [
       "HBox(children=(FloatProgress(value=0.0, max=25000.0), HTML(value='')))"
      ]
     },
     "metadata": {},
     "output_type": "display_data"
    },
    {
     "data": {
      "application/vnd.jupyter.widget-view+json": {
       "model_id": "",
       "version_major": 2,
       "version_minor": 0
      },
      "text/plain": [
       "HBox(children=(FloatProgress(value=1.0, bar_style='info', max=1.0), HTML(value='')))"
      ]
     },
     "metadata": {},
     "output_type": "display_data"
    },
    {
     "name": "stdout",
     "output_type": "stream",
     "text": [
      "Shuffling and writing examples to C:\\Users\\mikec\\tensorflow_datasets\\imdb_reviews\\plain_text\\1.0.0.incompleteYRSZR9\\imdb_reviews-test.tfrecord\n"
     ]
    },
    {
     "data": {
      "application/vnd.jupyter.widget-view+json": {
       "model_id": "8b700d86d0ec4275a59cee9ce2b323a2",
       "version_major": 2,
       "version_minor": 0
      },
      "text/plain": [
       "HBox(children=(FloatProgress(value=0.0, max=25000.0), HTML(value='')))"
      ]
     },
     "metadata": {},
     "output_type": "display_data"
    },
    {
     "data": {
      "application/vnd.jupyter.widget-view+json": {
       "model_id": "",
       "version_major": 2,
       "version_minor": 0
      },
      "text/plain": [
       "HBox(children=(FloatProgress(value=1.0, bar_style='info', max=1.0), HTML(value='')))"
      ]
     },
     "metadata": {},
     "output_type": "display_data"
    },
    {
     "name": "stdout",
     "output_type": "stream",
     "text": [
      "Shuffling and writing examples to C:\\Users\\mikec\\tensorflow_datasets\\imdb_reviews\\plain_text\\1.0.0.incompleteYRSZR9\\imdb_reviews-unsupervised.tfrecord\n"
     ]
    },
    {
     "data": {
      "application/vnd.jupyter.widget-view+json": {
       "model_id": "7214fbd8a27e4ddd920063306715cdf6",
       "version_major": 2,
       "version_minor": 0
      },
      "text/plain": [
       "HBox(children=(FloatProgress(value=0.0, max=50000.0), HTML(value='')))"
      ]
     },
     "metadata": {},
     "output_type": "display_data"
    },
    {
     "name": "stdout",
     "output_type": "stream",
     "text": [
      "\u001b[1mDataset imdb_reviews downloaded and prepared to C:\\Users\\mikec\\tensorflow_datasets\\imdb_reviews\\plain_text\\1.0.0. Subsequent calls will reuse this data.\u001b[0m\n"
     ]
    }
   ],
   "source": [
    "train_data, test_data = tfds.load(name=\"imdb_reviews\", split=[\"train\", \"test\"], \n",
    "                                  batch_size=-1, as_supervised=True)\n",
    "\n",
    "train_examples, train_labels = tfds.as_numpy(train_data)\n",
    "test_examples, test_labels = tfds.as_numpy(test_data)"
   ]
  },
  {
   "cell_type": "code",
   "execution_count": 8,
   "metadata": {},
   "outputs": [
    {
     "name": "stdout",
     "output_type": "stream",
     "text": [
      "Training entries: 25000, test entries: 25000\n"
     ]
    }
   ],
   "source": [
    "print(\"Training entries: {}, test entries: {}\".format(len(train_examples), len(test_examples)))"
   ]
  },
  {
   "cell_type": "markdown",
   "metadata": {},
   "source": [
    "## 下載 Hub 的模型 gnews-swivel-20dim"
   ]
  },
  {
   "cell_type": "code",
   "execution_count": 9,
   "metadata": {},
   "outputs": [
    {
     "data": {
      "text/plain": [
       "<tf.Tensor: shape=(3, 20), dtype=float32, numpy=\n",
       "array([[ 1.765786  , -3.882232  ,  3.9134233 , -1.5557289 , -3.3362343 ,\n",
       "        -1.7357955 , -1.9954445 ,  1.2989551 ,  5.081598  , -1.1041286 ,\n",
       "        -2.0503852 , -0.72675157, -0.65675956,  0.24436149, -3.7208383 ,\n",
       "         2.0954835 ,  2.2969332 , -2.0689783 , -2.9489717 , -1.1315987 ],\n",
       "       [ 1.8804485 , -2.5852382 ,  3.4066997 ,  1.0982676 , -4.056685  ,\n",
       "        -4.891284  , -2.785554  ,  1.3874227 ,  3.8476458 , -0.9256538 ,\n",
       "        -1.896706  ,  1.2113281 ,  0.11474707,  0.76209456, -4.8791065 ,\n",
       "         2.906149  ,  4.7087674 , -2.3652055 , -3.5015898 , -1.6390051 ],\n",
       "       [ 0.71152234, -0.6353217 ,  1.7385626 , -1.1168286 , -0.5451594 ,\n",
       "        -1.1808156 ,  0.09504455,  1.4653089 ,  0.66059524,  0.79308075,\n",
       "        -2.2268345 ,  0.07446612, -1.4075904 , -0.70645386, -1.907037  ,\n",
       "         1.4419787 ,  1.9551861 , -0.42660055, -2.8022065 ,  0.43727064]],\n",
       "      dtype=float32)>"
      ]
     },
     "execution_count": 9,
     "metadata": {},
     "output_type": "execute_result"
    }
   ],
   "source": [
    "# gnews-swivel-20dim：Token based text embedding trained on English Google News 130GB corpus\n",
    "model = \"https://tfhub.dev/google/tf2-preview/gnews-swivel-20dim/1\"\n",
    "hub_layer = hub.KerasLayer(model, output_shape=[20], input_shape=[], \n",
    "                           dtype=tf.string, trainable=True)\n",
    "hub_layer(train_examples[:3])"
   ]
  },
  {
   "cell_type": "markdown",
   "metadata": {},
   "source": [
    "## 建立模型，Hub 模型後面接完全連接層(Dense) "
   ]
  },
  {
   "cell_type": "code",
   "execution_count": 10,
   "metadata": {},
   "outputs": [
    {
     "name": "stdout",
     "output_type": "stream",
     "text": [
      "Model: \"sequential\"\n",
      "_________________________________________________________________\n",
      "Layer (type)                 Output Shape              Param #   \n",
      "=================================================================\n",
      "keras_layer (KerasLayer)     (None, 20)                400020    \n",
      "_________________________________________________________________\n",
      "dense (Dense)                (None, 16)                336       \n",
      "_________________________________________________________________\n",
      "dense_1 (Dense)              (None, 1)                 17        \n",
      "=================================================================\n",
      "Total params: 400,373\n",
      "Trainable params: 400,373\n",
      "Non-trainable params: 0\n",
      "_________________________________________________________________\n"
     ]
    }
   ],
   "source": [
    "model = tf.keras.Sequential()\n",
    "model.add(hub_layer)\n",
    "model.add(tf.keras.layers.Dense(16, activation='relu'))\n",
    "model.add(tf.keras.layers.Dense(1))\n",
    "\n",
    "model.summary()"
   ]
  },
  {
   "cell_type": "code",
   "execution_count": 11,
   "metadata": {},
   "outputs": [],
   "source": [
    "model.compile(optimizer='adam',\n",
    "              loss=tf.losses.BinaryCrossentropy(from_logits=True),\n",
    "              metrics=[tf.metrics.BinaryAccuracy(threshold=0.0, name='accuracy')])"
   ]
  },
  {
   "cell_type": "markdown",
   "metadata": {},
   "source": [
    "## 建立訓練資料及驗證資料"
   ]
  },
  {
   "cell_type": "code",
   "execution_count": 12,
   "metadata": {},
   "outputs": [],
   "source": [
    "x_val = train_examples[:10000]\n",
    "partial_x_train = train_examples[10000:]\n",
    "\n",
    "y_val = train_labels[:10000]\n",
    "partial_y_train = train_labels[10000:]"
   ]
  },
  {
   "cell_type": "markdown",
   "metadata": {},
   "source": [
    "## 訓練模型"
   ]
  },
  {
   "cell_type": "code",
   "execution_count": 13,
   "metadata": {
    "scrolled": false
   },
   "outputs": [
    {
     "name": "stdout",
     "output_type": "stream",
     "text": [
      "Epoch 1/40\n",
      "30/30 [==============================] - 2s 55ms/step - loss: 2.3770 - accuracy: 0.5055 - val_loss: 1.1486 - val_accuracy: 0.5357\n",
      "Epoch 2/40\n",
      "30/30 [==============================] - 1s 50ms/step - loss: 0.8176 - accuracy: 0.5667 - val_loss: 0.7419 - val_accuracy: 0.5678\n",
      "Epoch 3/40\n",
      "30/30 [==============================] - 1s 49ms/step - loss: 0.7100 - accuracy: 0.5939 - val_loss: 0.6924 - val_accuracy: 0.6033\n",
      "Epoch 4/40\n",
      "30/30 [==============================] - 1s 49ms/step - loss: 0.6670 - accuracy: 0.6191 - val_loss: 0.6589 - val_accuracy: 0.6280\n",
      "Epoch 5/40\n",
      "30/30 [==============================] - 1s 50ms/step - loss: 0.6309 - accuracy: 0.6498 - val_loss: 0.6266 - val_accuracy: 0.6565\n",
      "Epoch 6/40\n",
      "30/30 [==============================] - 1s 50ms/step - loss: 0.5941 - accuracy: 0.6861 - val_loss: 0.5924 - val_accuracy: 0.6870\n",
      "Epoch 7/40\n",
      "30/30 [==============================] - 1s 49ms/step - loss: 0.5543 - accuracy: 0.7237 - val_loss: 0.5569 - val_accuracy: 0.7216\n",
      "Epoch 8/40\n",
      "30/30 [==============================] - 1s 50ms/step - loss: 0.5157 - accuracy: 0.7587 - val_loss: 0.5231 - val_accuracy: 0.7534\n",
      "Epoch 9/40\n",
      "30/30 [==============================] - 2s 50ms/step - loss: 0.4798 - accuracy: 0.7904 - val_loss: 0.4926 - val_accuracy: 0.7750\n",
      "Epoch 10/40\n",
      "30/30 [==============================] - 1s 50ms/step - loss: 0.4465 - accuracy: 0.8142 - val_loss: 0.4655 - val_accuracy: 0.7944\n",
      "Epoch 11/40\n",
      "30/30 [==============================] - 1s 49ms/step - loss: 0.4150 - accuracy: 0.8341 - val_loss: 0.4400 - val_accuracy: 0.8085\n",
      "Epoch 12/40\n",
      "30/30 [==============================] - 1s 49ms/step - loss: 0.3862 - accuracy: 0.8470 - val_loss: 0.4178 - val_accuracy: 0.8180\n",
      "Epoch 13/40\n",
      "30/30 [==============================] - 1s 49ms/step - loss: 0.3592 - accuracy: 0.8618 - val_loss: 0.3971 - val_accuracy: 0.8326\n",
      "Epoch 14/40\n",
      "30/30 [==============================] - 1s 49ms/step - loss: 0.3344 - accuracy: 0.8740 - val_loss: 0.3795 - val_accuracy: 0.8399\n",
      "Epoch 15/40\n",
      "30/30 [==============================] - 1s 49ms/step - loss: 0.3117 - accuracy: 0.8833 - val_loss: 0.3641 - val_accuracy: 0.8473\n",
      "Epoch 16/40\n",
      "30/30 [==============================] - 1s 49ms/step - loss: 0.2907 - accuracy: 0.8918 - val_loss: 0.3519 - val_accuracy: 0.8541\n",
      "Epoch 17/40\n",
      "30/30 [==============================] - 1s 49ms/step - loss: 0.2716 - accuracy: 0.9007 - val_loss: 0.3428 - val_accuracy: 0.8579\n",
      "Epoch 18/40\n",
      "30/30 [==============================] - 1s 49ms/step - loss: 0.2543 - accuracy: 0.9087 - val_loss: 0.3299 - val_accuracy: 0.8599\n",
      "Epoch 19/40\n",
      "30/30 [==============================] - 1s 49ms/step - loss: 0.2387 - accuracy: 0.9161 - val_loss: 0.3215 - val_accuracy: 0.8649\n",
      "Epoch 20/40\n",
      "30/30 [==============================] - 1s 49ms/step - loss: 0.2243 - accuracy: 0.9227 - val_loss: 0.3165 - val_accuracy: 0.8698\n",
      "Epoch 21/40\n",
      "30/30 [==============================] - 1s 49ms/step - loss: 0.2108 - accuracy: 0.9287 - val_loss: 0.3098 - val_accuracy: 0.8726\n",
      "Epoch 22/40\n",
      "30/30 [==============================] - 1s 49ms/step - loss: 0.1983 - accuracy: 0.9340 - val_loss: 0.3055 - val_accuracy: 0.8750\n",
      "Epoch 23/40\n",
      "30/30 [==============================] - 1s 49ms/step - loss: 0.1866 - accuracy: 0.9388 - val_loss: 0.3017 - val_accuracy: 0.8758\n",
      "Epoch 24/40\n",
      "30/30 [==============================] - 1s 49ms/step - loss: 0.1764 - accuracy: 0.9422 - val_loss: 0.2987 - val_accuracy: 0.8772\n",
      "Epoch 25/40\n",
      "30/30 [==============================] - 1s 49ms/step - loss: 0.1664 - accuracy: 0.9460 - val_loss: 0.2978 - val_accuracy: 0.8769\n",
      "Epoch 26/40\n",
      "30/30 [==============================] - 1s 49ms/step - loss: 0.1567 - accuracy: 0.9505 - val_loss: 0.2956 - val_accuracy: 0.8801\n",
      "Epoch 27/40\n",
      "30/30 [==============================] - 1s 49ms/step - loss: 0.1483 - accuracy: 0.9539 - val_loss: 0.2967 - val_accuracy: 0.8800\n",
      "Epoch 28/40\n",
      "30/30 [==============================] - 2s 50ms/step - loss: 0.1401 - accuracy: 0.9573 - val_loss: 0.2951 - val_accuracy: 0.8815\n",
      "Epoch 29/40\n",
      "30/30 [==============================] - 1s 49ms/step - loss: 0.1322 - accuracy: 0.9611 - val_loss: 0.2958 - val_accuracy: 0.8817\n",
      "Epoch 30/40\n",
      "30/30 [==============================] - 1s 49ms/step - loss: 0.1249 - accuracy: 0.9638 - val_loss: 0.2970 - val_accuracy: 0.8825\n",
      "Epoch 31/40\n",
      "30/30 [==============================] - 1s 49ms/step - loss: 0.1180 - accuracy: 0.9666 - val_loss: 0.2985 - val_accuracy: 0.8821\n",
      "Epoch 32/40\n",
      "30/30 [==============================] - 1s 49ms/step - loss: 0.1116 - accuracy: 0.9693 - val_loss: 0.3006 - val_accuracy: 0.8819\n",
      "Epoch 33/40\n",
      "30/30 [==============================] - 2s 50ms/step - loss: 0.1053 - accuracy: 0.9713 - val_loss: 0.3033 - val_accuracy: 0.8803\n",
      "Epoch 34/40\n",
      "30/30 [==============================] - 2s 50ms/step - loss: 0.0996 - accuracy: 0.9736 - val_loss: 0.3055 - val_accuracy: 0.8799\n",
      "Epoch 35/40\n",
      "30/30 [==============================] - 1s 49ms/step - loss: 0.0939 - accuracy: 0.9761 - val_loss: 0.3085 - val_accuracy: 0.8791\n",
      "Epoch 36/40\n",
      "30/30 [==============================] - 1s 49ms/step - loss: 0.0889 - accuracy: 0.9785 - val_loss: 0.3122 - val_accuracy: 0.8804\n",
      "Epoch 37/40\n",
      "30/30 [==============================] - 1s 49ms/step - loss: 0.0840 - accuracy: 0.9799 - val_loss: 0.3174 - val_accuracy: 0.8778\n",
      "Epoch 38/40\n",
      "30/30 [==============================] - 2s 50ms/step - loss: 0.0796 - accuracy: 0.9815 - val_loss: 0.3195 - val_accuracy: 0.8775\n",
      "Epoch 39/40\n",
      "30/30 [==============================] - 1s 49ms/step - loss: 0.0753 - accuracy: 0.9831 - val_loss: 0.3233 - val_accuracy: 0.8793\n",
      "Epoch 40/40\n",
      "30/30 [==============================] - 1s 49ms/step - loss: 0.0712 - accuracy: 0.9850 - val_loss: 0.3291 - val_accuracy: 0.8757\n"
     ]
    }
   ],
   "source": [
    "history = model.fit(partial_x_train,\n",
    "                    partial_y_train,\n",
    "                    epochs=40,\n",
    "                    batch_size=512,\n",
    "                    validation_data=(x_val, y_val),\n",
    "                    verbose=1)"
   ]
  },
  {
   "cell_type": "markdown",
   "metadata": {},
   "source": [
    "## 模型評估"
   ]
  },
  {
   "cell_type": "code",
   "execution_count": 14,
   "metadata": {},
   "outputs": [
    {
     "name": "stdout",
     "output_type": "stream",
     "text": [
      "782/782 [==============================] - 3s 4ms/step - loss: 0.3523 - accuracy: 0.8630\n",
      "[0.3523283302783966, 0.8629599809646606]\n"
     ]
    }
   ],
   "source": [
    "results = model.evaluate(test_data, test_labels)\n",
    "\n",
    "print(results)"
   ]
  },
  {
   "cell_type": "markdown",
   "metadata": {},
   "source": [
    "## 繪製訓練過程的損失"
   ]
  },
  {
   "cell_type": "code",
   "execution_count": 16,
   "metadata": {},
   "outputs": [
    {
     "data": {
      "image/png": "[encoded data removed]",
      "text/plain": [
       "<Figure size 432x288 with 1 Axes>"
      ]
     },
     "metadata": {
      "needs_background": "light"
     },
     "output_type": "display_data"
    }
   ],
   "source": [
    "history_dict = history.history\n",
    "acc = history_dict['accuracy']\n",
    "val_acc = history_dict['val_accuracy']\n",
    "loss = history_dict['loss']\n",
    "val_loss = history_dict['val_loss']\n",
    "\n",
    "epochs = range(1, len(acc) + 1)\n",
    "\n",
    "# \"bo\" is for \"blue dot\"\n",
    "plt.plot(epochs, loss, 'bo', label='Training loss')\n",
    "# b is for \"solid blue line\"\n",
    "plt.plot(epochs, val_loss, 'b', label='Validation loss')\n",
    "plt.title('Training and validation loss')\n",
    "plt.xlabel('Epochs')\n",
    "plt.ylabel('Loss')\n",
    "plt.legend()\n",
    "\n",
    "plt.show()"
   ]
  },
  {
   "cell_type": "markdown",
   "metadata": {},
   "source": [
    "## 繪製訓練過程的準確率"
   ]
  },
  {
   "cell_type": "code",
   "execution_count": 17,
   "metadata": {},
   "outputs": [
    {
     "data": {
      "image/png": "[encoded data removed]",
      "text/plain": [
       "<Figure size 432x288 with 1 Axes>"
      ]
     },
     "metadata": {
      "needs_background": "light"
     },
     "output_type": "display_data"
    }
   ],
   "source": [
    "plt.clf()   # clear figure\n",
    "\n",
    "plt.plot(epochs, acc, 'bo', label='Training acc')\n",
    "plt.plot(epochs, val_acc, 'b', label='Validation acc')\n",
    "plt.title('Training and validation accuracy')\n",
    "plt.xlabel('Epochs')\n",
    "plt.ylabel('Accuracy')\n",
    "plt.legend()\n",
    "\n",
    "plt.show()"
   ]
  },
  {
   "cell_type": "markdown",
   "metadata": {},
   "source": [
    "## 預測10筆資料"
   ]
  },
  {
   "cell_type": "code",
   "execution_count": 34,
   "metadata": {},
   "outputs": [
    {
     "name": "stdout",
     "output_type": "stream",
     "text": [
      "預測,  實際 : b\"They just don't make cartoons like they used to. This one had wit, great characters, and the great\n",
      "1   , 0    : b\"Lots of scenes and dialogue are flat-out goofy, but when you add it all up, i.e. Machine's daily c\n",
      "0   , 1    : b\"This movie started out as a quite decent-looking film but it never really kicked off, instead it b\n",
      "1   , 1    : b\"NBC was putting out a lot of good product when this series came out, but none of it was getting vi\n",
      "1   , 0    : b\"I've felt that Rupert Grint has a lot of promise from that role by which everyone knows him. So ev\n",
      "1   , 0    : b\"I think the problem with this show not getting the respect it truly deserves is that it comes afte\n",
      "0   , 0    : b\"Feeling Minnesota is not really a road movie, but that's still the best categorization I can gener\n",
      "1   , 1    : b'This is, without doubt, one of my favourite horror films ever! I really cannot believe that it did\n",
      "0   , 0    : b\"Most predicable movie I've ever seen...extremely boring, I feel like I've seen a hundred movies wi\n",
      "1   , 0    : b\"It's exactly what I expected from it. Relaxing, humorous and entertaining. The acting couple was a\n",
      "1   , 1    : b\"They just don't make cartoons like they used to. This one had wit, great characters, and the great\n"
     ]
    }
   ],
   "source": [
    "samples = test_examples[-10:]\n",
    "pred = model.predict_classes([samples])\n",
    "print(f'預測,  實際 : {str(x)[:100]}')\n",
    "for y_pred, y, x in zip(pred, train_labels[-10:], samples):\n",
    "    print(f'{y_pred[0]}   , {y}    : {str(x)[:100]}')\n"
   ]
  },
  {
   "cell_type": "code",
   "execution_count": null,
   "metadata": {},
   "outputs": [],
   "source": []
  }
 ],
 "metadata": {
  "kernelspec": {
   "display_name": "Python 3",
   "language": "python",
   "name": "python3"
  },
  "language_info": {
   "codemirror_mode": {
    "name": "ipython",
    "version": 3
   },
   "file_extension": ".py",
   "mimetype": "text/x-python",
   "name": "python",
   "nbconvert_exporter": "python",
   "pygments_lexer": "ipython3",
   "version": "3.8.3"
  }
 },
 "nbformat": 4,
 "nbformat_minor": 4
}
